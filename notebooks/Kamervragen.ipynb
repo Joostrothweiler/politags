{
 "cells": [
  {
   "cell_type": "code",
   "execution_count": 100,
   "metadata": {},
   "outputs": [],
   "source": [
    "import json\n",
    "import numpy as np\n",
    "\n",
    "import re\n",
    "import matplotlib.pyplot as plt\n",
    "\n",
    "from sklearn.feature_extraction.text import TfidfVectorizer\n",
    "from sklearn.feature_extraction.text import CountVectorizer\n",
    "from sklearn.model_selection import train_test_split\n",
    "from sklearn.metrics import accuracy_score\n",
    "from sklearn.preprocessing import MultiLabelBinarizer\n",
    "from sklearn.multiclass import OneVsRestClassifier\n",
    "from sklearn.metrics import confusion_matrix\n",
    "from sklearn.ensemble import VotingClassifier\n",
    "\n",
    "from collections import Counter\n",
    "\n",
    "from sklearn.svm import SVC\n",
    "from sklearn.linear_model import SGDClassifier\n",
    "\n",
    "from sklearn.model_selection import learning_curve\n",
    "from sklearn.model_selection import ShuffleSplit\n",
    "\n",
    "from sklearn import metrics"
   ]
  },
  {
   "cell_type": "code",
   "execution_count": 101,
   "metadata": {},
   "outputs": [
    {
     "name": "stdout",
     "output_type": "stream",
     "text": [
      "28286\n",
      "28286\n"
     ]
    }
   ],
   "source": [
    "file = '../data_resources/topics/kamerstukken/kamerstukken_topics_first.json'\n",
    "data_first = json.load(open(file))\n",
    "\n",
    "file = '../data_resources/topics/kamerstukken/kamerstukken_topics_second.json'\n",
    "data_second = json.load(open(file))\n",
    "\n",
    "corpus = []\n",
    "y = []\n",
    "\n",
    "\n",
    "for obj in data_first:\n",
    "    if not obj['category'] == 'NOCAT' and not obj['content'] == 'NOCONTENT':\n",
    "        corpus.append(obj['content'])\n",
    "        y.append(obj['category'])\n",
    "        \n",
    "for obj in data_second:\n",
    "    if not obj['category'] == 'NOCAT' and not obj['content'] == 'NOCONTENT':\n",
    "        corpus.append(obj['content'])\n",
    "        y.append(obj['category'])\n",
    "\n",
    "print(len(corpus))\n",
    "print(len(y))"
   ]
  },
  {
   "cell_type": "code",
   "execution_count": 126,
   "metadata": {},
   "outputs": [],
   "source": [
    "import unicodedata\n",
    "\n",
    "\n",
    "def slugify(name):\n",
    "    name = name.lower()\n",
    "    name = name.replace(\" \", \"-\")\n",
    "    name = name.replace(\"'\", \"\")\n",
    "    normal = unicodedata.normalize('NFKD', name).encode('ASCII', 'ignore')\n",
    "    return normal\n",
    "\n",
    "# for obj in topics:\n",
    "#     [main, sub] = obj.split(\" | \")\n",
    "    \n",
    "#     main_slug = slugify(main)\n",
    "    \n",
    "#     main_topic_object = {'name' : main, 'slug' : main_slug, 'sub' : []}\n",
    "    \n",
    "#     for obj2 in topics:\n",
    "#         [main2, sub2] = obj2.split(\" | \")\n",
    "        \n",
    "#         if main2 == main:\n",
    "#             main_topic_object['sub'].append({'name' : sub2, 'slug' : slugify(sub2)})\n",
    "            \n",
    "#     if main_topic_object not in topics_json_result:\n",
    "#         topics_json_result.append(main_topic_object)\n",
    "    \n",
    "    \n",
    "# for main in topics_json_result:\n",
    "#     print(main['slug'])\n",
    "#     print(main['name'])\n",
    "    \n",
    "#     for sub in main['sub']:\n",
    "#         print('-- {}'.format(sub['slug']))\n",
    "topics_json = []\n",
    "\n",
    "for obj in topics:\n",
    "    if not obj in topics_json:\n",
    "        topics_json.append(obj)\n",
    "\n",
    "# print(topics_json)\n",
    "with open('../data_resources/topics/kamerstukken/kamerstukken_topics_simple.json', 'w') as outfile:\n",
    "    json.dump({'topics' : topics_json}, outfile)\n",
    "    "
   ]
  },
  {
   "cell_type": "code",
   "execution_count": 118,
   "metadata": {},
   "outputs": [],
   "source": [
    "from nltk.stem.snowball import SnowballStemmer\n",
    "from nltk.stem.porter import PorterStemmer\n",
    "\n",
    "# st = SnowballStemmer(language='dutch')\n",
    "st = PorterStemmer()\n",
    "\n",
    "def pre_process(document):\n",
    "    document = document.lower()\n",
    "    words = document.split(' ')\n",
    "    new_words = []\n",
    "    for word in words:\n",
    "        if not '_' in word:\n",
    "            new_words.append(st.stem(word))\n",
    "\n",
    "    document = \" \".join(new_words)\n",
    "    \n",
    "    pattern = re.compile('http[s]?://(?:[a-zA-Z]|[0-9]|[$-_@.&+]|[!*\\(\\),]|(?:%[0-9a-fA-F][0-9a-fA-F]))+')\n",
    "    document = pattern.sub('', document)\n",
    "    return re.sub('[0-9]+', '', document)\n",
    "\n",
    "transformer = TfidfVectorizer(smooth_idf=True, min_df=0.00000001, max_df=0.2, sublinear_tf=True)"
   ]
  },
  {
   "cell_type": "code",
   "execution_count": 119,
   "metadata": {},
   "outputs": [
    {
     "name": "stdout",
     "output_type": "stream",
     "text": [
      "Zilveren Kruis Achmea dat Arkin «zelf verantwoordelijkheid moet nemen»? Wat bedoelt zij daarmee? 3 Vraag 7 Hoe kan een zorginstelling nog voldoen aan een zorgplicht als zij niet zeker is dat de zorgverzekeraar ook daadwerkelijk de gemaakte afspraken voor vergoeding nakomt? Erkent u dat op deze wijze zorgverzekeraars op ontoelaatbare wijze zorgvergoeding tot bedrijfsrisico maken van zorginstellingen? Kunt u uw antwoord toelichten? Vraag 8 Kunt u uitleggen hoe het mogelijk is dat er afdoende budget is voor de geestelijke gezondheidszorg (GGZ), maar dat zorgverzekeraars dit budget zo verdelen dat er wachtlijsten zijn en budget over? Vindt u ook dat wederom blijkt dat de verdeling van het budget niet aan zorgverzekeraars kan worden overgelaten? Wat gaat u doen om dit op te lossen? Kunt u dit toelichten? 4 Vraag 9 Kunt u uitleggen wat er maatschappelijk is aan het gesol Zilveren Kruis Achmea met de zwakste ggz-patiënten, waarbij een goede ondersteuning van cruciaal belang is voor het welzijn van de patiënt en het beperken van (maatschappelijke) overlast door de patiënt? Vraag 10 Erkent u dat er een groot risico is op onderbehandeling van patiënten met ernstige psychische aandoeningen in Amsterdam en andere grote steden, als Zilveren Kruis Achmea blijft weigeren de kosten te vergoeden? Realiseert u zich dat onderbehandeling leidt tot terugkerende crises en daarmee het herstel van een patiënt belemmert en leidt tot onnodig leed en een langer durend ziekteproces\n",
      "zilveren krui achmea dat arkin «zelf verantwoordelijkheid moet nemen»? wat bedoelt zij daarmee?  vraag  hoe kan een zorginstel nog voldoen aan een zorgplicht al zij niet zeker is dat de zorgverzekeraar ook daadwerkelijk de gemaakt afspraken voor vergoed nakomt? erkent u dat op deze wijz zorgverzekeraar op ontoelaatbar wijz zorgvergoed tot bedrijfsrisico maken van zorginstellingen? kunt u uw antwoord toelichten? vraag  kunt u uitleggen hoe het mogelijk is dat er afdoend budget is voor de geestelijk gezondheidszorg (ggz), maar dat zorgverzekeraar dit budget zo verdelen dat er wachtlijsten zijn en budget over? vindt u ook dat wederom blijkt dat de verdel van het budget niet aan zorgverzekeraar kan worden overgelaten? wat gaat u doen om dit op te lossen? kunt u dit toelichten?  vraag  kunt u uitleggen wat er maatschappelijk is aan het gesol zilveren krui achmea met de zwakst ggz-patiënten, waarbij een goed ondersteun van cruciaal belang is voor het welzijn van de patiënt en het beperken van (maatschappelijke) overlast door de patiënt? vraag  erkent u dat er een groot risico is op onderbehandel van patiënten met ernstig psychisch aandoeningen in amsterdam en ander grote steden, al zilveren krui achmea blijft weigeren de kosten te vergoeden? realiseert u zich dat onderbehandel leidt tot terugkerend crise en daarme het herstel van een patiënt belemmert en leidt tot onnodig leed en een langer durend ziekteproc\n"
     ]
    }
   ],
   "source": [
    "a = 'Zilveren Kruis Achmea dat Arkin \\u00abzelf verantwoordelijkheid moet nemen\\u00bb? Wat bedoelt zij daarmee? 3 Vraag 7 Hoe kan een zorginstelling nog voldoen aan een zorgplicht als zij niet zeker is dat de zorgverzekeraar ook daadwerkelijk de gemaakte afspraken voor vergoeding nakomt? Erkent u dat op deze wijze zorgverzekeraars op ontoelaatbare wijze zorgvergoeding tot bedrijfsrisico maken van zorginstellingen? Kunt u uw antwoord toelichten? Vraag 8 Kunt u uitleggen hoe het mogelijk is dat er afdoende budget is voor de geestelijke gezondheidszorg (GGZ), maar dat zorgverzekeraars dit budget zo verdelen dat er wachtlijsten zijn en budget over? Vindt u ook dat wederom blijkt dat de verdeling van het budget niet aan zorgverzekeraars kan worden overgelaten? Wat gaat u doen om dit op te lossen? Kunt u dit toelichten? 4 Vraag 9 Kunt u uitleggen wat er maatschappelijk is aan het gesol Zilveren Kruis Achmea met de zwakste ggz-pati\\u00ebnten, waarbij een goede ondersteuning van cruciaal belang is voor het welzijn van de pati\\u00ebnt en het beperken van (maatschappelijke) overlast door de pati\\u00ebnt? Vraag 10 Erkent u dat er een groot risico is op onderbehandeling van pati\\u00ebnten met ernstige psychische aandoeningen in Amsterdam en andere grote steden, als Zilveren Kruis Achmea blijft weigeren de kosten te vergoeden? Realiseert u zich dat onderbehandeling leidt tot terugkerende crises en daarmee het herstel van een pati\\u00ebnt belemmert en leidt tot onnodig leed en een langer durend ziekteproces'\n",
    "b = pre_process(a)\n",
    "\n",
    "print(a)\n",
    "print(b)"
   ]
  },
  {
   "cell_type": "code",
   "execution_count": 120,
   "metadata": {},
   "outputs": [
    {
     "name": "stdout",
     "output_type": "stream",
     "text": [
      "(22628, 148923)\n",
      "(5658,)\n"
     ]
    }
   ],
   "source": [
    "X_train_corpus, X_test_corpus, y_train, y_test = train_test_split(corpus, y, test_size=0.2, random_state=42)\n",
    "\n",
    "X_train = transformer.fit_transform(X_train_corpus)\n",
    "X_test = transformer.transform(X_test_corpus)\n",
    "\n",
    "print(np.shape(X_train))\n",
    "print(np.shape(y_test))"
   ]
  },
  {
   "cell_type": "code",
   "execution_count": 121,
   "metadata": {},
   "outputs": [
    {
     "name": "stdout",
     "output_type": "stream",
     "text": [
      "CPU times: user 49.9 s, sys: 16 ms, total: 49.9 s\n",
      "Wall time: 49.9 s\n",
      "CPU times: user 308 ms, sys: 1 µs, total: 308 ms\n",
      "Wall time: 307 ms\n",
      "111\n",
      "0.7790738776952987\n"
     ]
    }
   ],
   "source": [
    "clf = SGDClassifier(loss='log', penalty='l1', alpha=1e-6, random_state=42, max_iter=10, tol=None)\n",
    "%time clf = OneVsRestClassifier(clf).fit(X_train, y_train)\n",
    "\n",
    "%time y_pred = clf.predict(X_test)\n",
    "\n",
    "proba = clf.predict_proba(X_test[0])\n",
    "print(len(proba[0]))\n",
    "\n",
    "score = accuracy_score(y_test, y_pred)\n",
    "\n",
    "print(score)"
   ]
  },
  {
   "cell_type": "code",
   "execution_count": 2,
   "metadata": {},
   "outputs": [
    {
     "ename": "NameError",
     "evalue": "name 'tranformer' is not defined",
     "output_type": "error",
     "traceback": [
      "\u001b[0;31m---------------------------------------------------------------------------\u001b[0m",
      "\u001b[0;31mNameError\u001b[0m                                 Traceback (most recent call last)",
      "\u001b[0;32m<ipython-input-2-7c6db16f40af>\u001b[0m in \u001b[0;36m<module>\u001b[0;34m()\u001b[0m\n\u001b[1;32m      1\u001b[0m \u001b[0;31m# transformer.get_feature_names()\u001b[0m\u001b[0;34m\u001b[0m\u001b[0;34m\u001b[0m\u001b[0m\n\u001b[0;32m----> 2\u001b[0;31m \u001b[0mtranformer\u001b[0m\u001b[0;34m.\u001b[0m\u001b[0mget_stop_words\u001b[0m\u001b[0;34m(\u001b[0m\u001b[0;34m)\u001b[0m\u001b[0;34m\u001b[0m\u001b[0m\n\u001b[0m",
      "\u001b[0;31mNameError\u001b[0m: name 'tranformer' is not defined"
     ]
    }
   ],
   "source": [
    "# transformer.get_feature_names()\n",
    "tranformer.get_stop_words()"
   ]
  },
  {
   "cell_type": "code",
   "execution_count": 140,
   "metadata": {},
   "outputs": [],
   "source": [
    "pickle.dump( clf, open(\"../app/modules/enrichment/topics/models/classifier_kamerstukken.sav\", 'wb') )\n",
    "pickle.dump( transformer, open(\"../app/modules/enrichment/topics/models/transformer_kamerstukken.sav\", 'wb') )"
   ]
  },
  {
   "cell_type": "code",
   "execution_count": 63,
   "metadata": {},
   "outputs": [],
   "source": [
    "def plot_learning_curve(estimator, title, X, y, ylim=None, cv=None,\n",
    "                        n_jobs=1, train_sizes=np.linspace(.1, 1.0, 10)):\n",
    "    plt.figure()\n",
    "    plt.title(title)\n",
    "    if ylim is not None:\n",
    "        plt.ylim(*ylim)\n",
    "    plt.xlabel(\"Training examples\")\n",
    "    plt.ylabel(\"Score\")\n",
    "    \n",
    "    train_sizes, train_scores, test_scores = learning_curve(\n",
    "        estimator, X, y, cv=cv, n_jobs=n_jobs, train_sizes=train_sizes)\n",
    "    train_scores_mean = np.mean(train_scores, axis=1)\n",
    "    train_scores_std = np.std(train_scores, axis=1)\n",
    "    test_scores_mean = np.mean(test_scores, axis=1)\n",
    "    test_scores_std = np.std(test_scores, axis=1)\n",
    "    plt.grid()\n",
    "\n",
    "    plt.fill_between(train_sizes, train_scores_mean - train_scores_std,\n",
    "                     train_scores_mean + train_scores_std, alpha=0.1,\n",
    "                     color=\"r\")\n",
    "    plt.fill_between(train_sizes, test_scores_mean - test_scores_std,\n",
    "                     test_scores_mean + test_scores_std, alpha=0.1, color=\"g\")\n",
    "    plt.plot(train_sizes, train_scores_mean, 'o-', color=\"r\",\n",
    "             label=\"Training score\")\n",
    "    plt.plot(train_sizes, test_scores_mean, 'o-', color=\"g\",\n",
    "             label=\"Cross-validation score\")\n",
    "\n",
    "    plt.legend(loc=\"best\")\n",
    "    return plt"
   ]
  },
  {
   "cell_type": "code",
   "execution_count": 64,
   "metadata": {},
   "outputs": [
    {
     "data": {
      "text/plain": [
       "<module 'matplotlib.pyplot' from '/home/rothweiler/.local/lib/python3.6/site-packages/matplotlib/pyplot.py'>"
      ]
     },
     "execution_count": 64,
     "metadata": {},
     "output_type": "execute_result"
    },
    {
     "data": {
      "image/png": "[encoded data removed]",
      "text/plain": [
       "<matplotlib.figure.Figure at 0x7fda93d91390>"
      ]
     },
     "metadata": {},
     "output_type": "display_data"
    }
   ],
   "source": [
    "title = \"Learning Curves\"\n",
    "# Cross validation with 100 iterations to get smoother mean test and train\n",
    "# score curves, each time with 20% data randomly selected as a validation set.\n",
    "cv = ShuffleSplit(n_splits=1, test_size=0.2, random_state=0)\n",
    "\n",
    "X = transformer.fit_transform(corpus)\n",
    "plot_learning_curve(clf, title, X, y, ylim=(0.4, 1.01), cv=cv, n_jobs=1)"
   ]
  },
  {
   "cell_type": "code",
   "execution_count": null,
   "metadata": {},
   "outputs": [],
   "source": []
  }
 ],
 "metadata": {
  "kernelspec": {
   "display_name": "Python 3",
   "language": "python",
   "name": "python3"
  },
  "language_info": {
   "codemirror_mode": {
    "name": "ipython",
    "version": 3
   },
   "file_extension": ".py",
   "mimetype": "text/x-python",
   "name": "python",
   "nbconvert_exporter": "python",
   "pygments_lexer": "ipython3",
   "version": "3.6.3"
  }
 },
 "nbformat": 4,
 "nbformat_minor": 2
}
