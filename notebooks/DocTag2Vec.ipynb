{
 "cells": [
  {
   "cell_type": "markdown",
   "metadata": {},
   "source": [
    "Code is based on [The following example](http://sujitpal.blogspot.nl/2016/04/predicting-movie-tags-from-plots-using.html)"
   ]
  },
  {
   "cell_type": "code",
   "execution_count": 84,
   "metadata": {},
   "outputs": [],
   "source": [
    "import gensim\n",
    "import json\n",
    "from random import shuffle\n",
    "import numpy as np"
   ]
  },
  {
   "cell_type": "code",
   "execution_count": 140,
   "metadata": {},
   "outputs": [],
   "source": [
    "def construct_topic_knowledge(fname):\n",
    "    file = '../data_resources/topics/{}.json'.format(fname)\n",
    "    data = json.load(open(file))\n",
    "    \n",
    "    topics = {}\n",
    "    \n",
    "    for obj in data:\n",
    "        main = obj['main_topic']\n",
    "        sub = obj['sub_topic']\n",
    "        \n",
    "        if not main in topics:\n",
    "            topics[main] = []\n",
    "        \n",
    "        if not sub in topics[main]:\n",
    "            topics[main].append(sub)\n",
    "    \n",
    "    return topics\n",
    "        \n",
    "\n",
    "def read_corpus(fname, tokens_only=False, topic_type='sub_topic'):\n",
    "    file = '../data_resources/topics/{}.json'.format(fname)\n",
    "    data = json.load(open(file))\n",
    "    \n",
    "    for obj in data:\n",
    "        if tokens_only:\n",
    "            yield gensim.utils.simple_preprocess(obj['content'])\n",
    "        else:\n",
    "            yield gensim.models.doc2vec.TaggedDocument(gensim.utils.simple_preprocess(obj['content']), [obj[topic_type]])\n",
    "            \n",
    "    \n",
    "def tokenize_text(text):\n",
    "    tokens = []\n",
    "    for sent in nltk.sent_tokenize(text):\n",
    "        for word in nltk.word_tokenize(sent):\n",
    "            if len(word) < 2:\n",
    "                continue\n",
    "            tokens.append(word.lower())\n",
    "    return tokens\n",
    "    \n",
    "def tokenize_tags(label):\n",
    "    tags = label.split(\"::\")\n",
    "    tags = map(lambda tok: mark_tag(tok), tags)\n",
    "    return tags\n",
    "\n",
    "def jaccard_similarity(labels, preds):\n",
    "    lset = set(labels)\n",
    "    pset = set(preds)\n",
    "    return len(lset.intersection(pset)) / len(lset.union(pset))\n"
   ]
  },
  {
   "cell_type": "code",
   "execution_count": 141,
   "metadata": {},
   "outputs": [],
   "source": [
    "topics = construct_topic_knowledge('vng_training_cleaned_no_news')"
   ]
  },
  {
   "cell_type": "code",
   "execution_count": 142,
   "metadata": {},
   "outputs": [],
   "source": [
    "corpus_sub = list(read_corpus('vng_training_cleaned_no_news'))\n",
    "corpus_main = list(read_corpus('vng_training_cleaned_no_news', topic_type='main_topic'))"
   ]
  },
  {
   "cell_type": "code",
   "execution_count": 190,
   "metadata": {},
   "outputs": [],
   "source": [
    "split = int(0.9*len(corpus))\n",
    "\n",
    "train_corpus_sub = corpus_sub[0:split]\n",
    "train_corpus_main = corpus_main[0:split]\n",
    "\n",
    "test_corpus_sub = corpus_sub[split:]\n",
    "test_corpus_main = corpus_main[split:]"
   ]
  },
  {
   "cell_type": "code",
   "execution_count": 191,
   "metadata": {},
   "outputs": [
    {
     "name": "stdout",
     "output_type": "stream",
     "text": [
      "CPU times: user 2min 5s, sys: 1.69 s, total: 2min 7s\n",
      "Wall time: 48.8 s\n"
     ]
    },
    {
     "data": {
      "text/plain": [
       "42023578"
      ]
     },
     "execution_count": 191,
     "metadata": {},
     "output_type": "execute_result"
    }
   ],
   "source": [
    "model_sub = gensim.models.doc2vec.Doc2Vec(size=49, min_count=2, iter=100)\n",
    "model_sub.build_vocab(train_corpus_sub)\n",
    "%time model_sub.train(train_corpus_sub, total_examples=model_sub.corpus_count, epochs=model_sub.iter)"
   ]
  },
  {
   "cell_type": "code",
   "execution_count": 192,
   "metadata": {},
   "outputs": [
    {
     "name": "stdout",
     "output_type": "stream",
     "text": [
      "CPU times: user 2min 8s, sys: 1.67 s, total: 2min 10s\n",
      "Wall time: 49 s\n"
     ]
    },
    {
     "data": {
      "text/plain": [
       "42023811"
      ]
     },
     "execution_count": 192,
     "metadata": {},
     "output_type": "execute_result"
    }
   ],
   "source": [
    "model_main = gensim.models.doc2vec.Doc2Vec(size=51, min_count=2, iter=100)\n",
    "model_main.build_vocab(train_corpus_main)\n",
    "%time  model_main.train(train_corpus_main, total_examples=model_main.corpus_count, epochs=model_main.iter)"
   ]
  },
  {
   "cell_type": "code",
   "execution_count": 269,
   "metadata": {},
   "outputs": [],
   "source": [
    "def top_tags(model_main, model_sub, doc, topics_knowledge, top_n=1):\n",
    "    \n",
    "    pred_vec_main = model_main.infer_vector(doc.words)\n",
    "    pred_tags_main = model_main.docvecs.most_similar([pred_vec_main], topn=15)\n",
    "\n",
    "    pred_vec_sub = model_sub.infer_vector(doc.words)\n",
    "    pred_tags_sub = model_sub.docvecs.most_similar([pred_vec_sub], topn=5)\n",
    "    \n",
    "    final_sub_tags = []\n",
    "    \n",
    "    for pred_tag_sub in pred_tags_sub:\n",
    "        max_score = pred_tag_sub[1]\n",
    "        \n",
    "        for pred_tag_main in pred_tags_main:\n",
    "            \n",
    "            if pred_tag_sub[0] in topics_knowledge[pred_tag_main[0]]:\n",
    "                \n",
    "                score = max(max_score, pred_tag_sub[1] + pred_tag_main[1])       \n",
    "                \n",
    "        final_sub_tags.append((pred_tag_sub[0], max_score))\n",
    "\n",
    "    while len(final_sub_tags) > top_n:\n",
    "        min_certainty = 999\n",
    "        min_certainty_tag = None\n",
    "\n",
    "        for tag in final_sub_tags:\n",
    "            if tag[1] < min_certainty:\n",
    "                min_certainty = tag[1]\n",
    "                min_certainty_tag = tag\n",
    "\n",
    "        final_sub_tags.remove(tag)\n",
    "\n",
    "    return final_sub_tags"
   ]
  },
  {
   "cell_type": "code",
   "execution_count": 270,
   "metadata": {},
   "outputs": [],
   "source": [
    "def evaluate_dual_model(model_main, model_sub, corpus_test, topics_knowledge):\n",
    "    tot_sim = 0\n",
    "    for doc in corpus_test:\n",
    "        pred_tags = top_tags(model_main, model_sub, doc, topics_knowledge, top_n=1)\n",
    "        \n",
    "        sim = jaccard_similarity(doc.tags, [x[0] for x in pred_tags])\n",
    "        tot_sim += sim\n",
    "    print(\"Average Similarity on Test Set: {}\".format(tot_sim / len(corpus_test)))"
   ]
  },
  {
   "cell_type": "code",
   "execution_count": 271,
   "metadata": {},
   "outputs": [
    {
     "name": "stdout",
     "output_type": "stream",
     "text": [
      "Average Similarity on Test Set: 0.21172638436482086\n"
     ]
    }
   ],
   "source": [
    "evaluate_dual_model(model_main, model_sub, test_corpus_sub, topics)"
   ]
  },
  {
   "cell_type": "code",
   "execution_count": 265,
   "metadata": {},
   "outputs": [
    {
     "name": "stdout",
     "output_type": "stream",
     "text": [
      "Average Similarity on Test Set: 0.21498371335504887\n"
     ]
    }
   ],
   "source": [
    "# SIMPLE DOCTAG2VEC MODEL WORKS BETTER THAN COMBINING MAIN TOPICS WITH SUB TOPICS.\n",
    "\n",
    "def evaluate_model(model, corpus):\n",
    "    tot_sim = 0\n",
    "    for doc in corpus:\n",
    "        pred_vec = model.infer_vector(doc.words)\n",
    "        pred_tags = model.docvecs.most_similar([pred_vec], topn=1)\n",
    "        sim = jaccard_similarity(doc.tags, [x[0] for x in pred_tags])\n",
    "        tot_sim += sim\n",
    "    print(\"Average Similarity on Test Set: {}\".format(tot_sim / len(corpus)))\n",
    "    \n",
    "evaluate_model(model_sub, test_corpus_sub)"
   ]
  },
  {
   "cell_type": "code",
   "execution_count": 34,
   "metadata": {},
   "outputs": [
    {
     "name": "stdout",
     "output_type": "stream",
     "text": [
      "Actual tags: huisvestingswet\n",
      "Predicted tags: [('huisvestingswet', 0.8789634704589844), ('overheidsaansprakelijkheid', 0.8708899021148682), ('landbouw-en-veehouderij', 0.8487333059310913), ('luchtkwaliteit', 0.8310826420783997), ('grondbeleidgrondzaken', 0.8105636835098267)]\n",
      "--\n",
      "Actual tags: isd-informatievoorziening-sociaal-domein\n",
      "Predicted tags: [('overheidsaansprakelijkheid', 0.7986610531806946), ('landbouw-en-veehouderij', 0.7889240384101868), ('winkeltijdenwet', 0.7824044823646545), ('wet-openbaarheid-van-bestuur-wob', 0.7823542952537537), ('awb', 0.7720432877540588)]\n",
      "--\n",
      "Actual tags: energie-en-klimaat\n",
      "Predicted tags: [('bevolkingsdaling', 0.7620388865470886), ('leegstand-en-herbestemming', 0.7427639365196228), ('leegstand-transformatie-en-herbestemming', 0.7198410630226135), ('luchtkwaliteit', 0.7092674970626831), ('gemeenten-kapitaalmarkt', 0.7028281688690186)]\n",
      "--\n",
      "Actual tags: asielbeleid-en-integratie\n",
      "Predicted tags: [('overheidsaansprakelijkheid', 0.8651185035705566), ('kernbeleid-veiligheid', 0.8155410289764404), ('luchtkwaliteit', 0.8101959228515625), ('huisvestingswet', 0.8077734708786011), ('landbouw-en-veehouderij', 0.7917472124099731)]\n",
      "--\n",
      "Actual tags: apv\n",
      "Predicted tags: [('huisvestingswet', 0.8776277899742126), ('gemeentewet', 0.8539062142372131), ('fiscaal-procesrecht', 0.8508063554763794), ('apv', 0.8410909175872803), ('winkeltijdenwet', 0.8275735378265381)]\n",
      "--\n",
      "Actual tags: asielbeleid-en-integratie\n",
      "Predicted tags: [('luchtkwaliteit', 0.8028035163879395), ('huisvestingswet', 0.7746063470840454), ('overheidsaansprakelijkheid', 0.7553801536560059), ('gemeenten-kapitaalmarkt', 0.7553757429122925), ('openbaar-onderwijs', 0.7543622255325317)]\n",
      "--\n",
      "Actual tags: omgevingswet\n",
      "Predicted tags: [('burgerparticipatie', 0.714894711971283), ('grondzaken-beleid', 0.712017834186554), ('grondbeleidgrondzaken', 0.7100679874420166), ('overheidsaansprakelijkheid', 0.7050975561141968), ('mantelzorg-vrijwilligerswerk', 0.694595992565155)]\n",
      "--\n",
      "Actual tags: europese-subsidies\n",
      "Predicted tags: [('grondbeleidgrondzaken', 0.8436105251312256), ('luchtkwaliteit', 0.8010240793228149), ('bevolkingsdaling', 0.7926560044288635), ('overheidsaansprakelijkheid', 0.7829086780548096), ('gemeenten-kapitaalmarkt', 0.7644562721252441)]\n",
      "--\n",
      "Actual tags: fraudepreventie-wmojeugd\n",
      "Predicted tags: [('overheidsaansprakelijkheid', 0.7653206586837769), ('fraudepreventie-wmojeugd', 0.7543175220489502), ('fraudepreventie-en-handhaving-wmojeugd', 0.7486246824264526), ('clientondersteuning-wmo-en-jeugd', 0.7311497330665588), ('beschermd-wonen', 0.7060104012489319)]\n",
      "--\n",
      "Actual tags: financiele-positie-gemeenten\n",
      "Predicted tags: [('overheidsaansprakelijkheid', 0.803741991519928), ('landbouw-en-veehouderij', 0.7681332230567932), ('kernbeleid-veiligheid', 0.7434138059616089), ('gemeenten-kapitaalmarkt', 0.726254940032959), ('winkeltijdenwet', 0.7215713858604431)]\n",
      "--\n"
     ]
    }
   ],
   "source": [
    "# print out random test result\n",
    "for i in range(10):\n",
    "    docid = np.random.randint(len(train_corpus))\n",
    "    pred_vec = model.infer_vector(train_corpus[docid].words)\n",
    "#     actual_tags = map(lambda x: unmark_tag(x), train_corpus[docid].tags)\n",
    "    actual_tags = train_corpus[docid].tags\n",
    "    pred_tags = model.docvecs.most_similar([pred_vec], topn=5)\n",
    "    \n",
    "    print(\"Actual tags: {}\".format(\", \".join(actual_tags)))\n",
    "    print(\"Predicted tags: {}\".format(pred_tags))\n",
    "    print('--')"
   ]
  },
  {
   "cell_type": "code",
   "execution_count": null,
   "metadata": {},
   "outputs": [],
   "source": []
  }
 ],
 "metadata": {
  "kernelspec": {
   "display_name": "Python 3",
   "language": "python",
   "name": "python3"
  },
  "language_info": {
   "codemirror_mode": {
    "name": "ipython",
    "version": 3
   },
   "file_extension": ".py",
   "mimetype": "text/x-python",
   "name": "python",
   "nbconvert_exporter": "python",
   "pygments_lexer": "ipython3",
   "version": "3.6.3"
  }
 },
 "nbformat": 4,
 "nbformat_minor": 2
}
