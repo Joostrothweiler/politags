{
 "cells": [
  {
   "cell_type": "markdown",
   "metadata": {},
   "source": [
    "Code is based on [The following example](http://sujitpal.blogspot.nl/2016/04/predicting-movie-tags-from-plots-using.html)"
   ]
  },
  {
   "cell_type": "code",
   "execution_count": 13,
   "metadata": {},
   "outputs": [],
   "source": [
    "import gensim\n",
    "import json"
   ]
  },
  {
   "cell_type": "code",
   "execution_count": 148,
   "metadata": {},
   "outputs": [],
   "source": [
    "def read_corpus(fname, tokens_only=False):\n",
    "    \n",
    "    file = '../data_resources/topics/{}.json'.format(fname)\n",
    "    data = json.load(open(file))\n",
    "    \n",
    "    for obj in data:\n",
    "        if tokens_only:\n",
    "            yield gensim.utils.simple_preprocess(obj['content'])\n",
    "        else:\n",
    "            yield gensim.models.doc2vec.TaggedDocument(gensim.utils.simple_preprocess(obj['content']), [obj['main_topic']])"
   ]
  },
  {
   "cell_type": "code",
   "execution_count": 149,
   "metadata": {},
   "outputs": [],
   "source": [
    "corpus = list(read_corpus('vng_training_cleaned_no_news'))"
   ]
  },
  {
   "cell_type": "code",
   "execution_count": 150,
   "metadata": {},
   "outputs": [],
   "source": [
    "split = int(0.9*len(corpus))\n",
    "train_corpus = corpus[0:split]\n",
    "test_corpus = corpus[split:]"
   ]
  },
  {
   "cell_type": "code",
   "execution_count": 151,
   "metadata": {},
   "outputs": [
    {
     "data": {
      "text/plain": [
       "[TaggedDocument(words=['wilt', 'als', 'burgemeester', 'of', 'wethouder', 'meebepalen', 'over', 'de', 'strategie', 'van', 'ons', 'gemeentelijk', 'bestuurlijk', 'energienetwerk', 'en', 'zet', 'samen', 'met', 'ons', 'de', 'koers', 'uit', 'kortom', 'pakt', 'de', 'lokale', 'opgaven', 'bij', 'de', 'kop', 'meld', 'dan', 'aan', 'voor', 'de', 'energiek', 'decentraal', 'donderdag', 'mei', 'thema', 'tijdens', 'deze', 'bijeenkomst', 'geeft', 'met', 'uw', 'collega', 'bestuurders', 'en', 'de', 'genodigde', 'essentiële', 'partners', 'op', 'de', 'verschillende', 'thema', 'vorm', 'aan', 'de', 'strategische', 'lijnen', 'voor', 'de', 'lange', 'termijn', 'wat', 'is', 'de', 'toekomstagenda', 'van', 'gemeenten', 'op', 'het', 'thema', 'energie', 'waar', 'zit', 'de', 'gezamenlijkheid', 'en', 'de', 'wens', 'voor', 'versnelling', 'wat', 'betekent', 'dit', 'voor', 'de', 'ondersteunende', 'en', 'strategische', 'rol', 'en', 'de', 'agenda', 'van', 'de', 'vng', 'positie', 'versterken', 'het', 'doel', 'is', 'om', 'samen', 'met', 'andere', 'gemeentelijke', 'bestuurders', 'de', 'positie', 'van', 'gemeenten', 'in', 'de', 'te', 'laten', 'versterken', 'en', 'dit', 'uit', 'te', 'dragen', 'onze', 'belangrijke', 'partners', 'zullen', 'vanzelfsprekend', 'ook', 'aanwezig', 'zijn', 'aan', 'de', 'gesprekstafels', 'bovendien', 'zorgt', 'dit', 'gesprek', 'voor', 'input', 'op', 'het', 'thema', 'energie', 'vanuit', 'gemeenten', 'voor', 'de', 'programma', 'van', 'de', 'politieke', 'partijen', 'richting', 'de', 'tweede', 'kamer', 'verkiezingen', 'plaats', 'en', 'tijd', 'donderdag', 'mei', 'van', 'tot', 'uur', 'utrecht', 'locatie', 'is', 'binnenkort', 'bekend', 'meer', 'informatie', 'en', 'aanmelden', 'de', 'bijeenkomst', 'is', 'voor', 'burgemeesters', 'en', 'wethouders', 'kunt', 'zich', 'aanmelden', 'via', 'het'], tags=['milieu-en-mobiliteit'])]"
      ]
     },
     "execution_count": 151,
     "metadata": {},
     "output_type": "execute_result"
    }
   ],
   "source": [
    "test_corpus[:1]"
   ]
  },
  {
   "cell_type": "code",
   "execution_count": 152,
   "metadata": {},
   "outputs": [],
   "source": [
    "model = gensim.models.doc2vec.Doc2Vec(size=50, min_count=2, iter=100)"
   ]
  },
  {
   "cell_type": "code",
   "execution_count": 153,
   "metadata": {},
   "outputs": [],
   "source": [
    "model.build_vocab(train_corpus)"
   ]
  },
  {
   "cell_type": "code",
   "execution_count": 154,
   "metadata": {},
   "outputs": [
    {
     "name": "stdout",
     "output_type": "stream",
     "text": [
      "CPU times: user 1min 51s, sys: 1.53 s, total: 1min 52s\n",
      "Wall time: 43.6 s\n"
     ]
    },
    {
     "data": {
      "text/plain": [
       "42024350"
      ]
     },
     "execution_count": 154,
     "metadata": {},
     "output_type": "execute_result"
    }
   ],
   "source": [
    "%time model.train(train_corpus, total_examples=model.corpus_count, epochs=model.iter)"
   ]
  },
  {
   "cell_type": "code",
   "execution_count": 155,
   "metadata": {},
   "outputs": [],
   "source": [
    "def tokenize_text(text):\n",
    "    tokens = []\n",
    "    for sent in nltk.sent_tokenize(text):\n",
    "        for word in nltk.word_tokenize(sent):\n",
    "            if len(word) < 2:\n",
    "                continue\n",
    "            tokens.append(word.lower())\n",
    "    return tokens\n",
    "    \n",
    "def tokenize_tags(label):\n",
    "    tags = label.split(\"::\")\n",
    "    tags = map(lambda tok: mark_tag(tok), tags)\n",
    "    return tags\n",
    "\n",
    "def jaccard_similarity(labels, preds):\n",
    "    lset = set(labels)\n",
    "    pset = set(preds)\n",
    "    return len(lset.intersection(pset)) / len(lset.union(pset))\n",
    "\n",
    "def mark_tag(s):\n",
    "    return \"_\" + s.replace(\" \", \"_\")\n",
    "    \n",
    "def unmark_tag(s):\n",
    "    return s[1:].replace(\"_\", \" \")"
   ]
  },
  {
   "cell_type": "code",
   "execution_count": 156,
   "metadata": {},
   "outputs": [],
   "source": [
    "from random import shuffle\n",
    "import numpy as np"
   ]
  },
  {
   "cell_type": "code",
   "execution_count": 157,
   "metadata": {},
   "outputs": [
    {
     "name": "stdout",
     "output_type": "stream",
     "text": [
      "Average Similarity on Test Set: 0.42996742671009774\n"
     ]
    }
   ],
   "source": [
    "# evaluate the model\n",
    "tot_sim = 0.0\n",
    "for test_document in test_corpus:\n",
    "    pred_vec = model.infer_vector(test_document.words)\n",
    "#     actual_tags = map(lambda x: unmark_tag(x), test_document.tags)\n",
    "    pred_tags = model.docvecs.most_similar([pred_vec], topn=1)\n",
    "    sim = jaccard_similarity(test_document.tags, [x[0] for x in pred_tags])\n",
    "    tot_sim += sim\n",
    "    \n",
    "print(\"Average Similarity on Test Set: {}\".format(tot_sim / len(test_corpus)))  "
   ]
  },
  {
   "cell_type": "code",
   "execution_count": 158,
   "metadata": {},
   "outputs": [
    {
     "name": "stdout",
     "output_type": "stream",
     "text": [
      "Actual tags: internationaal\n",
      "Predicted tags: [('internationaal', 0.6653393507003784), ('europa', 0.545626163482666), ('economie', 0.5283413529396057), ('belastingen', 0.4950311779975891), ('recht', 0.4909015893936157)]\n",
      "--\n",
      "Actual tags: asiel\n",
      "Predicted tags: [('asiel', 0.6957429647445679), ('openbare-gezondheid', 0.5622708797454834), ('gemeentefinancien', 0.4978879392147064), ('belastingen', 0.46325263381004333), ('sociaal-domein', 0.4590296447277069)]\n",
      "--\n",
      "Actual tags: arbeidsvoorwaarden-en-personeelsbeleid\n",
      "Predicted tags: [('gemeentefinancien', 0.5479937195777893), ('recht', 0.5477897524833679), ('openbare-gezondheid', 0.5427666306495667), ('economie', 0.5147227644920349), ('werk-en-inkomen', 0.505023717880249)]\n",
      "--\n",
      "Actual tags: asiel\n",
      "Predicted tags: [('openbare-gezondheid', 0.6164271831512451), ('economie', 0.5500040650367737), ('asiel', 0.5383455157279968), ('recht', 0.5342265963554382), ('gemeentefinancien', 0.524900496006012)]\n",
      "--\n",
      "Actual tags: milieu-en-mobiliteit\n",
      "Predicted tags: [('openbare-gezondheid', 0.649787962436676), ('recht', 0.5896530151367188), ('economie', 0.5875507593154907), ('gemeentefinancien', 0.568798303604126), ('milieu-en-mobiliteit', 0.5375134944915771)]\n",
      "--\n",
      "Actual tags: asiel\n",
      "Predicted tags: [('openbare-gezondheid', 0.6005460023880005), ('economie', 0.554292619228363), ('recht', 0.4911268949508667), ('gemeentefinancien', 0.4876578152179718), ('asiel', 0.4831710159778595)]\n",
      "--\n",
      "Actual tags: europa\n",
      "Predicted tags: [('openbare-gezondheid', 0.6011051535606384), ('recht', 0.5705650448799133), ('economie', 0.5452589392662048), ('europa', 0.5264072418212891), ('gemeentefinancien', 0.5100049376487732)]\n",
      "--\n",
      "Actual tags: belastingen\n",
      "Predicted tags: [('belastingen', 0.6621569395065308), ('openbare-gezondheid', 0.6262044906616211), ('gemeentefinancien', 0.6035681962966919), ('recht', 0.5447758436203003), ('economie', 0.5060433745384216)]\n",
      "--\n",
      "Actual tags: werk-en-inkomen\n",
      "Predicted tags: [('werk-en-inkomen', 0.575209379196167), ('openbare-gezondheid', 0.5674699544906616), ('economie', 0.5116021633148193), ('internationaal', 0.5094488859176636), ('europa', 0.486083984375)]\n",
      "--\n",
      "Actual tags: openbare-gezondheid\n",
      "Predicted tags: [('openbare-gezondheid', 0.7480537295341492), ('gemeentefinancien', 0.587620735168457), ('veiligheid', 0.5197914838790894), ('sociaal-domein', 0.5079675316810608), ('belastingen', 0.50177001953125)]\n",
      "--\n"
     ]
    }
   ],
   "source": [
    "# print out random test result\n",
    "for i in range(10):\n",
    "    docid = np.random.randint(len(train_corpus))\n",
    "    pred_vec = model.infer_vector(train_corpus[docid].words)\n",
    "#     actual_tags = map(lambda x: unmark_tag(x), train_corpus[docid].tags)\n",
    "    actual_tags = train_corpus[docid].tags\n",
    "    pred_tags = model.docvecs.most_similar([pred_vec], topn=5)\n",
    "    \n",
    "    print(\"Actual tags: {}\".format(\", \".join(actual_tags)))\n",
    "    print(\"Predicted tags: {}\".format(pred_tags))\n",
    "    print('--')"
   ]
  },
  {
   "cell_type": "code",
   "execution_count": null,
   "metadata": {},
   "outputs": [],
   "source": []
  }
 ],
 "metadata": {
  "kernelspec": {
   "display_name": "Python 3",
   "language": "python",
   "name": "python3"
  },
  "language_info": {
   "codemirror_mode": {
    "name": "ipython",
    "version": 3
   },
   "file_extension": ".py",
   "mimetype": "text/x-python",
   "name": "python",
   "nbconvert_exporter": "python",
   "pygments_lexer": "ipython3",
   "version": "3.6.3"
  }
 },
 "nbformat": 4,
 "nbformat_minor": 2
}
