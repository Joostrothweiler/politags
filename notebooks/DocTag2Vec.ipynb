{
 "cells": [
  {
   "cell_type": "markdown",
   "metadata": {},
   "source": [
    "Code is based on [The following example](http://sujitpal.blogspot.nl/2016/04/predicting-movie-tags-from-plots-using.html)"
   ]
  },
  {
   "cell_type": "code",
   "execution_count": 13,
   "metadata": {},
   "outputs": [],
   "source": [
    "import gensim\n",
    "import json"
   ]
  },
  {
   "cell_type": "code",
   "execution_count": 80,
   "metadata": {},
   "outputs": [],
   "source": [
    "def read_corpus(fname, tokens_only=False):\n",
    "    \n",
    "    file = '../data_resources/topics/{}.json'.format(fname)\n",
    "    data = json.load(open(file))\n",
    "    \n",
    "    for obj in data:\n",
    "        if tokens_only:\n",
    "            yield gensim.utils.simple_preprocess(obj['content'])\n",
    "        else:\n",
    "            yield gensim.models.doc2vec.TaggedDocument(gensim.utils.simple_preprocess(obj['content']), [obj['sub_topic']])"
   ]
  },
  {
   "cell_type": "code",
   "execution_count": 81,
   "metadata": {},
   "outputs": [],
   "source": [
    "train_corpus = list(read_corpus('vng_training_cleaned_no_news'))\n",
    "test_corpus = list(read_corpus('vng_training_cleaned_no_news'))"
   ]
  },
  {
   "cell_type": "code",
   "execution_count": 82,
   "metadata": {},
   "outputs": [
    {
     "data": {
      "text/plain": [
       "[TaggedDocument(words=['schulden', 'en', 'armoede', 'staan', 'volop', 'in', 'de', 'schijnwerpers', 'vandaag', 'praat', 'de', 'tweede', 'kamer', 'over', 'de', 'aanpak', 'van', 'problematische', 'schulden', 'wethouder', 'arjan', 'vliegenthart', 'neemt', 'namens', 'de', 'vng', 'deel', 'aan', 'het', 'met', 'de', 'vaste', 'kamercommissie', 'szw', 'hiervoor', 'dienden', 'vng', 'en', 'divosa', 'samen', 'een', 'position', 'paper', 'in', 'met', 'het', 'position', 'paper', 'roepen', 'gemeenten', 'de', 'tweede', 'kamer', 'en', 'het', 'kabinet', 'op', 'om', 'concreet', 'acht', 'punten', 'aan', 'te', 'pakken', 'deze', 'punten', 'zijn', 'om', 'de', 'gemeentelijke', 'ambitie', 'waar', 'te', 'kunnen', 'maken', 'wat', 'is', 'er', 'concreet', 'nodig', 'zorg', 'voor', 'financiële', 'educatie', 'in', 'het', 'onderwijs', 'neem', 'belemmeringen', 'privacy', 'en', 'weg', 'om', 'outreachende', 'integrale', 'te', 'kunnen', 'bieden', 'realiseer', 'sociale', 'incasso', 'en', 'pas', 'de', 'bijzondere', 'en', 'de', 'incassokosten', 'van', 'de', 'rijksoverheid', 'als', 'schuldeiser', 'aan', 'waardoor', 'problemen', 'niet', 'groter', 'worden', 'zorg', 'ervoor', 'dat', 'er', 'snelheid', 'komt', 'in', 'de', 'minnelijke', 'schuldregeling', 'dit', 'kan', 'door', 'een', 'voor', 'schuldeisers', 'in', 'te', 'stellen', 'of', 'door', 'de', 'procedure', 'van', 'een', 'dwangakkoord', 'te', 'vereenvoudigen', 'ene', 'versnellen', 'zorg', 'ervoor', 'dat', 'schuldeisers', 'binnen', 'een', 'voorgeschreven', 'termijn', 'een', 'opgave', 'van', 'alle', 'openstaande', 'schulden', 'moeten', 'doen', 'zorg', 'voor', 'een', 'geleidelijke', 'afbouw', 'van', 'en', 'een', 'minimabeleid', 'dat', 'werkenden', 'met', 'een', 'laag', 'inkomen', 'langer', 'ondersteunt', 'want', 'dit', 'helpt', 'bij', 'het', 'verkleinen', 'van', 'de', 'armoedeval', 'maak', 'gemeenten', 'regievoerder', 'van', 'het', 'proces', 'van', 'waardoor', 'zij', 'een', 'integrale', 'aanpak', 'kunnen', 'realiseren', 'hierbij', 'is', 'naast', 'adviesrecht', 'voor', 'gemeenten', 'voldoende', 'financiering', 'nodig', 'of', 'een', 'andere', 'overdracht', 'van', 'zonder', 'voldoende', 'financiering', 'zorgt', 'voor', 'meer', 'problemen', 'kom', 'tot', 'één', 'betaalmoment', 'voor', 'uitkeringen', 'toeslagen', 'en', 'voorzieningen', 'vereenvoudig', 'aanvraag', 'procedures', 'en', 'verkort', 'de', 'doorlooptijden', 'voor', 'toekenning', 'en', 'zorg', 'voor', 'één', 'overheid', 'die', 'de', 'uitkeringen', 'en', 'toeslagen', 'toekent', 'direct', 'op', 'basis', 'van', 'actuele', 'en', 'gemeentelijke', 'ambitie', 'gemeenten', 'hebben', 'de', 'ambitie', 'om', 'het', 'aantal', 'mensen', 'met', 'problematische', 'schulden', 'substantieel', 'terug', 'te', 'dringen', 'natuurlijk', 'door', 'goede', 'maar', 'liever', 'nog', 'door', 'zo', 'vroeg', 'mogelijk', 'het', 'ontstaan', 'van', 'problematische', 'schulden', 'te', 'signaleren', 'én', 'te', 'voorkomen', 'is', 'en', 'we', 'moeten', 'ons', 'gezamenlijk', 'inspannen', 'om', 'het', 'echte', 'probleem', 'aan', 'te', 'pakken', 'dit', 'betekent', 'het', 'doorbreken', 'van', 'armoede', 'en', 'een', 'brede', 'aanpak', 'van', 'sociale', 'problematiek', 'tegelijkertijd', 'moeten', 'we', 'tegen', 'de', 'achtergrond', 'van', 'het', 'wrr', 'rapport', 'weten', 'is', 'nog', 'geen', 'doen', 'erkennen', 'dat', 'niet', 'iedereen', 'in', 'staat', 'is', 'zijn', 'financiën', 'zelf', 'op', 'orde', 'te', 'houden', 'zodat', 'ondersteuning', 'wordt', 'ingezet', 'nog', 'voordat', 'schulden', 'zijn', 'ontstaan', 'meer', 'informatie', 'position', 'paper', 'vng', 'en', 'divosa', 'voorkomen', 'en', 'aanpakken', 'van', 'problematische', 'schulden', 'februari', 'factsheet', 'divosa', 'armoede', 'en', 'schulden', 'in', 'nederland', 'feiten', 'en', 'cijfers', 'februari', 'pamflet', 'vng', 'divosa'], tags=['armoedebeleid-en-schuldhulpverlening'])]"
      ]
     },
     "execution_count": 82,
     "metadata": {},
     "output_type": "execute_result"
    }
   ],
   "source": [
    "train_corpus[:1]"
   ]
  },
  {
   "cell_type": "code",
   "execution_count": 83,
   "metadata": {},
   "outputs": [
    {
     "data": {
      "text/plain": [
       "[TaggedDocument(words=['schulden', 'en', 'armoede', 'staan', 'volop', 'in', 'de', 'schijnwerpers', 'vandaag', 'praat', 'de', 'tweede', 'kamer', 'over', 'de', 'aanpak', 'van', 'problematische', 'schulden', 'wethouder', 'arjan', 'vliegenthart', 'neemt', 'namens', 'de', 'vng', 'deel', 'aan', 'het', 'met', 'de', 'vaste', 'kamercommissie', 'szw', 'hiervoor', 'dienden', 'vng', 'en', 'divosa', 'samen', 'een', 'position', 'paper', 'in', 'met', 'het', 'position', 'paper', 'roepen', 'gemeenten', 'de', 'tweede', 'kamer', 'en', 'het', 'kabinet', 'op', 'om', 'concreet', 'acht', 'punten', 'aan', 'te', 'pakken', 'deze', 'punten', 'zijn', 'om', 'de', 'gemeentelijke', 'ambitie', 'waar', 'te', 'kunnen', 'maken', 'wat', 'is', 'er', 'concreet', 'nodig', 'zorg', 'voor', 'financiële', 'educatie', 'in', 'het', 'onderwijs', 'neem', 'belemmeringen', 'privacy', 'en', 'weg', 'om', 'outreachende', 'integrale', 'te', 'kunnen', 'bieden', 'realiseer', 'sociale', 'incasso', 'en', 'pas', 'de', 'bijzondere', 'en', 'de', 'incassokosten', 'van', 'de', 'rijksoverheid', 'als', 'schuldeiser', 'aan', 'waardoor', 'problemen', 'niet', 'groter', 'worden', 'zorg', 'ervoor', 'dat', 'er', 'snelheid', 'komt', 'in', 'de', 'minnelijke', 'schuldregeling', 'dit', 'kan', 'door', 'een', 'voor', 'schuldeisers', 'in', 'te', 'stellen', 'of', 'door', 'de', 'procedure', 'van', 'een', 'dwangakkoord', 'te', 'vereenvoudigen', 'ene', 'versnellen', 'zorg', 'ervoor', 'dat', 'schuldeisers', 'binnen', 'een', 'voorgeschreven', 'termijn', 'een', 'opgave', 'van', 'alle', 'openstaande', 'schulden', 'moeten', 'doen', 'zorg', 'voor', 'een', 'geleidelijke', 'afbouw', 'van', 'en', 'een', 'minimabeleid', 'dat', 'werkenden', 'met', 'een', 'laag', 'inkomen', 'langer', 'ondersteunt', 'want', 'dit', 'helpt', 'bij', 'het', 'verkleinen', 'van', 'de', 'armoedeval', 'maak', 'gemeenten', 'regievoerder', 'van', 'het', 'proces', 'van', 'waardoor', 'zij', 'een', 'integrale', 'aanpak', 'kunnen', 'realiseren', 'hierbij', 'is', 'naast', 'adviesrecht', 'voor', 'gemeenten', 'voldoende', 'financiering', 'nodig', 'of', 'een', 'andere', 'overdracht', 'van', 'zonder', 'voldoende', 'financiering', 'zorgt', 'voor', 'meer', 'problemen', 'kom', 'tot', 'één', 'betaalmoment', 'voor', 'uitkeringen', 'toeslagen', 'en', 'voorzieningen', 'vereenvoudig', 'aanvraag', 'procedures', 'en', 'verkort', 'de', 'doorlooptijden', 'voor', 'toekenning', 'en', 'zorg', 'voor', 'één', 'overheid', 'die', 'de', 'uitkeringen', 'en', 'toeslagen', 'toekent', 'direct', 'op', 'basis', 'van', 'actuele', 'en', 'gemeentelijke', 'ambitie', 'gemeenten', 'hebben', 'de', 'ambitie', 'om', 'het', 'aantal', 'mensen', 'met', 'problematische', 'schulden', 'substantieel', 'terug', 'te', 'dringen', 'natuurlijk', 'door', 'goede', 'maar', 'liever', 'nog', 'door', 'zo', 'vroeg', 'mogelijk', 'het', 'ontstaan', 'van', 'problematische', 'schulden', 'te', 'signaleren', 'én', 'te', 'voorkomen', 'is', 'en', 'we', 'moeten', 'ons', 'gezamenlijk', 'inspannen', 'om', 'het', 'echte', 'probleem', 'aan', 'te', 'pakken', 'dit', 'betekent', 'het', 'doorbreken', 'van', 'armoede', 'en', 'een', 'brede', 'aanpak', 'van', 'sociale', 'problematiek', 'tegelijkertijd', 'moeten', 'we', 'tegen', 'de', 'achtergrond', 'van', 'het', 'wrr', 'rapport', 'weten', 'is', 'nog', 'geen', 'doen', 'erkennen', 'dat', 'niet', 'iedereen', 'in', 'staat', 'is', 'zijn', 'financiën', 'zelf', 'op', 'orde', 'te', 'houden', 'zodat', 'ondersteuning', 'wordt', 'ingezet', 'nog', 'voordat', 'schulden', 'zijn', 'ontstaan', 'meer', 'informatie', 'position', 'paper', 'vng', 'en', 'divosa', 'voorkomen', 'en', 'aanpakken', 'van', 'problematische', 'schulden', 'februari', 'factsheet', 'divosa', 'armoede', 'en', 'schulden', 'in', 'nederland', 'feiten', 'en', 'cijfers', 'februari', 'pamflet', 'vng', 'divosa'], tags=['armoedebeleid-en-schuldhulpverlening'])]"
      ]
     },
     "execution_count": 83,
     "metadata": {},
     "output_type": "execute_result"
    }
   ],
   "source": [
    "test_corpus[:1]"
   ]
  },
  {
   "cell_type": "code",
   "execution_count": 84,
   "metadata": {},
   "outputs": [],
   "source": [
    "model = gensim.models.doc2vec.Doc2Vec(size=50, min_count=2, iter=55)"
   ]
  },
  {
   "cell_type": "code",
   "execution_count": 85,
   "metadata": {},
   "outputs": [],
   "source": [
    "model.build_vocab(train_corpus)"
   ]
  },
  {
   "cell_type": "code",
   "execution_count": 86,
   "metadata": {},
   "outputs": [
    {
     "name": "stdout",
     "output_type": "stream",
     "text": [
      "CPU times: user 1min 7s, sys: 889 ms, total: 1min 8s\n",
      "Wall time: 26.3 s\n"
     ]
    },
    {
     "data": {
      "text/plain": [
       "25519793"
      ]
     },
     "execution_count": 86,
     "metadata": {},
     "output_type": "execute_result"
    }
   ],
   "source": [
    "%time model.train(train_corpus, total_examples=model.corpus_count, epochs=model.iter)"
   ]
  },
  {
   "cell_type": "code",
   "execution_count": 87,
   "metadata": {},
   "outputs": [],
   "source": [
    "def tokenize_text(text):\n",
    "    tokens = []\n",
    "    for sent in nltk.sent_tokenize(text):\n",
    "        for word in nltk.word_tokenize(sent):\n",
    "            if len(word) < 2:\n",
    "                continue\n",
    "            tokens.append(word.lower())\n",
    "    return tokens\n",
    "    \n",
    "def tokenize_tags(label):\n",
    "    tags = label.split(\"::\")\n",
    "    tags = map(lambda tok: mark_tag(tok), tags)\n",
    "    return tags\n",
    "\n",
    "def jaccard_similarity(labels, preds):\n",
    "    lset = set(labels)\n",
    "    pset = set(preds)\n",
    "    return len(lset.intersection(pset)) / len(lset.union(pset))\n",
    "\n",
    "def mark_tag(s):\n",
    "    return \"_\" + s.replace(\" \", \"_\")\n",
    "    \n",
    "def unmark_tag(s):\n",
    "    return s[1:].replace(\"_\", \" \")"
   ]
  },
  {
   "cell_type": "code",
   "execution_count": null,
   "metadata": {},
   "outputs": [],
   "source": [
    "from random import shuffle\n",
    "import numpy as np"
   ]
  },
  {
   "cell_type": "code",
   "execution_count": null,
   "metadata": {},
   "outputs": [],
   "source": [
    "# evaluate the model\n",
    "tot_sim = 0.0\n",
    "for test_document in test_corpus:\n",
    "    pred_vec = model.infer_vector(test_document.words)\n",
    "#     actual_tags = map(lambda x: unmark_tag(x), test_document.tags)\n",
    "    pred_tags = model.docvecs.most_similar([pred_vec], topn=2)\n",
    "    sim = jaccard_similarity(test_document.tags, [x[0] for x in pred_tags])\n",
    "    tot_sim += sim\n",
    "    \n",
    "print(\"Average Similarity on Test Set: {}\".format(tot_sim / len(test_corpus)))  \n",
    "\n",
    "# print out random test result\n",
    "for i in range(10):\n",
    "    docid = np.random.randint(len(train_corpus))\n",
    "    pred_vec = model.infer_vector(train_corpus[docid].words)\n",
    "#     actual_tags = map(lambda x: unmark_tag(x), train_corpus[docid].tags)\n",
    "    actual_tags = train_corpus[docid].tags\n",
    "    pred_tags = model.docvecs.most_similar([pred_vec], topn=5)\n",
    "    print(\"Text: {}\".format(train_corpus[docid]))\n",
    "    print(\"... Actual tags: {}\".format(\", \".join(actual_tags)))\n",
    "    \n",
    "    \n",
    "    \n",
    "    print(\"... Predicted tags: {}\".format(pred_tags))"
   ]
  },
  {
   "cell_type": "code",
   "execution_count": null,
   "metadata": {},
   "outputs": [],
   "source": []
  }
 ],
 "metadata": {
  "kernelspec": {
   "display_name": "Python 3",
   "language": "python",
   "name": "python3"
  },
  "language_info": {
   "codemirror_mode": {
    "name": "ipython",
    "version": 3
   },
   "file_extension": ".py",
   "mimetype": "text/x-python",
   "name": "python",
   "nbconvert_exporter": "python",
   "pygments_lexer": "ipython3",
   "version": "3.6.3"
  }
 },
 "nbformat": 4,
 "nbformat_minor": 2
}
