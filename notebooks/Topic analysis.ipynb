{
 "cells": [
  {
   "cell_type": "code",
   "execution_count": 14,
   "metadata": {},
   "outputs": [],
   "source": [
    "import json\n",
    "\n",
    "file = '../data_resources/topics/vng_training_cleaned_no_news.json'\n",
    "data_a = json.load(open(file))\n",
    "\n",
    "additional = '../data_resources/topics/vng_additional_data.json'\n",
    "data_b = json.load(open(additional))\n",
    "\n",
    "data = []\n",
    "\n",
    "for obj in data_a:\n",
    "    data.append(obj)\n",
    "for obj in data_b:\n",
    "    if len(obj['content']) > 1:    \n",
    "        data.append(obj)"
   ]
  },
  {
   "cell_type": "code",
   "execution_count": 15,
   "metadata": {},
   "outputs": [],
   "source": [
    "main = {}\n",
    "sub = {}\n",
    "\n",
    "for obj in data:\n",
    "    main_topic = obj['main_topic'].replace('%20','')\n",
    "    sub_topic = obj['sub_topic'].replace('%20','')\n",
    "    \n",
    "    if main_topic in main:\n",
    "        main[main_topic] += 1\n",
    "    else:\n",
    "        main[main_topic] = 1\n",
    "    \n",
    "    if sub_topic in sub:\n",
    "        sub[sub_topic] += 1\n",
    "    else:\n",
    "        sub[sub_topic] = 1"
   ]
  },
  {
   "cell_type": "code",
   "execution_count": 16,
   "metadata": {},
   "outputs": [
    {
     "name": "stdout",
     "output_type": "stream",
     "text": [
      "{'armoedebeleid-en-schuldhulpverlening': 63, 'zorglandschap-specialistische-jeugdhulp': 32, 'onderwijsachterstandvve': 28, 'energie-en-klimaat': 109, 'landelijk-gebied': 29, 'smart-cities': 9, 'gezondheidsbeleid': 14, 'jeugdhulp': 391, 'europees-cohesiebeleid': 7, 'normalisering-rechtspositie-ambtenaren': 24, 'europese-stedelijke-agenda': 21, 'europees-milieubeleid': 11, 'vennootschapsbelasting-vpb-voor-overheden': 20, 'asielbeleid-en-integratie': 325, 'archieven': 30, 'grensoverschrijdende-samenwerking': 5, 'leegstand-transformatie-en-herbestemming': 5, 'privacy-avg': 7, 'financien-werk-en-inkomen': 16, 'bibliotheekwerk': 21, 'omgevingswet': 142, 'europese-subsidies': 19, 'basisregistraties': 14, 'beschermd-wonen-maatschappelijke-opvang-ggz': 30, 'vrijwilligerswerk-mantelzorgondersteuning': 7, 'aansluiting-onderwijs-arbeidsmarkt': 18, 'arbeidsvoorwaarden': 39, 'gemeentelijk-internationaal-beleid': 49, 'generieke-digitale-infrastructuur-gdi': 4, 'nieuws': 112, 'dienstverlening-aan-inwoners-en-ondernemers': 53, 'jeugdbescherming-en-jeugdreclassering': 45, 'gemeentefinancien-in-beleidsdossiers': 2, 'cao-onderhandelingen': 18, 'aanpak-radicalisering': 5, 'vernieuwing-preventie-en-inclusie-via-de-wmo': 13, 'kabels-en-leidingen': 5, 'rechtspositie-politieke-ambtsdragers': 19, 'participatiewet': 71, 'afval': 20, 'versterking-lokale-democratie': 7, 'cultuur-kunst-en-kunstenaars': 5, 'luchtkwaliteit': 5, 'passend-onderwijs': 17, 'woonbeleid': 34, 'europese-kennisnetwerken': 18, 'informatieveiligheid': 21, 'onderzoeks-ontwikkelagenda': 13, 'invordering': 16, 'persoonsgebonden-budget-pgb': 24, 'financien-wmo': 17, 'ozb': 5, 'werk-voor-arbeidsbeperkten': 50, 'kinderopvang': 22, 'herindeling': 5, 'jeugdgezondheidszorg': 7, 'integriteit': 17, 'individueel-keuzebudget-ikb': 24, 'ondermijning': 7, 'cyberveiligheid': 5, 'ex-gedetineerden': 5, 'bodem-en-ondergrond': 7, 'softdrugsbeleid': 8, 'heffing': 5, 'sociale-zekerheid': 8, 'brandweerpersoneel-en-flo-overgangsrecht': 7, 'toekomst-lokale-democratie': 10, 'bouwregelgeving': 19, 'gemeentelijke-samenwerking': 10, 'fraudepreventie-wmojeugd': 21, 'leges': 16, 'mobiliteitsbeleid': 25, 'apv': 5, 'leerlingenvervoer': 17, 'grondzaken-beleid': 7, 'openbare-ordebevoegdheden': 9, 'kindcentra': 12, 'leegstand-en-herbestemming': 5, 'financiele-positie-gemeenten': 15, 'regionale-economie': 20, 'inkoop-kwaliteit-en-toezicht-wmo': 6, 'wet-op-de-lijkbezorging': 6, 'combinatiefuncties': 5, 'onderwijshuisvesting': 23, 'verkiezingen-referenda': 13, 'begroting-en-verantwoording': 15, 'veilig-thuis-kindermishandeling-en-huiselijk-geweld': 42, 'gemeentefonds-en-btw-compensatiefonds': 19, 'aanbesteden': 11, 'politie': 5, 'water-en-riolering': 20, 'collectieve-zorgverzekering': 7, 'asbest': 5, 'child-friendly-cities': 6, 'rijksbelastingen': 5, 'wonen-begeleiding-en-zorg': 6, 'wet-openbaarheid-van-bestuur-wob': 5, 'lokale-autonomie-in-europa': 8, 'maatwerkvoorzieningen-wmo': 5, 'vsvleerplichtwet': 15, 'clientondersteuning-wmo-en-jeugd': 5, 'generieke-digitale-infrastuctuur-gdi': 8, 'europese-lobbydossiers': 8, 'arbeidsomstandigheden': 8, 'geluidhinder': 5, 'awb': 5, 'landschap-en-natuur': 9, 'arbeidsmarktbeleid': 5, 'sport': 5, 'samenwerking-belastingen': 5, 'gemeenten-kapitaalmarkt': 5, 'drank-en-horecawet': 15, 'film-media-en-kabel': 5, 'gemeentelijk-belastinggebied': 8, 'kernbeleid-veiligheid': 5, 'isd-informatievoorziening-sociaal-domein': 31, 'parkeerbelastingen': 5, 'po-beleid': 17, 'huisvestingswet': 5, 'inkoop-kwaliteit-en-toezicht': 15, 'veiligheidshuizen': 5, 'vernieuwing-preventie-inclusie': 12, 'modelverordeningen': 6, 'handhaving-en-fraudewet': 18, 'beschermd-wonen-maatschappelijke-opvang': 13, 'lokale-democratie': 43, 'fraudepreventie-en-handhaving-wmojeugd': 21, 'wmo-2015': 35, 'wet-openbaarheid-van-bestuur': 9, 'overige-belastingen': 10, 'wet-woz': 6, 'architectuur-en-erfgoed': 5, 'brandweerpersoneel': 18, 'wsw': 6, 'gemeentewet': 5, 'ondernemersklimaat-dienstverlening': 9, 'fiscaal-procesrecht': 4, 'cultuureducatie-en-amateurkunst': 5, 'winkeltijdenwet': 5, 'grondbeleidgrondzaken': 5, 'maatwerkvoorzieningen': 8, 'mantelzorg-vrijwilligerswerk': 5, 'handhaving-arbeidsverplichting': 5, 'asielbeleid-en-integratie-test': 5, 'regionale-economie-stimuleren': 25, 'landbouw-en-veehouderij': 5, 'veiligheidsbeleid': 7, 'overeenkomsten': 3, 'bevolkingsdaling': 5, 'vergunningverlening-toezicht-en-handhaving': 5, 'h3-en-beloningsbeleid': 5, 'openbaar-onderwijs': 5, 'accountantscontrole-begroting-verantwoording': 5, 'ro-wet-en-regelgeving': 3, 'informatieveiligheid-privacy': 5, 'verkiezingen-referendum': 6, 'beschermd-wonen': 5, 'architectuur-archeologie-en-monumenten': 5, 'burgerparticipatie': 5, 'overheidsaansprakelijkheid': 2, 'ondersteuningsprogramma-energie': 9, 'prostitutie': 5, 'rechtspersonen': 5}\n"
     ]
    }
   ],
   "source": [
    "print(sub)"
   ]
  },
  {
   "cell_type": "code",
   "execution_count": 17,
   "metadata": {
    "scrolled": true
   },
   "outputs": [
    {
     "name": "stdout",
     "output_type": "stream",
     "text": [
      "generieke-digitale-infrastructuur-gdi\n",
      "4\n",
      "gemeentefinancien-in-beleidsdossiers\n",
      "2\n",
      "fiscaal-procesrecht\n",
      "4\n",
      "overeenkomsten\n",
      "3\n",
      "ro-wet-en-regelgeving\n",
      "3\n",
      "overheidsaansprakelijkheid\n",
      "2\n"
     ]
    }
   ],
   "source": [
    "to_print = []\n",
    "\n",
    "for obj in sub:\n",
    "    if sub[obj] < 5:\n",
    "        print(obj)\n",
    "        print(sub[obj])"
   ]
  },
  {
   "cell_type": "code",
   "execution_count": 43,
   "metadata": {},
   "outputs": [
    {
     "name": "stdout",
     "output_type": "stream",
     "text": [
      "0\n"
     ]
    }
   ],
   "source": [
    "result = []\n",
    "\n",
    "for obj in data:\n",
    "    main_topic = obj['main_topic']\n",
    "    sub_topic = obj['sub_topic']\n",
    "    \n",
    "    if main[main_topic] < 10:\n",
    "        result.append(obj['response_url'])\n",
    "        \n",
    "print(len(result))"
   ]
  },
  {
   "cell_type": "code",
   "execution_count": 44,
   "metadata": {},
   "outputs": [],
   "source": [
    "for obj in data:\n",
    "    main_topic = obj['main_topic']\n",
    "    sub_topic = obj['sub_topic']\n",
    "    \n",
    "    if main[main_topic] < 10:\n",
    "        data.remove(obj)"
   ]
  },
  {
   "cell_type": "code",
   "execution_count": 45,
   "metadata": {},
   "outputs": [
    {
     "name": "stdout",
     "output_type": "stream",
     "text": [
      "3553\n"
     ]
    }
   ],
   "source": [
    "print(len(data))"
   ]
  },
  {
   "cell_type": "code",
   "execution_count": 46,
   "metadata": {},
   "outputs": [
    {
     "name": "stdout",
     "output_type": "stream",
     "text": [
      "brandweerpersoneel\n"
     ]
    }
   ],
   "source": [
    "def remove_dollar_20(text):\n",
    "    return text.replace('%20','')\n",
    "\n",
    "a = 'brandweerpersoneel%20'\n",
    "print(remove_dollar_20(a))"
   ]
  },
  {
   "cell_type": "code",
   "execution_count": 47,
   "metadata": {},
   "outputs": [],
   "source": [
    "with open('../data_resources/topics/vng_training_cleaned.json', 'w') as outfile:\n",
    "    json.dump(data, outfile)"
   ]
  },
  {
   "cell_type": "code",
   "execution_count": null,
   "metadata": {},
   "outputs": [],
   "source": []
  },
  {
   "cell_type": "code",
   "execution_count": 14,
   "metadata": {},
   "outputs": [],
   "source": [
    "import json\n",
    "\n",
    "file = '../data_resources/topics/vng_training_cleaned.json'\n",
    "data = json.load(open(file))\n",
    "\n",
    "result = []\n",
    "\n",
    "for obj in data:\n",
    "    main_topic = obj['main_topic']\n",
    "    sub_topic = obj['sub_topic']\n",
    "    \n",
    "    if obj['sub_topic'] == 'nieuws': \n",
    "        data.remove(obj)\n",
    "    \n",
    "with open('../data_resources/topics/vng_training_cleaned_no_news.json', 'w') as outfile:\n",
    "    json.dump(data, outfile)"
   ]
  },
  {
   "cell_type": "code",
   "execution_count": null,
   "metadata": {},
   "outputs": [],
   "source": []
  }
 ],
 "metadata": {
  "kernelspec": {
   "display_name": "Python 3",
   "language": "python",
   "name": "python3"
  },
  "language_info": {
   "codemirror_mode": {
    "name": "ipython",
    "version": 3
   },
   "file_extension": ".py",
   "mimetype": "text/x-python",
   "name": "python",
   "nbconvert_exporter": "python",
   "pygments_lexer": "ipython3",
   "version": "3.6.3"
  }
 },
 "nbformat": 4,
 "nbformat_minor": 2
}
