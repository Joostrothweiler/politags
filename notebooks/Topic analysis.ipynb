{
 "cells": [
  {
   "cell_type": "code",
   "execution_count": 9,
   "metadata": {},
   "outputs": [],
   "source": [
    "import json\n",
    "\n",
    "file = '../data_resources/topics/vng_training_cleaned_no_news.json'\n",
    "data = json.load(open(file))"
   ]
  },
  {
   "cell_type": "code",
   "execution_count": 10,
   "metadata": {},
   "outputs": [],
   "source": [
    "main = {}\n",
    "sub = {}\n",
    "\n",
    "for obj in data:\n",
    "    main_topic = obj['main_topic'].replace('%20','')\n",
    "    sub_topic = obj['sub_topic'].replace('%20','')\n",
    "    \n",
    "    if main_topic in main:\n",
    "        main[main_topic] += 1\n",
    "    else:\n",
    "        main[main_topic] = 1\n",
    "    \n",
    "    if sub_topic in sub:\n",
    "        sub[sub_topic] += 1\n",
    "    else:\n",
    "        sub[sub_topic] = 1"
   ]
  },
  {
   "cell_type": "code",
   "execution_count": 11,
   "metadata": {},
   "outputs": [
    {
     "name": "stdout",
     "output_type": "stream",
     "text": [
      "{'werk-en-inkomen': 204, 'jeugd': 516, 'onderwijs': 102, 'milieu-en-mobiliteit': 202, 'ruimte-en-wonen': 268, 'dienstverlening-en-informatiebeleid': 152, 'openbare-gezondheid': 21, 'europa': 110, 'arbeidsvoorwaarden-en-personeelsbeleid': 265, 'belastingen': 100, 'asiel': 326, 'economie': 58, 'cultuur-en-sport': 46, 'maatschappelijke-ondersteuning': 226, 'internationaal': 61, 'gemeentefinancien': 61, 'veiligheid': 69, 'bestuur': 111, 'sociaal-domein': 122, 'recht': 50}\n"
     ]
    }
   ],
   "source": [
    "print(main)"
   ]
  },
  {
   "cell_type": "code",
   "execution_count": 19,
   "metadata": {
    "scrolled": true
   },
   "outputs": [
    {
     "name": "stdout",
     "output_type": "stream",
     "text": [
      "grensoverschrijdende-samenwerking\n",
      "4\n",
      "leegstand-transformatie-en-herbestemming\n",
      "3\n",
      "generieke-digitale-infrastructuur-gdi\n",
      "2\n",
      "gemeentefinancien-in-beleidsdossiers\n",
      "2\n",
      "luchtkwaliteit\n",
      "1\n",
      "herindeling\n",
      "3\n",
      "cyberveiligheid\n",
      "1\n",
      "ex-gedetineerden\n",
      "3\n",
      "combinatiefuncties\n",
      "4\n",
      "asbest\n",
      "3\n",
      "rijksbelastingen\n",
      "4\n",
      "wet-openbaarheid-van-bestuur-wob\n",
      "1\n",
      "clientondersteuning-wmo-en-jeugd\n",
      "4\n",
      "geluidhinder\n",
      "3\n",
      "awb\n",
      "3\n",
      "arbeidsmarktbeleid\n",
      "3\n",
      "samenwerking-belastingen\n",
      "1\n",
      "gemeenten-kapitaalmarkt\n",
      "1\n",
      "kernbeleid-veiligheid\n",
      "2\n",
      "parkeerbelastingen\n",
      "4\n",
      "huisvestingswet\n",
      "3\n",
      "veiligheidshuizen\n",
      "3\n",
      "architectuur-en-erfgoed\n",
      "3\n",
      "gemeentewet\n",
      "3\n",
      "fiscaal-procesrecht\n",
      "3\n",
      "cultuureducatie-en-amateurkunst\n",
      "2\n",
      "winkeltijdenwet\n",
      "1\n",
      "grondbeleidgrondzaken\n",
      "1\n",
      "mantelzorg-vrijwilligerswerk\n",
      "3\n",
      "handhaving-arbeidsverplichting\n",
      "2\n",
      "asielbeleid-en-integratie-test\n",
      "1\n",
      "landbouw-en-veehouderij\n",
      "1\n",
      "overeenkomsten\n",
      "2\n",
      "bevolkingsdaling\n",
      "2\n",
      "vergunningverlening-toezicht-en-handhaving\n",
      "4\n",
      "h3-en-beloningsbeleid\n",
      "3\n",
      "openbaar-onderwijs\n",
      "1\n",
      "ro-wet-en-regelgeving\n",
      "2\n",
      "informatieveiligheid-privacy\n",
      "2\n",
      "beschermd-wonen\n",
      "2\n",
      "architectuur-archeologie-en-monumenten\n",
      "1\n",
      "burgerparticipatie\n",
      "1\n",
      "overheidsaansprakelijkheid\n",
      "2\n",
      "prostitutie\n",
      "1\n",
      "rechtspersonen\n",
      "1\n"
     ]
    }
   ],
   "source": [
    "to_print = []\n",
    "\n",
    "for obj in sub:\n",
    "    if sub[obj] < 5:\n",
    "        print(obj)\n",
    "        print(sub[obj])"
   ]
  },
  {
   "cell_type": "code",
   "execution_count": 43,
   "metadata": {},
   "outputs": [
    {
     "name": "stdout",
     "output_type": "stream",
     "text": [
      "0\n"
     ]
    }
   ],
   "source": [
    "result = []\n",
    "\n",
    "for obj in data:\n",
    "    main_topic = obj['main_topic']\n",
    "    sub_topic = obj['sub_topic']\n",
    "    \n",
    "    if main[main_topic] < 10:\n",
    "        result.append(obj['response_url'])\n",
    "        \n",
    "print(len(result))"
   ]
  },
  {
   "cell_type": "code",
   "execution_count": 44,
   "metadata": {},
   "outputs": [],
   "source": [
    "for obj in data:\n",
    "    main_topic = obj['main_topic']\n",
    "    sub_topic = obj['sub_topic']\n",
    "    \n",
    "    if main[main_topic] < 10:\n",
    "        data.remove(obj)"
   ]
  },
  {
   "cell_type": "code",
   "execution_count": 45,
   "metadata": {},
   "outputs": [
    {
     "name": "stdout",
     "output_type": "stream",
     "text": [
      "3553\n"
     ]
    }
   ],
   "source": [
    "print(len(data))"
   ]
  },
  {
   "cell_type": "code",
   "execution_count": 46,
   "metadata": {},
   "outputs": [
    {
     "name": "stdout",
     "output_type": "stream",
     "text": [
      "brandweerpersoneel\n"
     ]
    }
   ],
   "source": [
    "def remove_dollar_20(text):\n",
    "    return text.replace('%20','')\n",
    "\n",
    "a = 'brandweerpersoneel%20'\n",
    "print(remove_dollar_20(a))"
   ]
  },
  {
   "cell_type": "code",
   "execution_count": 47,
   "metadata": {},
   "outputs": [],
   "source": [
    "with open('../data_resources/topics/vng_training_cleaned.json', 'w') as outfile:\n",
    "    json.dump(data, outfile)"
   ]
  },
  {
   "cell_type": "code",
   "execution_count": null,
   "metadata": {},
   "outputs": [],
   "source": []
  },
  {
   "cell_type": "code",
   "execution_count": 14,
   "metadata": {},
   "outputs": [],
   "source": [
    "import json\n",
    "\n",
    "file = '../data_resources/topics/vng_training_cleaned.json'\n",
    "data = json.load(open(file))\n",
    "\n",
    "result = []\n",
    "\n",
    "for obj in data:\n",
    "    main_topic = obj['main_topic']\n",
    "    sub_topic = obj['sub_topic']\n",
    "    \n",
    "    if obj['sub_topic'] == 'nieuws': \n",
    "        data.remove(obj)\n",
    "    \n",
    "with open('../data_resources/topics/vng_training_cleaned_no_news.json', 'w') as outfile:\n",
    "    json.dump(data, outfile)"
   ]
  },
  {
   "cell_type": "code",
   "execution_count": null,
   "metadata": {},
   "outputs": [],
   "source": []
  }
 ],
 "metadata": {
  "kernelspec": {
   "display_name": "Python 3",
   "language": "python",
   "name": "python3"
  },
  "language_info": {
   "codemirror_mode": {
    "name": "ipython",
    "version": 3
   },
   "file_extension": ".py",
   "mimetype": "text/x-python",
   "name": "python",
   "nbconvert_exporter": "python",
   "pygments_lexer": "ipython3",
   "version": "3.6.3"
  }
 },
 "nbformat": 4,
 "nbformat_minor": 2
}
