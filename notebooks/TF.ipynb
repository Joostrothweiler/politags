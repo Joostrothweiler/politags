{
 "cells": [
  {
   "cell_type": "code",
   "execution_count": 5,
   "metadata": {},
   "outputs": [],
   "source": [
    "import json\n",
    "import numpy as np\n",
    "\n",
    "import matplotlib.pyplot as plt\n",
    "\n",
    "from sklearn.feature_extraction.text import TfidfVectorizer\n",
    "from sklearn.feature_extraction.text import CountVectorizer\n",
    "from sklearn.model_selection import train_test_split\n",
    "from sklearn.metrics import accuracy_score\n",
    "from sklearn.preprocessing import MultiLabelBinarizer\n",
    "from sklearn.multiclass import OneVsRestClassifier\n",
    "from sklearn.metrics import confusion_matrix\n",
    "from sklearn.ensemble import VotingClassifier\n",
    "\n",
    "from sklearn.preprocessing import StandardScaler\n",
    "from sklearn.datasets import make_moons, make_circles, make_classification\n",
    "from sklearn.neural_network import MLPClassifier\n",
    "from sklearn.neighbors import KNeighborsClassifier\n",
    "from sklearn.svm import SVC\n",
    "from sklearn.gaussian_process import GaussianProcessClassifier\n",
    "from sklearn.gaussian_process.kernels import RBF\n",
    "from sklearn.discriminant_analysis import LinearDiscriminantAnalysis\n",
    "from sklearn.tree import DecisionTreeClassifier\n",
    "from sklearn.ensemble import RandomForestClassifier, AdaBoostClassifier\n",
    "from sklearn.naive_bayes import GaussianNB\n",
    "from sklearn.discriminant_analysis import QuadraticDiscriminantAnalysis"
   ]
  },
  {
   "cell_type": "code",
   "execution_count": 6,
   "metadata": {},
   "outputs": [],
   "source": [
    "file = '../data_resources/topics/vng_training_cleaned_no_news.json'\n",
    "data_a = json.load(open(file))\n",
    "\n",
    "additional = '../data_resources/topics/vng_additional_data.json'\n",
    "data_b = json.load(open(additional))\n",
    "\n",
    "data = []\n",
    "\n",
    "for obj in data_a:\n",
    "    data.append(obj)\n",
    "for obj in data_b:\n",
    "    if len(obj['content']) > 1:    \n",
    "        data.append(obj)"
   ]
  },
  {
   "cell_type": "code",
   "execution_count": 7,
   "metadata": {},
   "outputs": [],
   "source": [
    "transformer = TfidfVectorizer(smooth_idf=True, max_df=0.3)\n",
    "# transformer = CountVectorizer() # - descreases performance\n",
    "\n",
    "corpus = []\n",
    "y = []\n",
    "\n",
    "for obj in data:\n",
    "    content = obj['content']\n",
    "    corpus.append(content)\n",
    "    \n",
    "    y.append(obj['sub_topic'])"
   ]
  },
  {
   "cell_type": "code",
   "execution_count": 8,
   "metadata": {},
   "outputs": [],
   "source": [
    "X_train, X_test, y_train, y_test = train_test_split(corpus, y, test_size=0.2, random_state=42)\n",
    "\n",
    "\n",
    "X_train = transformer.fit_transform(X_train)\n",
    "X_test = transformer.transform(X_test)"
   ]
  },
  {
   "cell_type": "code",
   "execution_count": 10,
   "metadata": {},
   "outputs": [
    {
     "name": "stdout",
     "output_type": "stream",
     "text": [
      "CPU times: user 6min 40s, sys: 27.5 ms, total: 6min 40s\n",
      "Wall time: 6min 40s\n",
      "CPU times: user 17.2 s, sys: 8 ms, total: 17.2 s\n",
      "Wall time: 17.3 s\n",
      "0.7032967032967034\n"
     ]
    }
   ],
   "source": [
    "clf = SVC(kernel=\"linear\", C=3.75, probability=True) # 0.682\n",
    "%time clf = OneVsRestClassifier(clf).fit(X_train, y_train)\n",
    "\n",
    "%time y_pred = clf.predict(X_test)\n",
    "\n",
    "score = accuracy_score(y_test, y_pred)\n",
    "\n",
    "print(score)"
   ]
  },
  {
   "cell_type": "code",
   "execution_count": null,
   "metadata": {},
   "outputs": [],
   "source": [
    "\"\"\"\n",
    "Parameters for tuning:\n",
    "- tansformer max_df/min_df\n",
    "- svm C value\n",
    "- svm kernel\n",
    "\"\"\"\n",
    "\n",
    "clf1 = SVC(kernel=\"linear\", C=3.75, probability=True) # 0.682\n",
    "%time clf1 = OneVsRestClassifier(clf1).fit(X_train, y_train)\n",
    "\n",
    "\n",
    "clf2 = RandomForestClassifier(max_depth=20,n_estimators=30,max_features=5000,n_jobs=-1) # 0.61\n",
    "%time clf2 = OneVsRestClassifier(clf2).fit(X_train, y_train)"
   ]
  },
  {
   "cell_type": "code",
   "execution_count": null,
   "metadata": {},
   "outputs": [],
   "source": [
    "clf = VotingClassifier(estimators=[('lr', clf1), ('rf', clf2)], voting='soft')\n",
    "%time clf.fit(X_train, y_train)\n",
    "%time y_pred = clf.predict(X_test)\n",
    "\n",
    "score = accuracy_score(y_test, y_pred)\n",
    "\n",
    "print(score)"
   ]
  },
  {
   "cell_type": "code",
   "execution_count": 116,
   "metadata": {},
   "outputs": [],
   "source": [
    "\n",
    "# Classifiers experimented with and score achieved:\n",
    "classifiers = {\n",
    "    'svm1': SVC(kernel=\"linear\", C=3.75), # 0.682\n",
    "    'randomf': RandomForestClassifier(max_depth=20,n_estimators=30,max_features='auto',n_jobs=-1), # 0.61\n",
    "}"
   ]
  },
  {
   "cell_type": "code",
   "execution_count": null,
   "metadata": {},
   "outputs": [],
   "source": [
    "for clf in classifiers:\n",
    "    print(clf)\n",
    "    classifier = classifiers[clf]\n",
    "\n",
    "    %time clf = OneVsRestClassifier(classifier).fit(X_train, y_train)\n",
    "    %time y_pred = clf.predict(X_test)\n",
    "\n",
    "    score = accuracy_score(y_test, y_pred)\n",
    "   \n",
    "    print(score)"
   ]
  },
  {
   "cell_type": "code",
   "execution_count": null,
   "metadata": {},
   "outputs": [],
   "source": [
    "%time clf = OneVsRestClassifier(classifiers['randomf']).fit(X_train, y_train)\n",
    "\n",
    "y_pred = clf.predict(X_test)\n",
    "\n",
    "score = accuracy_score(y_test, y_pred)\n",
    "print(score)"
   ]
  },
  {
   "cell_type": "code",
   "execution_count": null,
   "metadata": {},
   "outputs": [],
   "source": []
  }
 ],
 "metadata": {
  "kernelspec": {
   "display_name": "Python 3",
   "language": "python",
   "name": "python3"
  },
  "language_info": {
   "codemirror_mode": {
    "name": "ipython",
    "version": 3
   },
   "file_extension": ".py",
   "mimetype": "text/x-python",
   "name": "python",
   "nbconvert_exporter": "python",
   "pygments_lexer": "ipython3",
   "version": "3.6.3"
  }
 },
 "nbformat": 4,
 "nbformat_minor": 2
}
