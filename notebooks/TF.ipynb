{
 "cells": [
  {
   "cell_type": "code",
   "execution_count": 78,
   "metadata": {},
   "outputs": [],
   "source": [
    "import json\n",
    "import numpy as np\n",
    "\n",
    "import matplotlib.pyplot as plt\n",
    "\n",
    "from sklearn.feature_extraction.text import TfidfVectorizer\n",
    "from sklearn.feature_extraction.text import CountVectorizer\n",
    "from sklearn.model_selection import train_test_split\n",
    "from sklearn.metrics import accuracy_score\n",
    "from sklearn.preprocessing import MultiLabelBinarizer\n",
    "from sklearn.multiclass import OneVsRestClassifier\n",
    "from sklearn.metrics import confusion_matrix\n",
    "from sklearn.ensemble import VotingClassifier\n",
    "\n",
    "from sklearn.preprocessing import StandardScaler\n",
    "from sklearn.datasets import make_moons, make_circles, make_classification\n",
    "from sklearn.neural_network import MLPClassifier\n",
    "from sklearn.neighbors import KNeighborsClassifier\n",
    "from sklearn.svm import SVC\n",
    "from sklearn.gaussian_process import GaussianProcessClassifier\n",
    "from sklearn.gaussian_process.kernels import RBF\n",
    "from sklearn.discriminant_analysis import LinearDiscriminantAnalysis\n",
    "from sklearn.tree import DecisionTreeClassifier\n",
    "from sklearn.ensemble import RandomForestClassifier, AdaBoostClassifier\n",
    "from sklearn.naive_bayes import GaussianNB\n",
    "from sklearn.discriminant_analysis import QuadraticDiscriminantAnalysis\n",
    "from sklearn.linear_model import SGDClassifier\n",
    "\n",
    "from sklearn import metrics"
   ]
  },
  {
   "cell_type": "code",
   "execution_count": 79,
   "metadata": {},
   "outputs": [],
   "source": [
    "file = '../data_resources/topics/vng_training_cleaned_no_news.json'\n",
    "data_a = json.load(open(file))\n",
    "\n",
    "additional = '../data_resources/topics/vng_additional_data.json'\n",
    "data_b = json.load(open(additional))\n",
    "\n",
    "data = []\n",
    "\n",
    "for obj in data_a:\n",
    "    data.append(obj)\n",
    "for obj in data_b:\n",
    "    if len(obj['content']) > 1:    \n",
    "        data.append(obj)"
   ]
  },
  {
   "cell_type": "code",
   "execution_count": 80,
   "metadata": {},
   "outputs": [],
   "source": [
    "transformer = TfidfVectorizer(smooth_idf=True, max_df=0.3)\n",
    "# transformer = CountVectorizer() # - descreases performance\n",
    "\n",
    "corpus = []\n",
    "y = []\n",
    "\n",
    "for obj in data:\n",
    "    content = obj['content']\n",
    "    corpus.append(content)\n",
    "    \n",
    "    y.append(obj['sub_topic'])"
   ]
  },
  {
   "cell_type": "code",
   "execution_count": 81,
   "metadata": {
    "scrolled": true
   },
   "outputs": [
    {
     "name": "stdout",
     "output_type": "stream",
     "text": [
      "(1908, 22308)\n"
     ]
    }
   ],
   "source": [
    "X_train_corpus, X_test_corpus, y_train, y_test = train_test_split(corpus, y, test_size=0.4, random_state=42)\n",
    "\n",
    "X_train = transformer.fit_transform(X_train_corpus)\n",
    "X_test = transformer.transform(X_test_corpus)\n",
    "\n",
    "print(np.shape(X_train))"
   ]
  },
  {
   "cell_type": "code",
   "execution_count": 116,
   "metadata": {},
   "outputs": [
    {
     "name": "stdout",
     "output_type": "stream",
     "text": [
      "CPU times: user 14.1 s, sys: 0 ns, total: 14.1 s\n",
      "Wall time: 14.1 s\n",
      "CPU times: user 40.7 ms, sys: 0 ns, total: 40.7 ms\n",
      "Wall time: 40.5 ms\n",
      "0.6677140612725845\n"
     ]
    }
   ],
   "source": [
    "# clf = SVC(kernel=\"linear\", C=3.75, probability=True) # 0.703\n",
    "\n",
    "clf = SGDClassifier(loss='log', penalty='l1', alpha=1e-6, random_state=42, max_iter=50, tol=None)\n",
    "%time clf = OneVsRestClassifier(clf).fit(X_train, y_train)\n",
    "\n",
    "%time y_pred = clf.predict(X_test)\n",
    "\n",
    "score = accuracy_score(y_test, y_pred)\n",
    "\n",
    "print(score)"
   ]
  },
  {
   "cell_type": "code",
   "execution_count": 77,
   "metadata": {},
   "outputs": [
    {
     "name": "stdout",
     "output_type": "stream",
     "text": [
      "                                                     precision    recall  f1-score   support\n",
      "\n",
      "                                        aanbesteden       0.75      0.75      0.75         4\n",
      "                              aanpak-radicalisering       0.50      1.00      0.67         1\n",
      "                 aansluiting-onderwijs-arbeidsmarkt       0.86      0.86      0.86         7\n",
      "       accountantscontrole-begroting-verantwoording       0.00      0.00      0.00         3\n",
      "                                              afval       0.62      0.83      0.71         6\n",
      "                                                apv       0.00      0.00      0.00         0\n",
      "                                 arbeidsmarktbeleid       0.00      0.00      0.00         2\n",
      "                              arbeidsomstandigheden       0.50      0.33      0.40         3\n",
      "                                 arbeidsvoorwaarden       0.70      0.44      0.54        16\n",
      "                                          archieven       0.85      0.92      0.88        12\n",
      "             architectuur-archeologie-en-monumenten       0.00      0.00      0.00         1\n",
      "                            architectuur-en-erfgoed       0.00      0.00      0.00         1\n",
      "               armoedebeleid-en-schuldhulpverlening       0.78      0.86      0.82        21\n",
      "                          asielbeleid-en-integratie       0.88      0.96      0.92       133\n",
      "                     asielbeleid-en-integratie-test       0.00      0.00      0.00         1\n",
      "                                                awb       0.00      0.00      0.00         1\n",
      "                                  basisregistraties       0.75      0.60      0.67         5\n",
      "                        begroting-en-verantwoording       0.50      0.29      0.36         7\n",
      "                                    beschermd-wonen       0.00      0.00      0.00         3\n",
      "            beschermd-wonen-maatschappelijke-opvang       0.50      0.40      0.44         5\n",
      "        beschermd-wonen-maatschappelijke-opvang-ggz       0.50      0.45      0.48        11\n",
      "                                   bevolkingsdaling       1.00      1.00      1.00         1\n",
      "                                    bibliotheekwerk       0.83      1.00      0.91         5\n",
      "                                bodem-en-ondergrond       1.00      1.00      1.00         2\n",
      "                                    bouwregelgeving       0.80      0.89      0.84         9\n",
      "                                 brandweerpersoneel       0.00      0.00      0.00         6\n",
      "                              brandweerpersoneel%20       0.00      0.00      0.00         5\n",
      "           brandweerpersoneel-en-flo-overgangsrecht       1.00      1.00      1.00         2\n",
      "                                 burgerparticipatie       0.00      0.00      0.00         1\n",
      "                               cao-onderhandelingen       0.50      1.00      0.67         3\n",
      "                              child-friendly-cities       1.00      0.50      0.67         2\n",
      "                   clientondersteuning-wmo-en-jeugd       1.00      1.00      1.00         3\n",
      "                        collectieve-zorgverzekering       1.00      1.00      1.00         3\n",
      "                                 combinatiefuncties       1.00      0.50      0.67         2\n",
      "                       cultuur-kunst-en-kunstenaars       0.00      0.00      0.00         2\n",
      "                    cultuureducatie-en-amateurkunst       0.25      1.00      0.40         1\n",
      "                                    cyberveiligheid       1.00      1.00      1.00         2\n",
      "        dienstverlening-aan-inwoners-en-ondernemers       0.55      0.61      0.58        18\n",
      "                                 drank-en-horecawet       0.67      1.00      0.80         2\n",
      "                                 energie-en-klimaat       0.65      0.87      0.75        39\n",
      "                             europees-cohesiebeleid       0.00      0.00      0.00         3\n",
      "                              europees-milieubeleid       0.25      0.17      0.20         6\n",
      "                           europese-kennisnetwerken       0.25      0.14      0.18         7\n",
      "                             europese-lobbydossiers       1.00      0.25      0.40         4\n",
      "                         europese-stedelijke-agenda       0.30      0.50      0.37         6\n",
      "                                 europese-subsidies       0.83      0.45      0.59        11\n",
      "                                   ex-gedetineerden       1.00      1.00      1.00         2\n",
      "                                film-media-en-kabel       1.00      1.00      1.00         3\n",
      "                       financiele-positie-gemeenten       0.50      0.11      0.18         9\n",
      "                          financien-werk-en-inkomen       0.50      0.25      0.33         8\n",
      "                                      financien-wmo       0.67      0.40      0.50         5\n",
      "             fraudepreventie-en-handhaving-wmojeugd       0.20      1.00      0.33         2\n",
      "                           fraudepreventie-wmojeugd       0.67      0.22      0.33         9\n",
      "                                       geluidhinder       0.00      0.00      0.00         2\n",
      "              gemeentefonds-en-btw-compensatiefonds       0.57      0.50      0.53         8\n",
      "                       gemeentelijk-belastinggebied       0.50      0.33      0.40         3\n",
      "                 gemeentelijk-internationaal-beleid       0.68      0.77      0.72        22\n",
      "                         gemeentelijke-samenwerking       0.50      0.50      0.50         4\n",
      "                            gemeenten-kapitaalmarkt       0.00      0.00      0.00         2\n",
      "                                        gemeentewet       0.00      0.00      0.00         1\n",
      "              generieke-digitale-infrastructuur-gdi       0.00      0.00      0.00         1\n",
      "               generieke-digitale-infrastuctuur-gdi       0.67      0.40      0.50         5\n",
      "                                  gezondheidsbeleid       0.00      0.00      0.00         5\n",
      "                  grensoverschrijdende-samenwerking       0.00      0.00      0.00         1\n",
      "                              grondbeleidgrondzaken       1.00      0.50      0.67         2\n",
      "                                  grondzaken-beleid       0.67      0.50      0.57         4\n",
      "                              h3-en-beloningsbeleid       0.50      1.00      0.67         1\n",
      "                     handhaving-arbeidsverplichting       0.00      0.00      0.00         1\n",
      "                            handhaving-en-fraudewet       0.80      1.00      0.89         4\n",
      "                                            heffing       0.50      1.00      0.67         1\n",
      "                                        herindeling       0.00      0.00      0.00         4\n",
      "                                    huisvestingswet       1.00      1.00      1.00         1\n",
      "                        individueel-keuzebudget-ikb       1.00      0.92      0.96        13\n",
      "                               informatieveiligheid       0.71      0.83      0.77        12\n",
      "                       informatieveiligheid-privacy       1.00      0.50      0.67         2\n",
      "                       inkoop-kwaliteit-en-toezicht       0.40      0.67      0.50         3\n",
      "                   inkoop-kwaliteit-en-toezicht-wmo       1.00      0.67      0.80         3\n",
      "                                        integriteit       0.71      0.71      0.71         7\n",
      "                                        invordering       1.00      1.00      1.00         9\n",
      "           isd-informatievoorziening-sociaal-domein       0.56      0.45      0.50        11\n",
      "              jeugdbescherming-en-jeugdreclassering       1.00      0.71      0.83        17\n",
      "                               jeugdgezondheidszorg       0.00      0.00      0.00         4\n",
      "                                          jeugdhulp       0.73      0.90      0.81       167\n",
      "                                kabels-en-leidingen       1.00      1.00      1.00         3\n",
      "                              kernbeleid-veiligheid       1.00      1.00      1.00         1\n",
      "                                         kindcentra       0.83      1.00      0.91         5\n",
      "                                       kinderopvang       0.69      0.75      0.72        12\n",
      "                            landbouw-en-veehouderij       0.00      0.00      0.00         3\n",
      "                                   landelijk-gebied       0.53      0.82      0.64        11\n",
      "                                landschap-en-natuur       0.00      0.00      0.00         1\n",
      "                         leegstand-en-herbestemming       0.00      0.00      0.00         4\n",
      "           leegstand-transformatie-en-herbestemming       0.00      0.00      0.00         4\n",
      "                                  leerlingenvervoer       0.38      0.75      0.50         4\n",
      "                                              leges       0.86      0.86      0.86         7\n",
      "                         lokale-autonomie-in-europa       0.50      0.25      0.33         4\n",
      "                                  lokale-democratie       0.61      0.74      0.67        19\n",
      "                                     luchtkwaliteit       0.00      0.00      0.00         3\n",
      "                              maatwerkvoorzieningen       0.33      0.33      0.33         3\n",
      "                          maatwerkvoorzieningen-wmo       0.00      0.00      0.00         3\n",
      "                       mantelzorg-vrijwilligerswerk       0.50      0.33      0.40         3\n",
      "                                  mobiliteitsbeleid       0.86      0.60      0.71        10\n",
      "                                 modelverordeningen       0.00      0.00      0.00         1\n",
      "                                             nieuws       0.22      0.24      0.23        46\n",
      "             normalisering-rechtspositie-ambtenaren       0.90      1.00      0.95         9\n",
      "                                       omgevingswet       0.84      0.97      0.90        65\n",
      "                                       ondermijning       0.67      0.50      0.57         4\n",
      "                 ondernemersklimaat-dienstverlening       1.00      0.50      0.67         2\n",
      "                    ondersteuningsprogramma-energie       0.00      0.00      0.00         5\n",
      "                            onderwijsachterstandvve       0.40      0.40      0.40        10\n",
      "                               onderwijshuisvesting       1.00      0.62      0.76        13\n",
      "                         onderzoeks-ontwikkelagenda       1.00      0.14      0.25         7\n",
      "                                 openbaar-onderwijs       0.00      0.00      0.00         1\n",
      "                          openbare-ordebevoegdheden       0.00      0.00      0.00         1\n",
      "                                     overeenkomsten       1.00      0.50      0.67         2\n",
      "                         overheidsaansprakelijkheid       0.00      0.00      0.00         1\n",
      "                                overige-belastingen       0.67      0.40      0.50         5\n",
      "                                 parkeerbelastingen       1.00      0.50      0.67         2\n",
      "                                    participatiewet       0.65      0.85      0.73        26\n",
      "                                  passend-onderwijs       0.33      0.29      0.31         7\n",
      "                        persoonsgebonden-budget-pgb       0.90      0.75      0.82        12\n",
      "                                          po-beleid       0.50      1.00      0.67         4\n",
      "                                            politie       0.00      0.00      0.00         3\n",
      "                                        privacy-avg       0.00      0.00      0.00         3\n",
      "                                        prostitutie       1.00      1.00      1.00         1\n",
      "                                     rechtspersonen       0.50      0.50      0.50         2\n",
      "               rechtspositie-politieke-ambtsdragers       0.70      0.88      0.78         8\n",
      "                                 regionale-economie       0.67      0.80      0.73         5\n",
      "                      regionale-economie-stimuleren       0.71      0.50      0.59        10\n",
      "                                   rijksbelastingen       0.00      0.00      0.00         2\n",
      "                              ro-wet-en-regelgeving       0.00      0.00      0.00         1\n",
      "                           samenwerking-belastingen       0.00      0.00      0.00         2\n",
      "                                       smart-cities       0.50      0.20      0.29         5\n",
      "                                  sociale-zekerheid       1.00      0.75      0.86         4\n",
      "                                    softdrugsbeleid       0.75      1.00      0.86         3\n",
      "                                              sport       1.00      0.75      0.86         4\n",
      "                         toekomst-lokale-democratie       0.00      0.00      0.00         4\n",
      "veilig-thuis-kindermishandeling-en-huiselijk-geweld       0.75      0.95      0.84        19\n",
      "                                  veiligheidsbeleid       0.00      0.00      0.00         2\n",
      "                                  veiligheidshuizen       0.00      0.00      0.00         1\n",
      "          vennootschapsbelasting-vpb-voor-overheden       0.93      1.00      0.96        13\n",
      "         vergunningverlening-toezicht-en-handhaving       1.00      0.50      0.67         2\n",
      "                             verkiezingen-referenda       0.75      0.75      0.75         4\n",
      "                            verkiezingen-referendum       1.00      1.00      1.00         2\n",
      "       vernieuwing-preventie-en-inclusie-via-de-wmo       0.40      0.25      0.31         8\n",
      "                     vernieuwing-preventie-inclusie       0.40      0.29      0.33         7\n",
      "                      versterking-lokale-democratie       0.50      0.50      0.50         2\n",
      "          vrijwilligerswerk-mantelzorgondersteuning       0.33      0.50      0.40         2\n",
      "                                   vsvleerplichtwet       1.00      0.86      0.92         7\n",
      "                                 water-en-riolering       1.00      0.80      0.89         5\n",
      "                         werk-voor-arbeidsbeperkten       0.80      0.95      0.87        21\n",
      "                            wet-op-de-lijkbezorging       1.00      0.25      0.40         4\n",
      "                       wet-openbaarheid-van-bestuur       0.67      1.00      0.80         4\n",
      "                   wet-openbaarheid-van-bestuur-wob       0.00      0.00      0.00         2\n",
      "                                            wet-woz       0.00      0.00      0.00         1\n",
      "                                    winkeltijdenwet       1.00      1.00      1.00         2\n",
      "                                           wmo-2015       0.53      1.00      0.69        17\n",
      "                          wonen-begeleiding-en-zorg       0.00      0.00      0.00         3\n",
      "                                         woonbeleid       0.46      0.86      0.60         7\n",
      "                                                wsw       0.00      0.00      0.00         1\n",
      "            zorglandschap-specialistische-jeugdhulp       0.56      0.82      0.67        11\n",
      "\n",
      "                                        avg / total       0.66      0.69      0.66      1273\n",
      "\n"
     ]
    },
    {
     "name": "stderr",
     "output_type": "stream",
     "text": [
      "/home/rothweiler/.local/lib/python3.6/site-packages/sklearn/metrics/classification.py:1135: UndefinedMetricWarning: Precision and F-score are ill-defined and being set to 0.0 in labels with no predicted samples.\n",
      "  'precision', 'predicted', average, warn_for)\n",
      "/home/rothweiler/.local/lib/python3.6/site-packages/sklearn/metrics/classification.py:1137: UndefinedMetricWarning: Recall and F-score are ill-defined and being set to 0.0 in labels with no true samples.\n",
      "  'recall', 'true', average, warn_for)\n"
     ]
    }
   ],
   "source": [
    "print(metrics.classification_report(y_test, y_pred))"
   ]
  },
  {
   "cell_type": "code",
   "execution_count": 109,
   "metadata": {},
   "outputs": [
    {
     "name": "stdout",
     "output_type": "stream",
     "text": [
      "CPU times: user 4min 37s, sys: 80 ms, total: 4min 37s\n",
      "Wall time: 4min 37s\n",
      "CPU times: user 27.1 s, sys: 12 ms, total: 27.1 s\n",
      "Wall time: 27.1 s\n"
     ]
    }
   ],
   "source": [
    "\"\"\"\n",
    "Parameters for tuning:\n",
    "- tansformer max_df/min_df\n",
    "- svm C value\n",
    "- svm kernel\n",
    "\"\"\"\n",
    "\n",
    "clf1 = SVC(kernel=\"linear\", C=3.75, probability=True) # 0.682\n",
    "%time clf1 = OneVsRestClassifier(clf1).fit(X_train, y_train)\n",
    "\n",
    "clf2 = SGDClassifier(loss='log', penalty='l1', alpha=1e-6, random_state=42, max_iter=100, tol=None)\n",
    "\n",
    "# clf2 = RandomForestClassifier(max_depth=20,n_estimators=30,max_features=5000,n_jobs=-1) # 0.61\n",
    "%time clf2 = OneVsRestClassifier(clf2).fit(X_train, y_train)"
   ]
  },
  {
   "cell_type": "code",
   "execution_count": 110,
   "metadata": {},
   "outputs": [
    {
     "name": "stdout",
     "output_type": "stream",
     "text": [
      "CPU times: user 4min 59s, sys: 108 ms, total: 5min\n",
      "Wall time: 5min\n",
      "CPU times: user 30 s, sys: 3.99 ms, total: 30 s\n",
      "Wall time: 30 s\n",
      "0.6818538884524745\n"
     ]
    },
    {
     "name": "stderr",
     "output_type": "stream",
     "text": [
      "/home/rothweiler/.local/lib/python3.6/site-packages/sklearn/preprocessing/label.py:151: DeprecationWarning: The truth value of an empty array is ambiguous. Returning False, but in future this will result in an error. Use `array.size > 0` to check that an array is not empty.\n",
      "  if diff:\n"
     ]
    }
   ],
   "source": [
    "clf = VotingClassifier(estimators=[('lr', clf1), ('rf', clf2)], voting='soft')\n",
    "%time clf.fit(X_train, y_train)\n",
    "%time y_pred = clf.predict(X_test)\n",
    "\n",
    "score = accuracy_score(y_test, y_pred)\n",
    "\n",
    "print(score)"
   ]
  },
  {
   "cell_type": "code",
   "execution_count": 114,
   "metadata": {},
   "outputs": [
    {
     "name": "stdout",
     "output_type": "stream",
     "text": [
      "0.6818538884524745\n"
     ]
    }
   ],
   "source": [
    "clf2.predict(X_test)\n",
    "score = accuracy_score(y_test, y_pred)\n",
    "\n",
    "print(score)"
   ]
  },
  {
   "cell_type": "code",
   "execution_count": 116,
   "metadata": {},
   "outputs": [],
   "source": [
    "\n",
    "# Classifiers experimented with and score achieved:\n",
    "classifiers = {\n",
    "    'svm1': SVC(kernel=\"linear\", C=3.75), # 0.682\n",
    "    'randomf': RandomForestClassifier(max_depth=20,n_estimators=30,max_features='auto',n_jobs=-1), # 0.61\n",
    "}"
   ]
  },
  {
   "cell_type": "code",
   "execution_count": null,
   "metadata": {},
   "outputs": [],
   "source": [
    "for clf in classifiers:\n",
    "    print(clf)\n",
    "    classifier = classifiers[clf]\n",
    "\n",
    "    %time clf = OneVsRestClassifier(classifier).fit(X_train, y_train)\n",
    "    %time y_pred = clf.predict(X_test)\n",
    "\n",
    "    score = accuracy_score(y_test, y_pred)\n",
    "   \n",
    "    print(score)"
   ]
  },
  {
   "cell_type": "code",
   "execution_count": null,
   "metadata": {},
   "outputs": [],
   "source": [
    "%time clf = OneVsRestClassifier(classifiers['randomf']).fit(X_train, y_train)\n",
    "\n",
    "y_pred = clf.predict(X_test)\n",
    "\n",
    "score = accuracy_score(y_test, y_pred)\n",
    "print(score)"
   ]
  },
  {
   "cell_type": "code",
   "execution_count": null,
   "metadata": {},
   "outputs": [],
   "source": []
  }
 ],
 "metadata": {
  "kernelspec": {
   "display_name": "Python 3",
   "language": "python",
   "name": "python3"
  },
  "language_info": {
   "codemirror_mode": {
    "name": "ipython",
    "version": 3
   },
   "file_extension": ".py",
   "mimetype": "text/x-python",
   "name": "python",
   "nbconvert_exporter": "python",
   "pygments_lexer": "ipython3",
   "version": "3.6.3"
  }
 },
 "nbformat": 4,
 "nbformat_minor": 2
}
