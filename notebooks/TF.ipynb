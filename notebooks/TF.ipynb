{
 "cells": [
  {
   "cell_type": "code",
   "execution_count": 15,
   "metadata": {},
   "outputs": [],
   "source": [
    "import json\n",
    "import numpy as np\n",
    "\n",
    "from sklearn.feature_extraction.text import TfidfVectorizer\n",
    "from sklearn.model_selection import train_test_split\n",
    "from sklearn.metrics import accuracy_score\n",
    "from sklearn.preprocessing import MultiLabelBinarizer\n",
    "from sklearn.multiclass import OneVsRestClassifier\n",
    "\n",
    "\n",
    "file = '../data_resources/topics/vng_training.json'\n",
    "data = json.load(open(file))"
   ]
  },
  {
   "cell_type": "code",
   "execution_count": 16,
   "metadata": {},
   "outputs": [],
   "source": [
    "transformer = TfidfVectorizer(smooth_idf=False)\n",
    "\n",
    "corpus = []\n",
    "y = []\n",
    "\n",
    "for obj in data:\n",
    "    content = obj['content']\n",
    "    corpus.append(content)\n",
    "    \n",
    "    y.append(obj['sub_topic'])\n",
    "    \n",
    "\n",
    "X = transformer.fit_transform(corpus)"
   ]
  },
  {
   "cell_type": "code",
   "execution_count": 17,
   "metadata": {},
   "outputs": [],
   "source": [
    "X_train, X_test, y_train, y_test = train_test_split(X, y, test_size=0.2, random_state=42)"
   ]
  },
  {
   "cell_type": "code",
   "execution_count": 27,
   "metadata": {},
   "outputs": [],
   "source": [
    "from sklearn.preprocessing import StandardScaler\n",
    "from sklearn.datasets import make_moons, make_circles, make_classification\n",
    "from sklearn.neural_network import MLPClassifier\n",
    "from sklearn.neighbors import KNeighborsClassifier\n",
    "from sklearn.svm import SVC\n",
    "from sklearn.gaussian_process import GaussianProcessClassifier\n",
    "from sklearn.gaussian_process.kernels import RBF\n",
    "from sklearn.discriminant_analysis import LinearDiscriminantAnalysis\n",
    "from sklearn.tree import DecisionTreeClassifier\n",
    "from sklearn.ensemble import RandomForestClassifier, AdaBoostClassifier\n",
    "from sklearn.naive_bayes import GaussianNB\n",
    "from sklearn.discriminant_analysis import QuadraticDiscriminantAnalysis\n",
    "\n",
    "# Classifiers experimented with and score achieved:\n",
    "classifiers = {\n",
    "    'knn': KNeighborsClassifier(3), # 0.82\n",
    "    'svm1': SVC(kernel=\"linear\", C=0.25, probability=True), # 0.82\n",
    "    'svm2': SVC(gamma=2, C=1), # Took a long time - 0.13\n",
    "    'gpc': GaussianProcessClassifier(1.0 * RBF(1.0), warm_start=True), # 0.\n",
    "    'tree': DecisionTreeClassifier(max_depth=75), # 0.80\n",
    "    'randomf': RandomForestClassifier(max_depth=30, n_estimators=100, max_features=1000), # 0.82\n",
    "    'mlp': MLPClassifier(alpha=1), # 0.85\n",
    "    'ada': AdaBoostClassifier(), # 0.43\n",
    "    'ldc': LinearDiscriminantAnalysis(solver = 'svd', n_components = 1),\n",
    "    'gnb': GaussianNB(), # 0.70\n",
    "    'qdc': QuadraticDiscriminantAnalysis() # 0.80\n",
    "}"
   ]
  },
  {
   "cell_type": "code",
   "execution_count": 29,
   "metadata": {},
   "outputs": [
    {
     "name": "stdout",
     "output_type": "stream",
     "text": [
      "CPU times: user 3min 5s, sys: 31.8 ms, total: 3min 5s\n",
      "Wall time: 3min 5s\n",
      "0.6125\n"
     ]
    }
   ],
   "source": [
    "%time clf = OneVsRestClassifier(classifiers['randomf']).fit(X_train, y_train)\n",
    "\n",
    "y_pred = clf.predict(X_test)\n",
    "\n",
    "score = accuracy_score(y_test, y_pred)\n",
    "print(score)"
   ]
  },
  {
   "cell_type": "code",
   "execution_count": null,
   "metadata": {},
   "outputs": [],
   "source": []
  }
 ],
 "metadata": {
  "kernelspec": {
   "display_name": "Python 3",
   "language": "python",
   "name": "python3"
  },
  "language_info": {
   "codemirror_mode": {
    "name": "ipython",
    "version": 3
   },
   "file_extension": ".py",
   "mimetype": "text/x-python",
   "name": "python",
   "nbconvert_exporter": "python",
   "pygments_lexer": "ipython3",
   "version": "3.6.3"
  }
 },
 "nbformat": 4,
 "nbformat_minor": 2
}
