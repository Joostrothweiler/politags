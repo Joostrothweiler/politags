{
 "cells": [
  {
   "cell_type": "code",
   "execution_count": 2,
   "metadata": {},
   "outputs": [],
   "source": [
    "data = [\n",
    "    [\"b3c8a8235efd9cfadb152a387bdd41cd663acce2\",\"Dennis Straat\",\"D. Straat\",84930,0.7272727272727273,1,0,1.0,1.0,1,1.0,0.14285714285714285,1.0,1],\n",
    "    [\"b3c8a8235efd9cfadb152a387bdd41cd663acce2\",\"Dennis Straat\",\"E.M.J. van Straaten-Noyons\",20272868,0.41025641025641024,0,0,0.43875,0.0,0,0,0.0,0,0],\n",
    "    [\"1f29df8eb875d3cd01ea44674a485ed44aaff809\",\"Arie Slob\",\"A. Slob\",23087214,0.75,1,0,1.0,0.0,1,0,0.0,0,1],\n",
    "    [\"1f29df8eb875d3cd01ea44674a485ed44aaff809\",\"Jan Segers\",\"J.C. Segers-Meijer\",133791,0.5714285714285714,1,0,0.54375,0.0,0,0,0.0,0,0],\n",
    "    [\"1f29df8eb875d3cd01ea44674a485ed44aaff809\",\"Jan Segers\",\"T.C. Segers\",132145,0.8235294117647058,0,0,0.625,0.0,0,1.0,0.1,1.0,0],\n",
    "    [\"e78e2604bae85ecf2e6b0b20cd7344255b7609b5\",\"Maarten van Ooijen\",\"M. van Ooijen\",123361,1.0,1,1,1.0,0.0,0,1.0,0.1111111111111111,1.0,1],\n",
    "    [\"5f50873a0e75ddff9050d8a52151d16515d45588\",\"Evert Jan Slootweg\",\"E.J. Slootweg\",194122,1.0,1,1,1.0,0.0,1,1.0,0.03333333333333333,0,1],\n",
    "    [\"5f50873a0e75ddff9050d8a52151d16515d45588\",\"Jaco Geurts\",\"J.L. Geurts\",540531,1.0,1,1,1.0,0.0,1,1.0,0.03333333333333333,0,1],\n",
    "]"
   ]
  },
  {
   "cell_type": "code",
   "execution_count": 3,
   "metadata": {},
   "outputs": [
    {
     "name": "stdout",
     "output_type": "stream",
     "text": [
      "[1.0, 1, 1, 1.0, 0.0, 1, 1.0, 0.03333333333333333, 0]\n",
      "1\n"
     ]
    }
   ],
   "source": [
    "X = []\n",
    "y = []\n",
    "\n",
    "for i in range(0,len(data)):\n",
    "    obj = data[i]\n",
    "    X.append(obj[4:-1])\n",
    "    y.append(obj[-1])\n",
    "    \n",
    "# 0.7272727272727273,1,0,1.0,1.0,1,1.0,0.14285714285714285,1.0,    \n",
    "print(X[-1])\n",
    "# 1\n",
    "print(y[-1])"
   ]
  },
  {
   "cell_type": "code",
   "execution_count": 5,
   "metadata": {},
   "outputs": [
    {
     "name": "stdout",
     "output_type": "stream",
     "text": [
      "12\n"
     ]
    }
   ],
   "source": [
    "a = '123'\n",
    "a = a[0:-1]\n",
    "print(a)"
   ]
  },
  {
   "cell_type": "code",
   "execution_count": null,
   "metadata": {},
   "outputs": [],
   "source": []
  }
 ],
 "metadata": {
  "kernelspec": {
   "display_name": "Python 3",
   "language": "python",
   "name": "python3"
  },
  "language_info": {
   "codemirror_mode": {
    "name": "ipython",
    "version": 3
   },
   "file_extension": ".py",
   "mimetype": "text/x-python",
   "name": "python",
   "nbconvert_exporter": "python",
   "pygments_lexer": "ipython3",
   "version": "3.6.3"
  }
 },
 "nbformat": 4,
 "nbformat_minor": 2
}
