{
 "cells": [
  {
   "cell_type": "code",
   "execution_count": 24,
   "metadata": {},
   "outputs": [],
   "source": [
    "import heapq\n",
    "import numpy as np\n",
    "import json\n",
    "import matplotlib.pyplot as plt\n",
    "\n",
    "from sklearn.preprocessing import MultiLabelBinarizer\n",
    "from sklearn.multiclass import OneVsRestClassifier\n",
    "\n",
    "from sklearn.feature_extraction.text import TfidfVectorizer\n",
    "from sklearn.linear_model import SGDClassifier\n",
    "\n",
    "from sklearn.model_selection import ShuffleSplit\n",
    "from sklearn.model_selection import train_test_split\n",
    "\n",
    "from sklearn.model_selection import learning_curve\n",
    "from sklearn.metrics import accuracy_score\n",
    "from sklearn.metrics import f1_score, precision_score, recall_score\n",
    "from sklearn import metrics"
   ]
  },
  {
   "cell_type": "markdown",
   "metadata": {},
   "source": [
    "# Load the data"
   ]
  },
  {
   "cell_type": "code",
   "execution_count": 25,
   "metadata": {},
   "outputs": [
    {
     "name": "stdout",
     "output_type": "stream",
     "text": [
      "13948\n",
      "13948\n"
     ]
    }
   ],
   "source": [
    "source_corpus = []\n",
    "source_labels = []\n",
    "files = [\n",
    "    'kamerstukken_topics-multi_20120101_20120630.json',\n",
    "    'kamerstukken_topics-multi_20130101_20130630.json',\n",
    "    'kamerstukken_topics-multi_20140101_20141231.json',\n",
    "    'kamerstukken_topics-multi_20160602_20161201.json',\n",
    "    'kamerstukken_topics-multi_20160101_20160601.json',\n",
    "    'kamerstukken_topics-multi_20170101_20170301.json',\n",
    "    'kamerstukken_topics-multi_20170302_20170601.json',\n",
    "    'kamerstukken_topics-multi_20170602_20180101.json',\n",
    "    'kamerstukken_topics-multi_20180101_20180401.json'\n",
    "]\n",
    "\n",
    "for file in files:\n",
    "    data = json.load(open('../../data_resources/topics/kamerstukken/{}'.format(file)))\n",
    "    for obj in data:\n",
    "        if len(obj['categories']) > 0 and 'Antwoord' not in obj['content']:\n",
    "            source_corpus.append(obj['content'])\n",
    "            source_labels.append(obj['categories'])\n",
    "\n",
    "\n",
    "print(len(source_corpus))\n",
    "print(len(source_labels))"
   ]
  },
  {
   "cell_type": "code",
   "execution_count": 26,
   "metadata": {},
   "outputs": [
    {
     "name": "stdout",
     "output_type": "stream",
     "text": [
      "40000\n"
     ]
    }
   ],
   "source": [
    "unlabeled_corpus = []\n",
    "files = [\n",
    "    'poliflw_target_unlabeled.json'\n",
    "]\n",
    "\n",
    "for file in files:\n",
    "    data = json.load(open('../../data_resources/topics/kamerstukken/{}'.format(file)))\n",
    "    for obj in data:\n",
    "        unlabeled_corpus.append(obj['content'])\n",
    "\n",
    "print(len(unlabeled_corpus))"
   ]
  },
  {
   "cell_type": "code",
   "execution_count": 27,
   "metadata": {},
   "outputs": [
    {
     "name": "stdout",
     "output_type": "stream",
     "text": [
      "164\n",
      "164\n"
     ]
    }
   ],
   "source": [
    "target_corpus = []\n",
    "target_labels = []\n",
    "files = [\n",
    "    'poliflw_target_labeled_data_checked.json'\n",
    "]\n",
    "\n",
    "for file in files:\n",
    "    data = json.load(open('../../data_resources/topics/kamerstukken/{}'.format(file)))\n",
    "    for obj in data:\n",
    "#         source_corpus.append(obj['content'])\n",
    "#         source_labels.append(obj['categories'])\n",
    "        \n",
    "        target_corpus.append(obj['content'])\n",
    "        target_labels.append(obj['categories'])\n",
    "\n",
    "\n",
    "print(len(target_corpus))\n",
    "print(len(target_labels))"
   ]
  },
  {
   "cell_type": "markdown",
   "metadata": {},
   "source": [
    "# Define helper functions and constants"
   ]
  },
  {
   "cell_type": "code",
   "execution_count": 6,
   "metadata": {},
   "outputs": [],
   "source": [
    "def plot_learning_curve(estimator, title, X, y, ylim=None, cv=None,\n",
    "                        n_jobs=2, train_sizes=np.linspace(.1, 1.0, 10)):\n",
    "    plt.figure()\n",
    "    plt.title(title)\n",
    "    if ylim is not None:\n",
    "        plt.ylim(*ylim)\n",
    "    plt.xlabel(\"Training examples\")\n",
    "    plt.ylabel(\"F1-score\")\n",
    "    \n",
    "    \n",
    "    \n",
    "    \n",
    "    train_sizes, train_scores, test_scores = learning_curve(\n",
    "        estimator, X, y, cv=cv, n_jobs=n_jobs, train_sizes=train_sizes, scoring=scorer)\n",
    "    \n",
    "\n",
    "    train_scores_mean = np.mean(train_scores, axis=1)\n",
    "    train_scores_std = np.std(train_scores, axis=1)\n",
    "    test_scores_mean = np.mean(test_scores, axis=1)\n",
    "    test_scores_std = np.std(test_scores, axis=1)\n",
    "    plt.grid()\n",
    "    \n",
    "    print(train_scores)\n",
    "    print(np.shape(train_scores_mean))\n",
    "\n",
    "    plt.fill_between(train_sizes, train_scores_mean - train_scores_std,\n",
    "                     train_scores_mean + train_scores_std, alpha=0.1,\n",
    "                     color=\"r\")\n",
    "    plt.fill_between(train_sizes, test_scores_mean - test_scores_std,\n",
    "                     test_scores_mean + test_scores_std, alpha=0.1, color=\"g\")\n",
    "    plt.plot(train_sizes, train_scores_mean, 'o-', color=\"r\",\n",
    "             label=\"Training score\")\n",
    "    plt.plot(train_sizes, test_scores_mean, 'o-', color=\"g\",\n",
    "             label=\"Cross-validation score\")\n",
    "\n",
    "    plt.legend(loc=\"best\")\n",
    "    plt.show()\n",
    "    return plt"
   ]
  },
  {
   "cell_type": "code",
   "execution_count": 118,
   "metadata": {},
   "outputs": [],
   "source": [
    "def pre_process(s):\n",
    "    result = ''.join([i for i in s if not i.isdigit()])\n",
    "    return result.upper()\n",
    "\n",
    "def predict_multi_always(clf, x):\n",
    "    y_pred = clf.predict(x)\n",
    "    y_prob = clf.predict_proba(x)\n",
    "    \n",
    "    for sample_index in range(0,len(y_pred)):\n",
    "        most_probable_label = np.where(y_prob[sample_index] == max(y_prob[sample_index]))[0][0]\n",
    "        y_pred[sample_index][most_probable_label] = 1\n",
    "        \n",
    "    return y_pred\n",
    "\n",
    "def train_clf(corpus, labels):\n",
    "    transformer = TfidfVectorizer(max_df=0.7, preprocessor=pre_process)\n",
    "    mlb = MultiLabelBinarizer()\n",
    "    \n",
    "    X = transformer.fit_transform(corpus)\n",
    "    y = mlb.fit_transform(labels)\n",
    "    \n",
    "    clf = SGDClassifier(loss='log', penalty='none', alpha=1e-6, random_state=42, max_iter=10)\n",
    "    clf = OneVsRestClassifier(clf).fit(X, y)\n",
    "    \n",
    "    return transformer, mlb, clf\n",
    "\n",
    "def merge_training_data(original_corpus, unlabeled_corpus, original_labels, unlabeled_predictions):\n",
    "    new_corpus = []\n",
    "    new_labels = []\n",
    "    \n",
    "    for i in range(0,len(original_corpus)):\n",
    "        new_corpus.append(original_corpus[i])\n",
    "        new_labels.append(original_labels[i])\n",
    "        \n",
    "    for i in range(0,len(unlabeled_predictions)):\n",
    "        new_corpus.append(unlabeled_corpus[i])\n",
    "        \n",
    "        labels = []\n",
    "        for pred in unlabeled_predictions[i]:\n",
    "            labels.append(pred)\n",
    "        new_labels.append(labels)\n",
    "    \n",
    "    return new_corpus, new_labels\n",
    "\n",
    "def evaluate_target_domain(transformer, mlb, clf, corpus, labels):\n",
    "    X = transformer.transform(corpus)\n",
    "    y = mlb.transform(labels)\n",
    "    \n",
    "    y_pred = clf.predict(X)\n",
    "    \n",
    "    p = precision_score(y, y_pred, average='micro')\n",
    "    r = recall_score(y, y_pred, average='micro')\n",
    "    f1 = f1_score(y, y_pred, average='micro')\n",
    "    \n",
    "    print('P,R,F1')\n",
    "    print(p)\n",
    "    print(r)\n",
    "    print(f1)\n",
    "    \n",
    "    return [p, r, f1]"
   ]
  },
  {
   "cell_type": "markdown",
   "metadata": {},
   "source": [
    "# Evaluate initial classifier"
   ]
  },
  {
   "cell_type": "code",
   "execution_count": 123,
   "metadata": {},
   "outputs": [],
   "source": [
    "transformer = TfidfVectorizer(max_df=0.7, preprocessor=pre_process)\n",
    "clf = SGDClassifier(loss='log', penalty='none', alpha=1e-6, random_state=42, max_iter=10)\n",
    "mlb = MultiLabelBinarizer()\n",
    "    \n",
    "X = transformer.fit_transform(source_corpus)\n",
    "y = mlb.fit_transform(source_labels)\n",
    "clf = OneVsRestClassifier(clf).fit(X,y)"
   ]
  },
  {
   "cell_type": "code",
   "execution_count": 124,
   "metadata": {},
   "outputs": [
    {
     "name": "stdout",
     "output_type": "stream",
     "text": [
      "P,R,F1\n",
      "0.5092592592592593\n",
      "0.2511415525114155\n",
      "0.3363914373088685\n"
     ]
    },
    {
     "data": {
      "text/plain": [
       "[0.5092592592592593, 0.2511415525114155, 0.3363914373088685]"
      ]
     },
     "execution_count": 124,
     "metadata": {},
     "output_type": "execute_result"
    }
   ],
   "source": [
    "evaluate_target_domain(transformer, mlb, clf, target_corpus, target_labels)"
   ]
  },
  {
   "cell_type": "markdown",
   "metadata": {},
   "source": [
    "# Train the classifier\n",
    "1. Train a classifier on source corpus\n",
    "2. Classify unlabeled data\n",
    "3. Add uonlabeled corpus + predictions to labeled data\n",
    "4. Retrain classifier"
   ]
  },
  {
   "cell_type": "code",
   "execution_count": 6,
   "metadata": {},
   "outputs": [],
   "source": [
    "t, m, c = train_clf(source_corpus, source_labels)"
   ]
  },
  {
   "cell_type": "code",
   "execution_count": null,
   "metadata": {},
   "outputs": [],
   "source": [
    "y_pred = c.predict(t.transform(unlabeled_corpus))\n",
    "\n",
    "print(y_pred[0])"
   ]
  },
  {
   "cell_type": "code",
   "execution_count": null,
   "metadata": {},
   "outputs": [],
   "source": [
    "evaluate_target_domain(t, m, c, target_corpus, target_labels)"
   ]
  },
  {
   "cell_type": "code",
   "execution_count": null,
   "metadata": {},
   "outputs": [],
   "source": [
    "t, m, c = train_clf(source_corpus, source_labels)\n",
    "evaluate_target_domain(t, m, c, source_corpus, source_labels)\n",
    "evaluate_target_domain(t, m, c, target_corpus, target_labels)"
   ]
  },
  {
   "cell_type": "code",
   "execution_count": 70,
   "metadata": {},
   "outputs": [
    {
     "data": {
      "text/plain": [
       "2"
      ]
     },
     "execution_count": 70,
     "metadata": {},
     "output_type": "execute_result"
    }
   ],
   "source": [
    "min(100,2)"
   ]
  },
  {
   "cell_type": "markdown",
   "metadata": {},
   "source": [
    "# Soft self-labeling - does not work\n",
    "Eigenlijk om dit echt om deze manier te testen (met plots) moeten we een soort van crossvalidation doen waarbij we slechts 80% van de data gebruiken. Anders kunnen we lucky zijn."
   ]
  },
  {
   "cell_type": "code",
   "execution_count": null,
   "metadata": {},
   "outputs": [],
   "source": []
  },
  {
   "cell_type": "code",
   "execution_count": 15,
   "metadata": {},
   "outputs": [
    {
     "name": "stdout",
     "output_type": "stream",
     "text": [
      "P,R,F1\n",
      "0.5045871559633027\n",
      "0.24444444444444444\n",
      "0.32934131736526945\n",
      "#labeled: 13948. #unlabeled: 40000, TOP_N: 500\n",
      "39789\n",
      "P,R,F1\n",
      "0.6666666666666666\n",
      "0.14222222222222222\n",
      "0.23443223443223443\n"
     ]
    },
    {
     "data": {
      "image/png": "[encoded data removed]",
      "text/plain": [
       "<matplotlib.figure.Figure at 0x7f41d7db0208>"
      ]
     },
     "metadata": {},
     "output_type": "display_data"
    },
    {
     "name": "stdout",
     "output_type": "stream",
     "text": [
      "#labeled: 14448. #unlabeled: 39500, TOP_N: 500\n",
      "39291\n",
      "P,R,F1\n",
      "0.546875\n",
      "0.15555555555555556\n",
      "0.24221453287197234\n"
     ]
    },
    {
     "data": {
      "image/png": "[encoded data removed]",
      "text/plain": [
       "<matplotlib.figure.Figure at 0x7f41d8452f60>"
      ]
     },
     "metadata": {},
     "output_type": "display_data"
    },
    {
     "name": "stdout",
     "output_type": "stream",
     "text": [
      "#labeled: 14948. #unlabeled: 39000, TOP_N: 500\n",
      "38902\n",
      "P,R,F1\n",
      "0.5238095238095238\n",
      "0.14666666666666667\n",
      "0.22916666666666669\n"
     ]
    },
    {
     "data": {
      "image/png": "[encoded data removed]",
      "text/plain": [
       "<matplotlib.figure.Figure at 0x7f41d8623c18>"
      ]
     },
     "metadata": {},
     "output_type": "display_data"
    },
    {
     "name": "stdout",
     "output_type": "stream",
     "text": [
      "#labeled: 15448. #unlabeled: 38500, TOP_N: 500\n",
      "38336\n",
      "P,R,F1\n",
      "0.5142857142857142\n",
      "0.16\n",
      "0.24406779661016947\n"
     ]
    },
    {
     "data": {
      "image/png": "[encoded data removed]",
      "text/plain": [
       "<matplotlib.figure.Figure at 0x7f41d80eef28>"
      ]
     },
     "metadata": {},
     "output_type": "display_data"
    },
    {
     "name": "stdout",
     "output_type": "stream",
     "text": [
      "#labeled: 15948. #unlabeled: 38000, TOP_N: 500\n",
      "37992\n",
      "P,R,F1\n",
      "0.4852941176470588\n",
      "0.14666666666666667\n",
      "0.22525597269624575\n"
     ]
    },
    {
     "data": {
      "image/png": "[encoded data removed]",
      "text/plain": [
       "<matplotlib.figure.Figure at 0x7f41d79042e8>"
      ]
     },
     "metadata": {},
     "output_type": "display_data"
    },
    {
     "name": "stdout",
     "output_type": "stream",
     "text": [
      "#labeled: 16448. #unlabeled: 37500, TOP_N: 500\n",
      "37467\n",
      "P,R,F1\n",
      "0.5409836065573771\n",
      "0.14666666666666667\n",
      "0.23076923076923078\n"
     ]
    },
    {
     "data": {
      "image/png": "[encoded data removed]",
      "text/plain": [
       "<matplotlib.figure.Figure at 0x7f41d7d5d0b8>"
      ]
     },
     "metadata": {},
     "output_type": "display_data"
    },
    {
     "name": "stdout",
     "output_type": "stream",
     "text": [
      "#labeled: 16948. #unlabeled: 37000, TOP_N: 500\n",
      "36942\n",
      "P,R,F1\n",
      "0.5245901639344263\n",
      "0.14222222222222222\n",
      "0.22377622377622375\n"
     ]
    },
    {
     "data": {
      "image/png": "[encoded data removed]",
      "text/plain": [
       "<matplotlib.figure.Figure at 0x7f41d7627048>"
      ]
     },
     "metadata": {},
     "output_type": "display_data"
    },
    {
     "name": "stdout",
     "output_type": "stream",
     "text": [
      "#labeled: 17448. #unlabeled: 36500, TOP_N: 500\n",
      "36495\n",
      "P,R,F1\n",
      "0.375\n",
      "0.16\n",
      "0.22429906542056072\n"
     ]
    },
    {
     "data": {
      "image/png": "[encoded data removed]",
      "text/plain": [
       "<matplotlib.figure.Figure at 0x7f41d7136fd0>"
      ]
     },
     "metadata": {},
     "output_type": "display_data"
    },
    {
     "name": "stdout",
     "output_type": "stream",
     "text": [
      "#labeled: 17948. #unlabeled: 36000, TOP_N: 500\n"
     ]
    },
    {
     "ename": "KeyboardInterrupt",
     "evalue": "",
     "output_type": "error",
     "traceback": [
      "\u001b[0;31m---------------------------------------------------------------------------\u001b[0m",
      "\u001b[0;31mKeyboardInterrupt\u001b[0m                         Traceback (most recent call last)",
      "\u001b[0;32m<ipython-input-15-af2585efa94d>\u001b[0m in \u001b[0;36m<module>\u001b[0;34m()\u001b[0m\n\u001b[1;32m     86\u001b[0m \u001b[0mt\u001b[0m\u001b[0;34m,\u001b[0m \u001b[0mm\u001b[0m\u001b[0;34m,\u001b[0m \u001b[0mc\u001b[0m \u001b[0;34m=\u001b[0m \u001b[0mtrain_clf\u001b[0m\u001b[0;34m(\u001b[0m\u001b[0msource_corpus\u001b[0m\u001b[0;34m,\u001b[0m \u001b[0msource_labels\u001b[0m\u001b[0;34m)\u001b[0m\u001b[0;34m\u001b[0m\u001b[0m\n\u001b[1;32m     87\u001b[0m \u001b[0;34m\u001b[0m\u001b[0m\n\u001b[0;32m---> 88\u001b[0;31m \u001b[0mclf_adapted\u001b[0m \u001b[0;34m=\u001b[0m \u001b[0madapt_domain\u001b[0m\u001b[0;34m(\u001b[0m\u001b[0;36m500\u001b[0m\u001b[0;34m,\u001b[0m \u001b[0mt\u001b[0m\u001b[0;34m,\u001b[0m \u001b[0mm\u001b[0m\u001b[0;34m,\u001b[0m \u001b[0mc\u001b[0m\u001b[0;34m,\u001b[0m \u001b[0msource_corpus\u001b[0m\u001b[0;34m,\u001b[0m \u001b[0msource_labels\u001b[0m\u001b[0;34m,\u001b[0m \u001b[0mtarget_corpus\u001b[0m\u001b[0;34m,\u001b[0m \u001b[0mtarget_labels\u001b[0m\u001b[0;34m,\u001b[0m \u001b[0munlabeled_corpus\u001b[0m\u001b[0;34m)\u001b[0m\u001b[0;34m\u001b[0m\u001b[0m\n\u001b[0m",
      "\u001b[0;32m<ipython-input-15-af2585efa94d>\u001b[0m in \u001b[0;36madapt_domain\u001b[0;34m(step, transformer, mlb, clf, c_labeled_param, l_labeled_param, c_target_param, l_target_param, c_unlabeled_param)\u001b[0m\n\u001b[1;32m     32\u001b[0m \u001b[0;34m\u001b[0m\u001b[0m\n\u001b[1;32m     33\u001b[0m         \u001b[0;31m# Get the most certain probability scores on labels.\u001b[0m\u001b[0;34m\u001b[0m\u001b[0;34m\u001b[0m\u001b[0m\n\u001b[0;32m---> 34\u001b[0;31m         \u001b[0my_pred\u001b[0m \u001b[0;34m=\u001b[0m \u001b[0mclf\u001b[0m\u001b[0;34m.\u001b[0m\u001b[0mpredict\u001b[0m\u001b[0;34m(\u001b[0m\u001b[0mtransformer\u001b[0m\u001b[0;34m.\u001b[0m\u001b[0mtransform\u001b[0m\u001b[0;34m(\u001b[0m\u001b[0mc_unlabeled\u001b[0m\u001b[0;34m)\u001b[0m\u001b[0;34m)\u001b[0m\u001b[0;34m\u001b[0m\u001b[0m\n\u001b[0m\u001b[1;32m     35\u001b[0m         \u001b[0my_probas\u001b[0m \u001b[0;34m=\u001b[0m \u001b[0mclf\u001b[0m\u001b[0;34m.\u001b[0m\u001b[0mpredict_proba\u001b[0m\u001b[0;34m(\u001b[0m\u001b[0mtransformer\u001b[0m\u001b[0;34m.\u001b[0m\u001b[0mtransform\u001b[0m\u001b[0;34m(\u001b[0m\u001b[0mc_unlabeled\u001b[0m\u001b[0;34m)\u001b[0m\u001b[0;34m)\u001b[0m\u001b[0;34m\u001b[0m\u001b[0m\n\u001b[1;32m     36\u001b[0m         \u001b[0my_max_probas\u001b[0m \u001b[0;34m=\u001b[0m \u001b[0;34m[\u001b[0m\u001b[0;34m]\u001b[0m\u001b[0;34m\u001b[0m\u001b[0m\n",
      "\u001b[0;32m~/.local/lib/python3.6/site-packages/sklearn/feature_extraction/text.py\u001b[0m in \u001b[0;36mtransform\u001b[0;34m(self, raw_documents, copy)\u001b[0m\n\u001b[1;32m   1407\u001b[0m         \u001b[0mcheck_is_fitted\u001b[0m\u001b[0;34m(\u001b[0m\u001b[0mself\u001b[0m\u001b[0;34m,\u001b[0m \u001b[0;34m'_tfidf'\u001b[0m\u001b[0;34m,\u001b[0m \u001b[0;34m'The tfidf vector is not fitted'\u001b[0m\u001b[0;34m)\u001b[0m\u001b[0;34m\u001b[0m\u001b[0m\n\u001b[1;32m   1408\u001b[0m \u001b[0;34m\u001b[0m\u001b[0m\n\u001b[0;32m-> 1409\u001b[0;31m         \u001b[0mX\u001b[0m \u001b[0;34m=\u001b[0m \u001b[0msuper\u001b[0m\u001b[0;34m(\u001b[0m\u001b[0mTfidfVectorizer\u001b[0m\u001b[0;34m,\u001b[0m \u001b[0mself\u001b[0m\u001b[0;34m)\u001b[0m\u001b[0;34m.\u001b[0m\u001b[0mtransform\u001b[0m\u001b[0;34m(\u001b[0m\u001b[0mraw_documents\u001b[0m\u001b[0;34m)\u001b[0m\u001b[0;34m\u001b[0m\u001b[0m\n\u001b[0m\u001b[1;32m   1410\u001b[0m         \u001b[0;32mreturn\u001b[0m \u001b[0mself\u001b[0m\u001b[0;34m.\u001b[0m\u001b[0m_tfidf\u001b[0m\u001b[0;34m.\u001b[0m\u001b[0mtransform\u001b[0m\u001b[0;34m(\u001b[0m\u001b[0mX\u001b[0m\u001b[0;34m,\u001b[0m \u001b[0mcopy\u001b[0m\u001b[0;34m=\u001b[0m\u001b[0;32mFalse\u001b[0m\u001b[0;34m)\u001b[0m\u001b[0;34m\u001b[0m\u001b[0m\n",
      "\u001b[0;32m~/.local/lib/python3.6/site-packages/sklearn/feature_extraction/text.py\u001b[0m in \u001b[0;36mtransform\u001b[0;34m(self, raw_documents)\u001b[0m\n\u001b[1;32m    921\u001b[0m \u001b[0;34m\u001b[0m\u001b[0m\n\u001b[1;32m    922\u001b[0m         \u001b[0;31m# use the same matrix-building strategy as fit_transform\u001b[0m\u001b[0;34m\u001b[0m\u001b[0;34m\u001b[0m\u001b[0m\n\u001b[0;32m--> 923\u001b[0;31m         \u001b[0m_\u001b[0m\u001b[0;34m,\u001b[0m \u001b[0mX\u001b[0m \u001b[0;34m=\u001b[0m \u001b[0mself\u001b[0m\u001b[0;34m.\u001b[0m\u001b[0m_count_vocab\u001b[0m\u001b[0;34m(\u001b[0m\u001b[0mraw_documents\u001b[0m\u001b[0;34m,\u001b[0m \u001b[0mfixed_vocab\u001b[0m\u001b[0;34m=\u001b[0m\u001b[0;32mTrue\u001b[0m\u001b[0;34m)\u001b[0m\u001b[0;34m\u001b[0m\u001b[0m\n\u001b[0m\u001b[1;32m    924\u001b[0m         \u001b[0;32mif\u001b[0m \u001b[0mself\u001b[0m\u001b[0;34m.\u001b[0m\u001b[0mbinary\u001b[0m\u001b[0;34m:\u001b[0m\u001b[0;34m\u001b[0m\u001b[0m\n\u001b[1;32m    925\u001b[0m             \u001b[0mX\u001b[0m\u001b[0;34m.\u001b[0m\u001b[0mdata\u001b[0m\u001b[0;34m.\u001b[0m\u001b[0mfill\u001b[0m\u001b[0;34m(\u001b[0m\u001b[0;36m1\u001b[0m\u001b[0;34m)\u001b[0m\u001b[0;34m\u001b[0m\u001b[0m\n",
      "\u001b[0;32m~/.local/lib/python3.6/site-packages/sklearn/feature_extraction/text.py\u001b[0m in \u001b[0;36m_count_vocab\u001b[0;34m(self, raw_documents, fixed_vocab)\u001b[0m\n\u001b[1;32m    796\u001b[0m                         \u001b[0mfeature_counter\u001b[0m\u001b[0;34m[\u001b[0m\u001b[0mfeature_idx\u001b[0m\u001b[0;34m]\u001b[0m \u001b[0;34m=\u001b[0m \u001b[0;36m1\u001b[0m\u001b[0;34m\u001b[0m\u001b[0m\n\u001b[1;32m    797\u001b[0m                     \u001b[0;32melse\u001b[0m\u001b[0;34m:\u001b[0m\u001b[0;34m\u001b[0m\u001b[0m\n\u001b[0;32m--> 798\u001b[0;31m                         \u001b[0mfeature_counter\u001b[0m\u001b[0;34m[\u001b[0m\u001b[0mfeature_idx\u001b[0m\u001b[0;34m]\u001b[0m \u001b[0;34m+=\u001b[0m \u001b[0;36m1\u001b[0m\u001b[0;34m\u001b[0m\u001b[0m\n\u001b[0m\u001b[1;32m    799\u001b[0m                 \u001b[0;32mexcept\u001b[0m \u001b[0mKeyError\u001b[0m\u001b[0;34m:\u001b[0m\u001b[0;34m\u001b[0m\u001b[0m\n\u001b[1;32m    800\u001b[0m                     \u001b[0;31m# Ignore out-of-vocabulary items for fixed_vocab=True\u001b[0m\u001b[0;34m\u001b[0m\u001b[0;34m\u001b[0m\u001b[0m\n",
      "\u001b[0;31mKeyboardInterrupt\u001b[0m: "
     ]
    }
   ],
   "source": [
    "def adapt_domain(step, transformer, mlb, clf, c_labeled_param, l_labeled_param, c_target_param, l_target_param, c_unlabeled_param):\n",
    "    c_labeled = []\n",
    "    l_labeled = []\n",
    "    c_unlabeled = []\n",
    "    \n",
    "    for obj in c_labeled_param:\n",
    "        c_labeled.append(obj)\n",
    "        \n",
    "    for obj in l_labeled_param:\n",
    "        l_labeled.append(obj)\n",
    "        \n",
    "    for obj in c_unlabeled_param:\n",
    "        c_unlabeled.append(obj)\n",
    "        \n",
    "    x = []\n",
    "    py = []\n",
    "    ry = []\n",
    "    f1y = []\n",
    "    \n",
    "    [p, r, f1] = evaluate_target_domain(transformer, mlb, clf, c_target_param, l_target_param)\n",
    "        \n",
    "    x.append(len(c_labeled))\n",
    "    py.append(p)\n",
    "    ry.append(r)\n",
    "    f1y.append(f1)\n",
    "        \n",
    "    while len(c_unlabeled) > 0:\n",
    "    \n",
    "        TOP_N = min(step, len(c_unlabeled))\n",
    "    \n",
    "        print('#labeled: {}. #unlabeled: {}, TOP_N: {}'.format(len(c_labeled), len(c_unlabeled), TOP_N))\n",
    "\n",
    "        # Get the most certain probability scores on labels.\n",
    "        y_pred = clf.predict(transformer.transform(c_unlabeled))\n",
    "        y_probas = clf.predict_proba(transformer.transform(c_unlabeled))\n",
    "        y_max_probas = []\n",
    "\n",
    "        for y in y_probas:\n",
    "            y_max_probas.append(np.max(y))\n",
    "\n",
    "        y_max_probas = np.array(y_max_probas)\n",
    "        top_prob_indices = np.array(heapq.nlargest(TOP_N, range(len(y_max_probas)), y_max_probas.take))\n",
    "\n",
    "        # Add these labels to labeled data (corpus and labels) and remove them from the unlabeled corpus.\n",
    "        print(max(top_prob_indices))\n",
    "        for i in top_prob_indices:\n",
    "            c_labeled.append(c_unlabeled[i])\n",
    "\n",
    "        for labels in mlb.inverse_transform(y_pred[top_prob_indices]):\n",
    "            l_labeled.append(labels)\n",
    "\n",
    "        new_unlabeled = []    \n",
    "        for i in range(0,len(c_unlabeled)):\n",
    "            if i not in top_prob_indices:\n",
    "                new_unlabeled.append(c_unlabeled[i])\n",
    "        c_unlabeled = new_unlabeled\n",
    "\n",
    "        # Retrain classifier\n",
    "    #     print('Retrain classifier')\n",
    "        t1, m1, c1 = train_clf(c_labeled, l_labeled)\n",
    "\n",
    "        # Evaluate target domain.\n",
    "    #     print('Evaluating Target Domain')\n",
    "        [p, r, f1] = evaluate_target_domain(t1, m1, c1, c_target_param, l_target_param)\n",
    "        \n",
    "        x.append(len(c_labeled))\n",
    "        py.append(p)\n",
    "        ry.append(r)\n",
    "        f1y.append(f1)\n",
    "    \n",
    "        plt.plot(x, py, label='Precision')\n",
    "        plt.plot(x, ry, label='Recall')\n",
    "        plt.plot(x, f1y, label='F1-score')\n",
    "        plt.xlabel('Samples used as labeled data')\n",
    "        plt.ylabel('Score')\n",
    "        plt.xlim(xmax=30000)\n",
    "        plt.xlim(xmin=14000)\n",
    "        plt.ylim(ymin=0.1,ymax=0.7)\n",
    "        plt.title('Self-labeling, top {} predictions per iteration'.format(step))\n",
    "        plt.legend()\n",
    "        plt.show()\n",
    "    \n",
    "    return c1\n",
    "\n",
    "\n",
    "t, m, c = train_clf(source_corpus, source_labels)\n",
    "\n",
    "clf_adapted = adapt_domain(500, t, m, c, source_corpus, source_labels, target_corpus, target_labels, unlabeled_corpus)"
   ]
  },
  {
   "cell_type": "code",
   "execution_count": 22,
   "metadata": {},
   "outputs": [
    {
     "ename": "KeyboardInterrupt",
     "evalue": "",
     "output_type": "error",
     "traceback": [
      "\u001b[0;31m---------------------------------------------------------------------------\u001b[0m",
      "\u001b[0;31mKeyboardInterrupt\u001b[0m                         Traceback (most recent call last)",
      "\u001b[0;32m<ipython-input-22-e824bd7251aa>\u001b[0m in \u001b[0;36m<module>\u001b[0;34m()\u001b[0m\n\u001b[1;32m      1\u001b[0m \u001b[0mtransformer\u001b[0m \u001b[0;34m=\u001b[0m \u001b[0mTfidfVectorizer\u001b[0m\u001b[0;34m(\u001b[0m\u001b[0mmax_df\u001b[0m\u001b[0;34m=\u001b[0m\u001b[0;36m0.7\u001b[0m\u001b[0;34m,\u001b[0m \u001b[0mpreprocessor\u001b[0m\u001b[0;34m=\u001b[0m\u001b[0mpre_process\u001b[0m\u001b[0;34m)\u001b[0m\u001b[0;34m\u001b[0m\u001b[0m\n\u001b[0;32m----> 2\u001b[0;31m \u001b[0mtransformer\u001b[0m \u001b[0;34m=\u001b[0m \u001b[0mtransformer\u001b[0m\u001b[0;34m.\u001b[0m\u001b[0mfit\u001b[0m\u001b[0;34m(\u001b[0m\u001b[0munlabeled_corpus\u001b[0m\u001b[0;34m)\u001b[0m\u001b[0;34m\u001b[0m\u001b[0m\n\u001b[0m\u001b[1;32m      3\u001b[0m \u001b[0;34m\u001b[0m\u001b[0m\n\u001b[1;32m      4\u001b[0m \u001b[0mX\u001b[0m \u001b[0;34m=\u001b[0m \u001b[0mtransformer\u001b[0m\u001b[0;34m.\u001b[0m\u001b[0mfit_transform\u001b[0m\u001b[0;34m(\u001b[0m\u001b[0msource_corpus\u001b[0m\u001b[0;34m)\u001b[0m\u001b[0;34m\u001b[0m\u001b[0m\n\u001b[1;32m      5\u001b[0m \u001b[0my\u001b[0m \u001b[0;34m=\u001b[0m \u001b[0mmlb\u001b[0m\u001b[0;34m.\u001b[0m\u001b[0mfit_transform\u001b[0m\u001b[0;34m(\u001b[0m\u001b[0msource_labels\u001b[0m\u001b[0;34m)\u001b[0m\u001b[0;34m\u001b[0m\u001b[0m\n",
      "\u001b[0;32m~/.local/lib/python3.6/site-packages/sklearn/feature_extraction/text.py\u001b[0m in \u001b[0;36mfit\u001b[0;34m(self, raw_documents, y)\u001b[0m\n\u001b[1;32m   1359\u001b[0m         \u001b[0mself\u001b[0m \u001b[0;34m:\u001b[0m \u001b[0mTfidfVectorizer\u001b[0m\u001b[0;34m\u001b[0m\u001b[0m\n\u001b[1;32m   1360\u001b[0m         \"\"\"\n\u001b[0;32m-> 1361\u001b[0;31m         \u001b[0mX\u001b[0m \u001b[0;34m=\u001b[0m \u001b[0msuper\u001b[0m\u001b[0;34m(\u001b[0m\u001b[0mTfidfVectorizer\u001b[0m\u001b[0;34m,\u001b[0m \u001b[0mself\u001b[0m\u001b[0;34m)\u001b[0m\u001b[0;34m.\u001b[0m\u001b[0mfit_transform\u001b[0m\u001b[0;34m(\u001b[0m\u001b[0mraw_documents\u001b[0m\u001b[0;34m)\u001b[0m\u001b[0;34m\u001b[0m\u001b[0m\n\u001b[0m\u001b[1;32m   1362\u001b[0m         \u001b[0mself\u001b[0m\u001b[0;34m.\u001b[0m\u001b[0m_tfidf\u001b[0m\u001b[0;34m.\u001b[0m\u001b[0mfit\u001b[0m\u001b[0;34m(\u001b[0m\u001b[0mX\u001b[0m\u001b[0;34m)\u001b[0m\u001b[0;34m\u001b[0m\u001b[0m\n\u001b[1;32m   1363\u001b[0m         \u001b[0;32mreturn\u001b[0m \u001b[0mself\u001b[0m\u001b[0;34m\u001b[0m\u001b[0m\n",
      "\u001b[0;32m~/.local/lib/python3.6/site-packages/sklearn/feature_extraction/text.py\u001b[0m in \u001b[0;36mfit_transform\u001b[0;34m(self, raw_documents, y)\u001b[0m\n\u001b[1;32m    867\u001b[0m \u001b[0;34m\u001b[0m\u001b[0m\n\u001b[1;32m    868\u001b[0m         vocabulary, X = self._count_vocab(raw_documents,\n\u001b[0;32m--> 869\u001b[0;31m                                           self.fixed_vocabulary_)\n\u001b[0m\u001b[1;32m    870\u001b[0m \u001b[0;34m\u001b[0m\u001b[0m\n\u001b[1;32m    871\u001b[0m         \u001b[0;32mif\u001b[0m \u001b[0mself\u001b[0m\u001b[0;34m.\u001b[0m\u001b[0mbinary\u001b[0m\u001b[0;34m:\u001b[0m\u001b[0;34m\u001b[0m\u001b[0m\n",
      "\u001b[0;32m~/.local/lib/python3.6/site-packages/sklearn/feature_extraction/text.py\u001b[0m in \u001b[0;36m_count_vocab\u001b[0;34m(self, raw_documents, fixed_vocab)\u001b[0m\n\u001b[1;32m    790\u001b[0m         \u001b[0;32mfor\u001b[0m \u001b[0mdoc\u001b[0m \u001b[0;32min\u001b[0m \u001b[0mraw_documents\u001b[0m\u001b[0;34m:\u001b[0m\u001b[0;34m\u001b[0m\u001b[0m\n\u001b[1;32m    791\u001b[0m             \u001b[0mfeature_counter\u001b[0m \u001b[0;34m=\u001b[0m \u001b[0;34m{\u001b[0m\u001b[0;34m}\u001b[0m\u001b[0;34m\u001b[0m\u001b[0m\n\u001b[0;32m--> 792\u001b[0;31m             \u001b[0;32mfor\u001b[0m \u001b[0mfeature\u001b[0m \u001b[0;32min\u001b[0m \u001b[0manalyze\u001b[0m\u001b[0;34m(\u001b[0m\u001b[0mdoc\u001b[0m\u001b[0;34m)\u001b[0m\u001b[0;34m:\u001b[0m\u001b[0;34m\u001b[0m\u001b[0m\n\u001b[0m\u001b[1;32m    793\u001b[0m                 \u001b[0;32mtry\u001b[0m\u001b[0;34m:\u001b[0m\u001b[0;34m\u001b[0m\u001b[0m\n\u001b[1;32m    794\u001b[0m                     \u001b[0mfeature_idx\u001b[0m \u001b[0;34m=\u001b[0m \u001b[0mvocabulary\u001b[0m\u001b[0;34m[\u001b[0m\u001b[0mfeature\u001b[0m\u001b[0;34m]\u001b[0m\u001b[0;34m\u001b[0m\u001b[0m\n",
      "\u001b[0;32m~/.local/lib/python3.6/site-packages/sklearn/feature_extraction/text.py\u001b[0m in \u001b[0;36m<lambda>\u001b[0;34m(doc)\u001b[0m\n\u001b[1;32m    264\u001b[0m \u001b[0;34m\u001b[0m\u001b[0m\n\u001b[1;32m    265\u001b[0m             return lambda doc: self._word_ngrams(\n\u001b[0;32m--> 266\u001b[0;31m                 tokenize(preprocess(self.decode(doc))), stop_words)\n\u001b[0m\u001b[1;32m    267\u001b[0m \u001b[0;34m\u001b[0m\u001b[0m\n\u001b[1;32m    268\u001b[0m         \u001b[0;32melse\u001b[0m\u001b[0;34m:\u001b[0m\u001b[0;34m\u001b[0m\u001b[0m\n",
      "\u001b[0;32m<ipython-input-18-c7450fad7a59>\u001b[0m in \u001b[0;36mpre_process\u001b[0;34m(s)\u001b[0m\n\u001b[1;32m      1\u001b[0m \u001b[0;32mdef\u001b[0m \u001b[0mpre_process\u001b[0m\u001b[0;34m(\u001b[0m\u001b[0ms\u001b[0m\u001b[0;34m)\u001b[0m\u001b[0;34m:\u001b[0m\u001b[0;34m\u001b[0m\u001b[0m\n\u001b[0;32m----> 2\u001b[0;31m     \u001b[0mresult\u001b[0m \u001b[0;34m=\u001b[0m \u001b[0;34m''\u001b[0m\u001b[0;34m.\u001b[0m\u001b[0mjoin\u001b[0m\u001b[0;34m(\u001b[0m\u001b[0;34m[\u001b[0m\u001b[0mi\u001b[0m \u001b[0;32mfor\u001b[0m \u001b[0mi\u001b[0m \u001b[0;32min\u001b[0m \u001b[0ms\u001b[0m \u001b[0;32mif\u001b[0m \u001b[0;32mnot\u001b[0m \u001b[0mi\u001b[0m\u001b[0;34m.\u001b[0m\u001b[0misdigit\u001b[0m\u001b[0;34m(\u001b[0m\u001b[0;34m)\u001b[0m\u001b[0;34m]\u001b[0m\u001b[0;34m)\u001b[0m\u001b[0;34m\u001b[0m\u001b[0m\n\u001b[0m\u001b[1;32m      3\u001b[0m     \u001b[0;32mreturn\u001b[0m \u001b[0mresult\u001b[0m\u001b[0;34m.\u001b[0m\u001b[0mupper\u001b[0m\u001b[0;34m(\u001b[0m\u001b[0;34m)\u001b[0m\u001b[0;34m\u001b[0m\u001b[0m\n\u001b[1;32m      4\u001b[0m \u001b[0;34m\u001b[0m\u001b[0m\n\u001b[1;32m      5\u001b[0m \u001b[0;32mdef\u001b[0m \u001b[0mpredict_multi_always\u001b[0m\u001b[0;34m(\u001b[0m\u001b[0mclf\u001b[0m\u001b[0;34m,\u001b[0m \u001b[0mx\u001b[0m\u001b[0;34m)\u001b[0m\u001b[0;34m:\u001b[0m\u001b[0;34m\u001b[0m\u001b[0m\n",
      "\u001b[0;32m<ipython-input-18-c7450fad7a59>\u001b[0m in \u001b[0;36m<listcomp>\u001b[0;34m(.0)\u001b[0m\n\u001b[1;32m      1\u001b[0m \u001b[0;32mdef\u001b[0m \u001b[0mpre_process\u001b[0m\u001b[0;34m(\u001b[0m\u001b[0ms\u001b[0m\u001b[0;34m)\u001b[0m\u001b[0;34m:\u001b[0m\u001b[0;34m\u001b[0m\u001b[0m\n\u001b[0;32m----> 2\u001b[0;31m     \u001b[0mresult\u001b[0m \u001b[0;34m=\u001b[0m \u001b[0;34m''\u001b[0m\u001b[0;34m.\u001b[0m\u001b[0mjoin\u001b[0m\u001b[0;34m(\u001b[0m\u001b[0;34m[\u001b[0m\u001b[0mi\u001b[0m \u001b[0;32mfor\u001b[0m \u001b[0mi\u001b[0m \u001b[0;32min\u001b[0m \u001b[0ms\u001b[0m \u001b[0;32mif\u001b[0m \u001b[0;32mnot\u001b[0m \u001b[0mi\u001b[0m\u001b[0;34m.\u001b[0m\u001b[0misdigit\u001b[0m\u001b[0;34m(\u001b[0m\u001b[0;34m)\u001b[0m\u001b[0;34m]\u001b[0m\u001b[0;34m)\u001b[0m\u001b[0;34m\u001b[0m\u001b[0m\n\u001b[0m\u001b[1;32m      3\u001b[0m     \u001b[0;32mreturn\u001b[0m \u001b[0mresult\u001b[0m\u001b[0;34m.\u001b[0m\u001b[0mupper\u001b[0m\u001b[0;34m(\u001b[0m\u001b[0;34m)\u001b[0m\u001b[0;34m\u001b[0m\u001b[0m\n\u001b[1;32m      4\u001b[0m \u001b[0;34m\u001b[0m\u001b[0m\n\u001b[1;32m      5\u001b[0m \u001b[0;32mdef\u001b[0m \u001b[0mpredict_multi_always\u001b[0m\u001b[0;34m(\u001b[0m\u001b[0mclf\u001b[0m\u001b[0;34m,\u001b[0m \u001b[0mx\u001b[0m\u001b[0;34m)\u001b[0m\u001b[0;34m:\u001b[0m\u001b[0;34m\u001b[0m\u001b[0m\n",
      "\u001b[0;31mKeyboardInterrupt\u001b[0m: "
     ]
    }
   ],
   "source": [
    "transformer = TfidfVectorizer(max_df=0.7, preprocessor=pre_process)\n",
    "transformer = transformer.fit(unlabeled_corpus)\n",
    "\n",
    "X = transformer.fit_transform(source_corpus)\n",
    "y = mlb.fit_transform(source_labels)\n",
    "\n",
    "clf = SGDClassifier(loss='log', penalty='none', alpha=1e-6, random_state=42, max_iter=10)\n",
    "clf = OneVsRestClassifier(clf).fit(X, y)\n",
    "\n",
    "\n",
    "p, r, f1 = evaluate_target_domain(transformer, mlb, clf, source_corpus, source_labels)\n",
    "print(p)\n",
    "print(r)\n",
    "print(f1)"
   ]
  },
  {
   "cell_type": "markdown",
   "metadata": {},
   "source": [
    "# TFIDF"
   ]
  },
  {
   "cell_type": "code",
   "execution_count": 77,
   "metadata": {},
   "outputs": [],
   "source": [
    "import random"
   ]
  },
  {
   "cell_type": "code",
   "execution_count": 81,
   "metadata": {},
   "outputs": [
    {
     "name": "stdout",
     "output_type": "stream",
     "text": [
      "P,R,F1\n",
      "0.05555555555555555\n",
      "0.1963470319634703\n",
      "0.0866062437059416\n",
      "P,R,F1\n",
      "0.032318210068365445\n",
      "0.2374429223744292\n",
      "0.05689277899343545\n",
      "P,R,F1\n",
      "0.036734693877551024\n",
      "0.2465753424657534\n",
      "0.06394316163410303\n"
     ]
    },
    {
     "data": {
      "image/png": "[encoded data removed]",
      "text/plain": [
       "<matplotlib.figure.Figure at 0x7f41d8c60e80>"
      ]
     },
     "metadata": {},
     "output_type": "display_data"
    },
    {
     "name": "stdout",
     "output_type": "stream",
     "text": [
      "P,R,F1\n",
      "0.15609756097560976\n",
      "0.2922374429223744\n",
      "0.20349761526232113\n",
      "P,R,F1\n",
      "0.15517241379310345\n",
      "0.2876712328767123\n",
      "0.20159999999999997\n",
      "P,R,F1\n",
      "0.16752577319587628\n",
      "0.2968036529680365\n",
      "0.21416803953871497\n"
     ]
    },
    {
     "data": {
      "image/png": "[encoded data removed]",
      "text/plain": [
       "<matplotlib.figure.Figure at 0x7f41d8a35da0>"
      ]
     },
     "metadata": {},
     "output_type": "display_data"
    },
    {
     "name": "stdout",
     "output_type": "stream",
     "text": [
      "P,R,F1\n",
      "0.19682539682539682\n",
      "0.2831050228310502\n",
      "0.23220973782771534\n",
      "P,R,F1\n",
      "0.24545454545454545\n",
      "0.3698630136986301\n",
      "0.29508196721311475\n",
      "P,R,F1\n",
      "0.21282798833819241\n",
      "0.3333333333333333\n",
      "0.2597864768683274\n"
     ]
    },
    {
     "data": {
      "image/png": "[encoded data removed]",
      "text/plain": [
       "<matplotlib.figure.Figure at 0x7f41d71cf240>"
      ]
     },
     "metadata": {},
     "output_type": "display_data"
    },
    {
     "name": "stdout",
     "output_type": "stream",
     "text": [
      "P,R,F1\n",
      "0.24916943521594684\n",
      "0.3424657534246575\n",
      "0.28846153846153844\n",
      "P,R,F1\n",
      "0.19932432432432431\n",
      "0.2694063926940639\n",
      "0.229126213592233\n",
      "P,R,F1\n",
      "0.2129032258064516\n",
      "0.3013698630136986\n",
      "0.24952741020793948\n"
     ]
    },
    {
     "data": {
      "image/png": "[encoded data removed]",
      "text/plain": [
       "<matplotlib.figure.Figure at 0x7f41da607b70>"
      ]
     },
     "metadata": {},
     "output_type": "display_data"
    },
    {
     "name": "stdout",
     "output_type": "stream",
     "text": [
      "P,R,F1\n",
      "0.25\n",
      "0.3287671232876712\n",
      "0.28402366863905326\n",
      "P,R,F1\n",
      "0.240625\n",
      "0.3515981735159817\n",
      "0.2857142857142857\n",
      "P,R,F1\n",
      "0.24496644295302014\n",
      "0.3333333333333333\n",
      "0.2823984526112186\n"
     ]
    },
    {
     "data": {
      "image/png": "[encoded data removed]",
      "text/plain": [
       "<matplotlib.figure.Figure at 0x7f41da47a3c8>"
      ]
     },
     "metadata": {},
     "output_type": "display_data"
    },
    {
     "name": "stdout",
     "output_type": "stream",
     "text": [
      "P,R,F1\n",
      "0.25539568345323743\n",
      "0.3242009132420091\n",
      "0.2857142857142857\n",
      "P,R,F1\n",
      "0.23322683706070288\n",
      "0.3333333333333333\n",
      "0.2744360902255639\n",
      "P,R,F1\n",
      "0.24752475247524752\n",
      "0.3424657534246575\n",
      "0.28735632183908044\n"
     ]
    },
    {
     "data": {
      "image/png": "[encoded data removed]",
      "text/plain": [
       "<matplotlib.figure.Figure at 0x7f41d8aaa240>"
      ]
     },
     "metadata": {},
     "output_type": "display_data"
    },
    {
     "name": "stdout",
     "output_type": "stream",
     "text": [
      "P,R,F1\n",
      "0.2757352941176471\n",
      "0.3424657534246575\n",
      "0.3054989816700611\n",
      "P,R,F1\n",
      "0.2508591065292096\n",
      "0.3333333333333333\n",
      "0.2862745098039216\n",
      "P,R,F1\n",
      "0.26148409893992935\n",
      "0.3378995433789954\n",
      "0.2948207171314741\n"
     ]
    },
    {
     "data": {
      "image/png": "[encoded data removed]",
      "text/plain": [
       "<matplotlib.figure.Figure at 0x7f41d9fd6080>"
      ]
     },
     "metadata": {},
     "output_type": "display_data"
    },
    {
     "name": "stdout",
     "output_type": "stream",
     "text": [
      "P,R,F1\n",
      "0.26811594202898553\n",
      "0.3378995433789954\n",
      "0.29898989898989903\n",
      "P,R,F1\n",
      "0.27715355805243447\n",
      "0.3378995433789954\n",
      "0.3045267489711934\n",
      "P,R,F1\n",
      "0.2631578947368421\n",
      "0.3424657534246575\n",
      "0.2976190476190476\n"
     ]
    },
    {
     "data": {
      "image/png": "[encoded data removed]",
      "text/plain": [
       "<matplotlib.figure.Figure at 0x7f41d9791d30>"
      ]
     },
     "metadata": {},
     "output_type": "display_data"
    }
   ],
   "source": [
    "transformer = TfidfVectorizer(max_df=0.7, preprocessor=pre_process)\n",
    "mlb = MultiLabelBinarizer()\n",
    "\n",
    "\n",
    "x = []\n",
    "py = []\n",
    "ry = []\n",
    "f1y = []\n",
    "\n",
    "for i in range(0,40000,5000):\n",
    "    \n",
    "    pyi = []\n",
    "    ryi = []\n",
    "    f1yi = []\n",
    "    \n",
    "    for j in range(0,3):\n",
    "    \n",
    "        tfidf_corpus = []\n",
    "        for obj in random.sample(unlabeled_corpus, i):\n",
    "            tfidf_corpus.append(obj)\n",
    "\n",
    "#         for obj in source_corpus:\n",
    "#             tfidf_corpus.append(obj)\n",
    "\n",
    "        transformer = None\n",
    "        transformer = TfidfVectorizer(max_df=0.7, preprocessor=pre_process)\n",
    "        transformer = transformer.fit(tfidf_corpus)\n",
    "\n",
    "        X = transformer.transform(source_corpus)\n",
    "        y = mlb.fit_transform(source_labels)\n",
    "\n",
    "        clf = SGDClassifier(loss='log', penalty='none', alpha=1e-6, random_state=42, max_iter=10)\n",
    "        clf = OneVsRestClassifier(clf).fit(X, y)\n",
    "\n",
    "    #     evaluate_target_domain(transformer, mlb, clf, source_corpus, source_labels)\n",
    "        p, r, f1 = evaluate_target_domain(transformer, mlb, clf, target_corpus, target_labels)\n",
    "        \n",
    "        pyi.append(p)\n",
    "        ryi.append(r)\n",
    "        f1yi.append(f1)\n",
    "    \n",
    "    x.append(i)\n",
    "    py.append(np.mean(pyi))\n",
    "    ry.append(np.mean(ryi))\n",
    "    f1y.append(np.mean(f1yi))\n",
    "    \n",
    "    plt.plot(x, py, label='Precision')\n",
    "    plt.plot(x, ry, label='Recall')\n",
    "    plt.plot(x, f1y, label='F1-score')\n",
    "    plt.xlabel('Number of unlabeled samples')\n",
    "    plt.ylabel('Score')\n",
    "    plt.xlim(xmax=35000)\n",
    "    plt.xlim(xmin=0)\n",
    "    plt.ylim(ymin=0.1,ymax=0.8)\n",
    "    plt.title('Tf-idf corpus augmentation')\n",
    "    plt.legend()\n",
    "    plt.show()"
   ]
  },
  {
   "cell_type": "code",
   "execution_count": 119,
   "metadata": {},
   "outputs": [
    {
     "name": "stdout",
     "output_type": "stream",
     "text": [
      "P,R,F1\n",
      "0.44516129032258067\n",
      "0.3150684931506849\n",
      "0.3689839572192513\n"
     ]
    }
   ],
   "source": [
    "tfidf_corpus = []\n",
    "for obj in unlabeled_corpus:\n",
    "    tfidf_corpus.append(obj)\n",
    "\n",
    "for obj in source_corpus:\n",
    "    tfidf_corpus.append(obj)\n",
    "    \n",
    "transformer = TfidfVectorizer(max_df=0.7, preprocessor=pre_process)\n",
    "transformer = transformer.fit(tfidf_corpus)\n",
    "\n",
    "X = transformer.transform(source_corpus)\n",
    "y = mlb.fit_transform(source_labels)\n",
    "\n",
    "clf = SGDClassifier(loss='log', penalty='none', alpha=1e-6, random_state=42, max_iter=10)\n",
    "clf = OneVsRestClassifier(clf).fit(X, y)\n",
    "\n",
    "#     evaluate_target_domain(transformer, mlb, clf, source_corpus, source_labels)\n",
    "p, r, f1 = evaluate_target_domain(transformer, mlb, clf, target_corpus, target_labels)"
   ]
  },
  {
   "cell_type": "code",
   "execution_count": null,
   "metadata": {},
   "outputs": [],
   "source": []
  },
  {
   "cell_type": "code",
   "execution_count": null,
   "metadata": {},
   "outputs": [],
   "source": []
  },
  {
   "cell_type": "markdown",
   "metadata": {},
   "source": [
    "# Threshold adjustment"
   ]
  },
  {
   "cell_type": "code",
   "execution_count": 110,
   "metadata": {},
   "outputs": [],
   "source": [
    "def predict_threshold(clf, x, t):\n",
    "    y_pred = clf.predict(x)\n",
    "    y_prob = clf.predict_proba(x)\n",
    "    \n",
    "    for sample_index in range(0,len(y_pred)):\n",
    "        \n",
    "        for label_index in range(0, len(y_prob[sample_index])):\n",
    "            \n",
    "            if y_prob[sample_index][label_index] > t:\n",
    "                y_pred[sample_index][label_index] = 1\n",
    "            else:\n",
    "                y_pred[sample_index][label_index] = 0\n",
    "        \n",
    "    return y_pred\n",
    "\n",
    "def train_clf(corpus, labels):\n",
    "    transformer = TfidfVectorizer(max_df=0.7, preprocessor=pre_process)\n",
    "    mlb = MultiLabelBinarizer()\n",
    "    \n",
    "    X = transformer.fit_transform(corpus)\n",
    "    y = mlb.fit_transform(labels)\n",
    "    \n",
    "    clf = SGDClassifier(loss='log', penalty='none', alpha=1e-6, random_state=42, max_iter=10)\n",
    "    clf = OneVsRestClassifier(clf).fit(X, y)\n",
    "    \n",
    "    return transformer, mlb, clf\n",
    "\n",
    "def evaluate_target_threshold(transformer, mlb, clf, threshold, corpus, labels):\n",
    "    X = transformer.transform(corpus)\n",
    "    y = mlb.transform(labels)\n",
    "    \n",
    "    y_pred = predict_threshold(clf, X, threshold)\n",
    "    \n",
    "    p = precision_score(y, y_pred, average='micro')\n",
    "    r = recall_score(y, y_pred, average='micro')\n",
    "    f1 = f1_score(y, y_pred, average='micro')\n",
    "    \n",
    "    print('P,R,F1')\n",
    "    print(p)\n",
    "    print(r)\n",
    "    print(f1)\n",
    "    \n",
    "    return [p, r, f1]"
   ]
  },
  {
   "cell_type": "code",
   "execution_count": 85,
   "metadata": {},
   "outputs": [],
   "source": []
  },
  {
   "cell_type": "code",
   "execution_count": 122,
   "metadata": {},
   "outputs": [
    {
     "name": "stdout",
     "output_type": "stream",
     "text": [
      "\n",
      "0.0\n",
      "-----\n",
      "P,R,F1\n",
      "0.012030323005932762\n",
      "1.0\n",
      "0.023774629539163004\n",
      "\n",
      "0.05\n",
      "-----\n",
      "P,R,F1\n",
      "0.09515570934256055\n",
      "0.502283105022831\n",
      "0.16\n",
      "\n",
      "0.1\n",
      "-----\n",
      "P,R,F1\n",
      "0.15615141955835962\n",
      "0.4520547945205479\n",
      "0.23212192262602577\n",
      "\n",
      "0.15000000000000002\n",
      "-----\n",
      "P,R,F1\n",
      "0.19703389830508475\n",
      "0.4246575342465753\n",
      "0.2691751085383502\n",
      "\n",
      "0.2\n",
      "-----\n",
      "P,R,F1\n",
      "0.24258760107816713\n",
      "0.410958904109589\n",
      "0.3050847457627119\n",
      "\n",
      "0.25\n",
      "-----\n",
      "P,R,F1\n",
      "0.2783171521035599\n",
      "0.3926940639269406\n",
      "0.3257575757575758\n",
      "\n",
      "0.30000000000000004\n",
      "-----\n",
      "P,R,F1\n",
      "0.2872727272727273\n",
      "0.3607305936073059\n",
      "0.31983805668016196\n",
      "\n",
      "0.35000000000000003\n",
      "-----\n",
      "P,R,F1\n",
      "0.3206751054852321\n",
      "0.3470319634703196\n",
      "0.3333333333333333\n",
      "\n",
      "0.4\n",
      "-----\n",
      "P,R,F1\n",
      "0.38144329896907214\n",
      "0.3378995433789954\n",
      "0.3583535108958838\n",
      "\n",
      "0.45\n",
      "-----\n",
      "P,R,F1\n",
      "0.4260355029585799\n",
      "0.3287671232876712\n",
      "0.3711340206185567\n",
      "\n",
      "0.5\n",
      "-----\n",
      "P,R,F1\n",
      "0.44516129032258067\n",
      "0.3150684931506849\n",
      "0.3689839572192513\n",
      "\n",
      "0.55\n",
      "-----\n",
      "P,R,F1\n",
      "0.5074626865671642\n",
      "0.3105022831050228\n",
      "0.3852691218130312\n",
      "\n",
      "0.6000000000000001\n",
      "-----\n",
      "P,R,F1\n",
      "0.5327868852459017\n",
      "0.2968036529680365\n",
      "0.38123167155425225\n",
      "\n",
      "0.65\n",
      "-----\n",
      "P,R,F1\n",
      "0.5585585585585585\n",
      "0.2831050228310502\n",
      "0.37575757575757573\n",
      "\n",
      "0.7000000000000001\n",
      "-----\n",
      "P,R,F1\n",
      "0.6019417475728155\n",
      "0.2831050228310502\n",
      "0.3850931677018633\n",
      "\n",
      "0.75\n",
      "-----\n",
      "P,R,F1\n",
      "0.5542168674698795\n",
      "0.2100456621004566\n",
      "0.304635761589404\n",
      "\n",
      "0.8\n",
      "-----\n",
      "P,R,F1\n",
      "0.6111111111111112\n",
      "0.2009132420091324\n",
      "0.3024054982817869\n",
      "\n",
      "0.8500000000000001\n",
      "-----\n",
      "P,R,F1\n",
      "0.6268656716417911\n",
      "0.1917808219178082\n",
      "0.2937062937062937\n",
      "\n",
      "0.9\n",
      "-----\n",
      "P,R,F1\n",
      "0.6833333333333333\n",
      "0.1872146118721461\n",
      "0.2939068100358423\n",
      "\n",
      "0.9500000000000001\n",
      "-----\n",
      "P,R,F1\n",
      "0.7857142857142857\n",
      "0.1506849315068493\n",
      "0.2528735632183908\n"
     ]
    },
    {
     "data": {
      "image/png": "[encoded data removed]",
      "text/plain": [
       "<matplotlib.figure.Figure at 0x7f41da4339e8>"
      ]
     },
     "metadata": {},
     "output_type": "display_data"
    }
   ],
   "source": [
    "tfidf_corpus = []\n",
    "for obj in unlabeled_corpus:\n",
    "    tfidf_corpus.append(obj)\n",
    "\n",
    "for obj in source_corpus:\n",
    "    tfidf_corpus.append(obj)\n",
    "    \n",
    "transformer = TfidfVectorizer(max_df=0.7, preprocessor=pre_process)\n",
    "transformer = transformer.fit(tfidf_corpus)\n",
    "\n",
    "X = transformer.transform(source_corpus)\n",
    "y = mlb.fit_transform(source_labels)\n",
    "\n",
    "clf = SGDClassifier(loss='log', penalty='none', alpha=1e-6, random_state=42, max_iter=10)\n",
    "clf = OneVsRestClassifier(clf).fit(X, y)\n",
    "\n",
    "x = []\n",
    "p = []\n",
    "r = []\n",
    "f1 = []\n",
    "\n",
    "for i in np.arange(0.0, 1.0, 0.05):\n",
    "    print('\\n{}\\n-----'.format(i))\n",
    "    \n",
    "    pi, ri, f1i = evaluate_target_threshold(transformer, mlb, clf, i, target_corpus, target_labels)\n",
    "    \n",
    "    x.append(i)\n",
    "    p.append(pi)\n",
    "    r.append(ri)\n",
    "    f1.append(f1i)\n",
    "\n",
    "plt.plot(x, p, label='Precision')\n",
    "plt.plot(x, r, label='Recall')\n",
    "plt.plot(x, f1, label='F1-score')\n",
    "plt.xlabel('Certainty Threshold')\n",
    "plt.ylabel('Score')\n",
    "plt.xlim(xmax=1.0)\n",
    "plt.xlim(xmin=0.0)\n",
    "plt.ylim(ymin=0.0,ymax=1.0)\n",
    "plt.title('Certainty threshold optimization target domain')\n",
    "plt.legend()\n",
    "plt.show()"
   ]
  },
  {
   "cell_type": "markdown",
   "metadata": {},
   "source": [
    "# Check errors"
   ]
  },
  {
   "cell_type": "code",
   "execution_count": 16,
   "metadata": {},
   "outputs": [],
   "source": [
    "transformer = TfidfVectorizer(max_df=0.7, preprocessor=pre_process)\n",
    "mlb = MultiLabelBinarizer()\n",
    "transformer = transformer.fit(source_corpus)\n",
    "\n",
    "X_train = transformer.transform(source_corpus)\n",
    "y_train = mlb.fit_transform(source_labels)\n",
    "\n",
    "clf = SGDClassifier(loss='log', penalty='none', alpha=1e-6, random_state=42, max_iter=10)\n",
    "clf = OneVsRestClassifier(clf).fit(X_train, y_train)\n",
    "\n",
    "X_test = transformer.transform(target_corpus)\n",
    "y_test = mlb.transform(target_labels)\n",
    "\n",
    "y_pred = clf.predict(X_test)"
   ]
  },
  {
   "cell_type": "code",
   "execution_count": 17,
   "metadata": {},
   "outputs": [
    {
     "name": "stdout",
     "output_type": "stream",
     "text": [
      "[('Bestuur | Gemeenten', 'Natuur en milieu | Organisatie en beleid')]\n",
      "[()]\n",
      "Zorg voor milieu en klimaat  Hoe graag zouden we n\n",
      "[('Bestuur | Gemeenten',)]\n",
      "[()]\n",
      "Wat doet een gemeenteraadsfractie nu eigenlijk als\n",
      "[('Bestuur | Gemeenten',)]\n",
      "[('Bestuur | Organisatie en beleid',)]\n",
      "Op 21 maart vechten we om de steun van 32.260 kies\n",
      "[('Bestuur | Gemeenten',)]\n",
      "[()]\n",
      "KANSEN ZIEN voor Nuenen, stem juist nu op het CDA!\n",
      "[('Bestuur | Gemeenten',)]\n",
      "[('Financiën | Belasting',)]\n",
      "Verandering begint in ’s-Hertogenbosch. Zeker als \n",
      "[('Bestuur | Gemeenten',)]\n",
      "[()]\n",
      "Even voorstellen: Kristel Bottinga, nummer 3 op de\n",
      "[('Zorg en gezondheid | Jongeren',)]\n",
      "[('Zorg en gezondheid | Jongeren',)]\n",
      "De ChristenUnie en jongerenorganisatie PerspectieF\n",
      "[('Bestuur | Gemeenten', 'Bestuur | Organisatie en beleid')]\n",
      "[()]\n",
      "Na het verkiezingsdebat van 14 maart 2018 in Place\n",
      "[()]\n",
      "[()]\n",
      "Wat een mooie campagnedag afgelopen zaterdag! Tien\n",
      "[('Openbare orde en veiligheid | Organisatie en beleid',)]\n",
      "[()]\n",
      "Mark RutteWe leven in een onrustige wereld. Er zij\n",
      "[('Zorg en gezondheid | Organisatie en beleid',)]\n",
      "[('Zorg en gezondheid | Organisatie en beleid',)]\n",
      "De top 10 uit ons verkiezingsprogramma :   We zijn\n",
      "[('Bestuur | Gemeenten',)]\n",
      "[()]\n",
      "Het CDA is de grootste landelijke partij in de lok\n",
      "[('Bestuur | Gemeenten',)]\n",
      "[('Bestuur | Gemeenten',)]\n",
      "Op 21 maart 2018 kiezen we een nieuwe gemeenteraad\n",
      "[('Bestuur | Gemeenten', 'Natuur en milieu | Energie', 'Werk | Werkgelegenheid')]\n",
      "[()]\n",
      "Vanochtend organiseerde Landstede Raalte een verki\n",
      "[('Cultuur en recreatie | Cultuur',)]\n",
      "[('Cultuur en recreatie | Cultuur',)]\n",
      "Oldambt is de trotse eigenaar van een stukje UNESC\n",
      "[('Bestuur | Gemeenten', 'Zorg en gezondheid | Organisatie en beleid')]\n",
      "[()]\n",
      "Daan Agelink (1925) is al vele jaren lid van de SP\n",
      "[()]\n",
      "[()]\n",
      "Op zondag 18 maart om 13.00 uur is Tamara van Ark,\n",
      "[('Bestuur | Organisatie en beleid',)]\n",
      "[()]\n",
      "Zaterdag heb ik geflyerd. Het was zacht lenteweer \n",
      "[('Bestuur | Gemeenten',)]\n",
      "[('Bestuur | Gemeenten',)]\n",
      "Op 21 maart gaat ook de gemeente Heerhugowaard naa\n",
      "[('Economie | Overige economische sectoren',)]\n",
      "[()]\n",
      "Een bijzondere samenwerking van zeven politieke pa\n",
      "[('Huisvesting | Organisatie en beleid',)]\n",
      "[()]\n",
      "Partij van de Arbeid (PvdA)Door heel Nederland zet\n",
      "[('Zorg en gezondheid | Jongeren',)]\n",
      "[()]\n",
      "“Fuck de markt, kiezen voor zekerheid!”  Die uitsp\n",
      "[('Openbare orde en veiligheid | Organisatie en beleid',)]\n",
      "[('Openbare orde en veiligheid | Organisatie en beleid',)]\n",
      "Over veiligheid... Het gaat natuurlijk over onze e\n",
      "[('Verkeer | Weg',)]\n",
      "[()]\n",
      "D66 heeft vanavond bij het vaststellen van het bes\n",
      "[('Natuur en milieu | Organisatie en beleid', 'Sociale zekerheid | Gezin en kinderen', 'Sociale zekerheid | Organisatie en beleid', 'Verkeer | Weg')]\n",
      "[()]\n",
      "Het Kieskompas staat weer online! Voor elke verkie\n",
      "[('Natuur en milieu | Natuur- en landschapsbeheer',)]\n",
      "[()]\n",
      "De nieuwe werkweek is alweer bijna begonnen. Maar \n",
      "[('Bestuur | Gemeenten',)]\n",
      "[()]\n",
      "Op donderdag 3 mei zijn voor het CDA Karlijn van K\n",
      "[('Zorg en gezondheid | Jongeren',)]\n",
      "[()]\n",
      "Roel Bouwman is fractievoorzitter van de Gestelse \n",
      "[('Verkeer | Weg',)]\n",
      "[()]\n",
      "none\n",
      "[('Bestuur | Gemeenten',)]\n",
      "[('Bestuur | Gemeenten',)]\n",
      "De afgelopen weken hebben de leden van D66 Lochem \n",
      "[('Zorg en gezondheid | Organisatie en beleid',)]\n",
      "[('Zorg en gezondheid | Organisatie en beleid',)]\n",
      "Bij het begin van een koude 'Open Dag van het ZGT \n",
      "[('Economie | Overige economische sectoren',)]\n",
      "[('Financiën | Belasting',)]\n",
      "Wie had dat 4 jaar geleden gedacht. Dat ik dit nog\n",
      "[('Openbare orde en veiligheid | Criminaliteit',)]\n",
      "[()]\n",
      "Beste PvdA kandidaten Emmen, Ik hoor net op het ni\n",
      "[('Huisvesting | Organisatie en beleid',)]\n",
      "[()]\n",
      "Als je in de gemeente Nieuwkoop woont, krijg je va\n",
      "[('Openbare orde en veiligheid | Criminaliteit',)]\n",
      "[('Openbare orde en veiligheid | Criminaliteit',)]\n",
      "Kijk nu live mee naar de Meet Up met o.a. Jesse Kl\n",
      "[('Openbare orde en veiligheid | Criminaliteit',)]\n",
      "[('Openbare orde en veiligheid | Criminaliteit',)]\n",
      "Nu live vanuit de Melkweg in Amsterdam!  https://w\n",
      "[('Openbare orde en veiligheid | Criminaliteit',)]\n",
      "[('Openbare orde en veiligheid | Criminaliteit',)]\n",
      "Kijk nu mee naar de Meetup in de Melkweg! Amsterda\n",
      "[('Huisvesting | Huren en verhuren', 'Huisvesting | Organisatie en beleid', 'Verkeer | Organisatie en beleid')]\n",
      "[()]\n",
      "Interview NL Magazine met Floor Roduner en Marceli\n",
      "[('Financiën | Financieel toezicht',)]\n",
      "[()]\n",
      "DE TOEKOMST VAN ‘HET KLOOSTER’&nbsp;– HET HART VAN\n",
      "[('Bestuur | Organisatie en beleid',)]\n",
      "[()]\n",
      "Onze lijsttrekker Math.Knubben geeft in het gespre\n",
      "[('Cultuur en recreatie | Cultuur',)]\n",
      "[()]\n",
      "Voor de zesde keer organiseert het CDA een muzikal\n",
      "[('Bestuur | Gemeenten',)]\n",
      "[()]\n",
      "&nbsp;1.Opening&nbsp; 2.Vragen door raadsleden&nbs\n",
      "[('Bestuur | Gemeenten',)]\n",
      "[()]\n",
      "Het CDA Ooststellingwerf wil haar leden zoveel mog\n",
      "[('Bestuur | Gemeenten',)]\n",
      "[('Economie | ICT', 'Openbare orde en veiligheid | Criminaliteit')]\n",
      "De schitterende reactie van onze Rotterdamse PvdA \n",
      "[('Bestuur | Gemeenten',)]\n",
      "[('Bestuur | Gemeenten',)]\n",
      "Maandag 21.00 uur live het tv-debat Roosendaal.Zui\n",
      "[('Openbare orde en veiligheid | Criminaliteit',)]\n",
      "[('Openbare orde en veiligheid | Criminaliteit',)]\n",
      "Heel benieuwd wat Simon Fortuyn, plv voorzitter va\n",
      "[('Onderwijs en wetenschap | Voortgezet onderwijs', 'Verkeer | Weg', 'Zorg en gezondheid | Jongeren')]\n",
      "[()]\n",
      "Voorwoord lijsttrekker  In 1996 ben ik lid geworde\n",
      "[('Sociale zekerheid | Gezin en kinderen', 'Zorg en gezondheid | Organisatie en beleid')]\n",
      "[()]\n",
      "Op woensdag 21 maart mag jij naar de stembus. Kies\n",
      "[('Bestuur | Gemeenten', 'Zorg en gezondheid | Organisatie en beleid')]\n",
      "[()]\n",
      "Overal zijn vandaag ChristenUnie-kandidaten en cam\n",
      "[('Cultuur en recreatie | Sport', 'Zorg en gezondheid | Organisatie en beleid')]\n",
      "[()]\n",
      "Op 14 maart jl. ontving het CDA Deurne een brief v\n",
      "[('Zorg en gezondheid | Organisatie en beleid',)]\n",
      "[()]\n",
      "Meld je aan!GroenLinksBen je van plan naar de Verk\n",
      "[('Natuur en milieu | Energie', 'Natuur en milieu | Natuur- en landschapsbeheer')]\n",
      "[()]\n",
      "Robert Barker (1987) is de nummer twee op onze kan\n",
      "[('Huisvesting | Bouwen en verbouwen',)]\n",
      "[('Natuur en milieu | Bodem', 'Natuur en milieu | Natuur- en landschapsbeheer')]\n",
      "Een fijn huis is voor iedere Nederlander belangrij\n",
      "[('Natuur en milieu | Organisatie en beleid',)]\n",
      "[()]\n",
      "D66 werkt mét Utrechters aan een duurzame toekomst\n",
      "[('Bestuur | Parlement', 'Verkeer | Weg')]\n",
      "[()]\n",
      "Fietsers overgeleverd aan een zeer gevaarlijke Ken\n",
      "[('Bestuur | Gemeenten',)]\n",
      "[('Internationaal | Organisatie en beleid',)]\n",
      "Lijsttrekker Astrid van de Weijenberg en wethouder\n",
      "[('Bestuur | Gemeenten',)]\n",
      "[()]\n",
      "IK WAS TE GAST BIJ DE GEMEENTERAAD NUENEN C.A.  Ee\n",
      "[('Natuur en milieu | Afval', 'Recht | Staatsrecht')]\n",
      "[()]\n",
      "Den Haag is al de mooiste stad van de wereld, maar\n",
      "[('Zorg en gezondheid | Organisatie en beleid',)]\n",
      "[()]\n",
      "Meer weten over de verkiezingen in jouw gemeente? \n",
      "[('Bestuur | Gemeenten', 'Openbare orde en veiligheid | Criminaliteit')]\n",
      "[()]\n",
      "Elke stem telt! Ook die van jou!  Volgens de laats\n",
      "[('Openbare orde en veiligheid | Criminaliteit',)]\n",
      "[()]\n",
      "Kijk mee naar de állerlaatste Meetup voor de gemee\n",
      "[('Cultuur en recreatie | Religie',)]\n",
      "[('Openbare orde en veiligheid | Criminaliteit',)]\n",
      "Aanstaande woensdag op 21 maart zijn de gemeentera\n",
      "[('Openbare orde en veiligheid | Criminaliteit',)]\n",
      "[('Bestuur | Gemeenten',)]\n",
      "Nog aan het twijfelen wat je 21 maart gaat stemmen\n",
      "[('Openbare orde en veiligheid | Organisatie en beleid',)]\n",
      "[()]\n",
      "Onze nummer drie Tim Zeegers heeft een schokkende \n",
      "[('Economie | Transport', 'Verkeer | Weg')]\n",
      "[()]\n",
      "De VVD zit nu al jarenlang in het college in Zaans\n",
      "[('Sociale zekerheid | Werkloosheid', 'Werk | Organisatie en beleid')]\n",
      "[('Openbare orde en veiligheid | Organisatie en beleid', 'Werk | Arbeidsomstandigheden')]\n",
      "Geslaagde thema-avond met Linda Voortman en Marloe\n",
      "[('Zorg en gezondheid | Organisatie en beleid',)]\n",
      "[('Zorg en gezondheid | Organisatie en beleid',)]\n",
      "Met trots presenteren we onze TOP10 : Spencer Zeeg\n",
      "[('Economie | Organisatie en beleid', 'Natuur en milieu | Organisatie en beleid')]\n",
      "[('Internationaal | Organisatie en beleid', 'Openbare orde en veiligheid | Criminaliteit', 'Ruimte en infrastructuur | Netwerken')]\n",
      "Een groen en duurzaam Alkmaar, dat is waar David S\n",
      "[('Economie | Overige economische sectoren',)]\n",
      "[()]\n",
      "De kolencentrales moeten dicht. Willen we een leef\n",
      "[('Openbare orde en veiligheid | Criminaliteit',)]\n",
      "[('Bestuur | Organisatie en beleid', 'Bestuur | Parlement', 'Openbare orde en veiligheid | Criminaliteit')]\n",
      "GroenLinks is gestart met de Sleeplijn. Mensen die\n",
      "[('Openbare orde en veiligheid | Criminaliteit',)]\n",
      "[('Bestuur | Organisatie en beleid', 'Bestuur | Parlement', 'Openbare orde en veiligheid | Criminaliteit')]\n",
      "GroenLinks is gestart met de Sleeplijn. Mensen die\n",
      "[('Openbare orde en veiligheid | Criminaliteit',)]\n",
      "[('Bestuur | Organisatie en beleid', 'Bestuur | Parlement', 'Openbare orde en veiligheid | Criminaliteit')]\n",
      "GroenLinks is gestart met de Sleeplijn. Mensen die\n",
      "[('Openbare orde en veiligheid | Criminaliteit',)]\n",
      "[('Bestuur | Organisatie en beleid', 'Bestuur | Parlement', 'Openbare orde en veiligheid | Criminaliteit')]\n",
      "GroenLinks is gestart met de Sleeplijn. Mensen die\n",
      "[('Openbare orde en veiligheid | Criminaliteit',)]\n",
      "[('Bestuur | Organisatie en beleid', 'Bestuur | Parlement', 'Openbare orde en veiligheid | Criminaliteit')]\n",
      "GroenLinks is gestart met de Sleeplijn. Mensen die\n",
      "[('Openbare orde en veiligheid | Criminaliteit',)]\n",
      "[('Bestuur | Organisatie en beleid', 'Bestuur | Parlement', 'Openbare orde en veiligheid | Criminaliteit')]\n",
      "GroenLinks is gestart met de Sleeplijn. Mensen die\n",
      "[('Openbare orde en veiligheid | Criminaliteit',)]\n",
      "[('Bestuur | Organisatie en beleid', 'Bestuur | Parlement', 'Openbare orde en veiligheid | Criminaliteit')]\n",
      "GroenLinks is gestart met de Sleeplijn. Mensen die\n",
      "[('Openbare orde en veiligheid | Criminaliteit',)]\n",
      "[('Bestuur | Organisatie en beleid', 'Bestuur | Parlement', 'Openbare orde en veiligheid | Criminaliteit')]\n",
      "GroenLinks is gestart met de Sleeplijn. Mensen die\n",
      "[('Openbare orde en veiligheid | Criminaliteit',)]\n",
      "[('Internationaal | Organisatie en beleid', 'Openbare orde en veiligheid | Criminaliteit')]\n",
      "GroenLinksKijk nu mee naar de Meetup in de Melkweg\n",
      "[('Openbare orde en veiligheid | Criminaliteit',)]\n",
      "[('Bestuur | Gemeenten',)]\n",
      "\"Deze wet is niet het juiste antwoord. Met deze we\n",
      "[('Openbare orde en veiligheid | Criminaliteit',)]\n",
      "[('Openbare orde en veiligheid | Criminaliteit',)]\n",
      "Weet je het nog niet? Voor of tegen de #sleepwet? \n",
      "[('Bestuur | Parlement',)]\n",
      "[('Bestuur | Organisatie en beleid', 'Bestuur | Parlement')]\n",
      "GroenLinks is gestart met de Sleeplijn. Mensen die\n",
      "[('Openbare orde en veiligheid | Criminaliteit',)]\n",
      "[('Bestuur | Organisatie en beleid', 'Bestuur | Parlement', 'Openbare orde en veiligheid | Criminaliteit')]\n",
      "GroenLinks is gestart met de Sleeplijn. Mensen die\n",
      "[('Openbare orde en veiligheid | Criminaliteit',)]\n",
      "[('Bestuur | Organisatie en beleid', 'Bestuur | Parlement', 'Openbare orde en veiligheid | Criminaliteit')]\n",
      "GroenLinks is gestart met de Sleeplijn. Mensen die\n",
      "[('Openbare orde en veiligheid | Criminaliteit',)]\n",
      "[('Bestuur | Organisatie en beleid', 'Bestuur | Parlement', 'Openbare orde en veiligheid | Criminaliteit')]\n",
      "GroenLinks is gestart met de Sleeplijn. Mensen die\n",
      "[('Bestuur | Gemeenten',)]\n",
      "[('Landbouw | Dieren', 'Onderwijs en wetenschap | Organisatie en beleid')]\n",
      "De Partij voor de Dieren is bij uitstek een emanci\n",
      "[('Huisvesting | Bouwen en verbouwen', 'Natuur en milieu | Energie')]\n",
      "[()]\n",
      "Morgen gaat u naar de stembus voor de gemeenteraad\n",
      "[('Landbouw | Dieren', 'Natuur en milieu | Natuur- en landschapsbeheer')]\n",
      "[('Natuur en milieu | Natuur- en landschapsbeheer',)]\n",
      "WINA FAKKELDIJ-ANJEWIERDEN, nr. 15. Ik heb een een\n",
      "[('Natuur en milieu | Organisatie en beleid',)]\n",
      "[()]\n",
      "Waar staat de ChristenUnie voor?  Wij hebben de ta\n",
      "[('Bestuur | Gemeenten', 'Recht | Staatsrecht')]\n",
      "[()]\n",
      "D66💚 Prachtige oproep van D66'er Jan Terlouw. Stem\n",
      "[('Bestuur | Organisatie en beleid', 'Zorg en gezondheid | Ethiek', 'Zorg en gezondheid | Organisatie en beleid')]\n",
      "[('Bestuur | Organisatie en beleid', 'Zorg en gezondheid | Ethiek', 'Zorg en gezondheid | Organisatie en beleid')]\n",
      "Succesvolle start donorwet: ruim 10.000 extra dono\n",
      "[('Bestuur | Gemeenten',)]\n",
      "[()]\n",
      "De Participatiewet is ingegaan op 1 januari 2015. \n",
      "[('Bestuur | Gemeenten', 'Recht | Staatsrecht')]\n",
      "[()]\n",
      "Vandaag is het zover! We mogen stemmen! Hierbij va\n",
      "[('Zorg en gezondheid | Organisatie en beleid',)]\n",
      "[()]\n",
      "10 seconden geleden kregen wij de melding dat we 8\n",
      "[('Bestuur | Provincies',)]\n",
      "[()]\n",
      "Tot verbazing van velen heeft het CDA dinsdag 20-0\n",
      "[('Natuur en milieu | Energie', 'Natuur en milieu | Organisatie en beleid')]\n",
      "[()]\n",
      "Blij met het nieuws dat Kamermeerderheid zich op i\n",
      "[('Sociale zekerheid | Ouderen',)]\n",
      "[()]\n",
      "Waardig Ouder Worden: al meer dan tien instanties \n",
      "[('Bestuur | Gemeenten',)]\n",
      "[()]\n",
      "Fantastisch resultaat voor VVD De Wolden: de enige\n",
      "[('Bestuur | Gemeenten', 'Zorg en gezondheid | Jongeren')]\n",
      "[('Financiën | Belasting',)]\n",
      "Er hebben nagenoeg evenveel mensen op ons gestemd \n",
      "[('Bestuur | Gemeenten', 'Internationaal | Organisatie en beleid')]\n",
      "[()]\n",
      "Graag willen we iedereen bedanken die in Emmen op \n",
      "[('Bestuur | Gemeenten',)]\n",
      "[('Financiën | Belasting',)]\n",
      "We hebben geweldig nieuws! 😀 GroenLinks heeft niet\n",
      "[('Bestuur | Gemeenten',)]\n",
      "[()]\n",
      "26 zetels erbij! Van 58 in 2014 naar 84 raadsleden\n",
      "[('Bestuur | Gemeenten', 'Zorg en gezondheid | Jongeren')]\n",
      "[()]\n",
      "Dankzij de steun van iedereen die ons geholpen hee\n",
      "[('Bestuur | Gemeenten', 'Openbare orde en veiligheid | Politie, brandweer en hulpdiensten')]\n",
      "[()]\n",
      "Gisteren schreven we hier nog #veranderingbegintva\n",
      "[('Bestuur | Gemeenten', 'Cultuur en recreatie | Cultuur')]\n",
      "[()]\n",
      "Alle kiezers bedankt voor jullie vertrouwen! Alle \n",
      "[('Bestuur | Gemeenten', 'Bestuur | Organisatie en beleid')]\n",
      "[()]\n",
      "Een mooie verkiezingsuitslag: D66 blijft met vijf \n",
      "[('Verkeer | Luchtvaart',)]\n",
      "[('Verkeer | Luchtvaart',)]\n",
      "Vorig jaar diende D66, samen met de SP en GroenLin\n",
      "[('Bestuur | Gemeenten', 'Natuur en milieu | Natuur- en landschapsbeheer')]\n",
      "[('Natuur en milieu | Natuur- en landschapsbeheer',)]\n",
      "HET IS ZOVER! VANDAAG VERKIEZINGEN! Een stem op de\n",
      "[('Bestuur | Gemeenten', 'Landbouw | Dieren')]\n",
      "[('Landbouw | Dieren', 'Onderwijs en wetenschap | Organisatie en beleid')]\n",
      "De Partij voor de Dieren is bij uitstek een emanci\n",
      "[('Internationaal | Defensie',)]\n",
      "[('Financiën | Belasting', 'Internationaal | Organisatie en beleid')]\n",
      "GroenLinks DelftBedankt Delft! 🗳🙏🏽 We moeten nog e\n",
      "[('Landbouw | Dieren', 'Natuur en milieu | Natuur- en landschapsbeheer')]\n",
      "[('Landbouw | Dieren',)]\n",
      "Gisteren liepen we mee met de klimaatmars van het \n",
      "[('Openbare orde en veiligheid | Criminaliteit', 'Openbare orde en veiligheid | Organisatie en beleid')]\n",
      "[('Bestuur | Organisatie en beleid', 'Bestuur | Parlement', 'Openbare orde en veiligheid | Criminaliteit')]\n",
      "GroenLinks is gestart met de Sleeplijn. Mensen die\n",
      "[('Recht | Staatsrecht',)]\n",
      "[()]\n",
      "Omdat NIDA niet onverkort afstand heeft genomen va\n",
      "[('Natuur en milieu | Energie', 'Werk | Werkgelegenheid')]\n",
      "[('Natuur en milieu | Energie', 'Werk | Werkgelegenheid')]\n",
      "De energietransitie mag niet ten koste gaan van Ro\n",
      "[('Bestuur | Gemeenten',)]\n",
      "[('Bestuur | Gemeenten',)]\n",
      "Goed nieuws vanuit de gemeente. Na de hertellingen\n",
      "[('Bestuur | Gemeenten', 'Internationaal | Internationale samenwerking')]\n",
      "[()]\n",
      "ChristenUnie zet opnieuw prachtige uitslag neer in\n",
      "[('Bestuur | Gemeenten', 'Bestuur | Organisatie en beleid')]\n",
      "[()]\n",
      "De gemeenteraadsverkiezingen van 2018 zitten er we\n",
      "[('Bestuur | Organisatie en beleid', 'Zorg en gezondheid | Jongeren')]\n",
      "[()]\n",
      "Uw stem op het CDA Hilversum heeft resultaat opgel\n",
      "[('Recht | Staatsrecht',)]\n",
      "[('Recht | Staatsrecht',)]\n",
      "Gisteren was Congres 107 van D66. Natuurlijk was D\n",
      "[('Bestuur | Parlement',)]\n",
      "[('Bestuur | Organisatie en beleid', 'Bestuur | Parlement', 'Landbouw | Voedselkwaliteit')]\n",
      "Het bericht Alle stemmers BEDANKT! verscheen eerst\n",
      "[('Bestuur | Gemeenten', 'Openbare orde en veiligheid | Criminaliteit')]\n",
      "[('Bestuur | Gemeenten',)]\n",
      "Wij doen mee ! Jij ook?24 maart: Landelijke Opscho\n",
      "[('Bestuur | Gemeenten', 'Zorg en gezondheid | Organisatie en beleid')]\n",
      "[()]\n",
      "Dank, Leidenaren, voor jullie stem voor een social\n",
      "[('Zorg en gezondheid | Organisatie en beleid',)]\n",
      "[('Bestuur | Gemeenten',)]\n",
      "Nieuws uit het gemeentehuisEnergiecoach Epe van st\n",
      "[('Zorg en gezondheid | Organisatie en beleid',)]\n",
      "[()]\n",
      "Voorschoten OnlineOnderhandeling over collegevormi\n",
      "[('Landbouw | Dieren',)]\n",
      "[()]\n",
      "'s cover photo\n",
      "[('Bestuur | Gemeenten', 'Zorg en gezondheid | Jongeren')]\n",
      "[('Bestuur | Organisatie en beleid',)]\n",
      "Beste D66-stemmers in Alblasserdam, Dank voor het \n",
      "[('Bestuur | Gemeenten',)]\n",
      "[()]\n",
      "Kiezers bedankt! Van 12 naar 33 raadsleden in Nede\n",
      "[('Ruimte en infrastructuur | Waterkeringen en waterbeheer',)]\n",
      "[('Ruimte en infrastructuur | Waterkeringen en waterbeheer',)]\n",
      "Dinsdag 20 maart zetten Rob Veenman, hoogheemraad \n",
      "[('Internationaal | Europese zaken',)]\n",
      "[('Internationaal | Europese zaken',)]\n",
      "Maandag debatteerden Tweede Kamerleden en Europarl\n",
      "[('Openbare orde en veiligheid | Organisatie en beleid', 'Zorg en gezondheid | Organisatie en beleid')]\n",
      "[()]\n",
      "Wij hebben hier vaak naar gevraagd en nu eindelijk\n",
      "[('Bestuur | Organisatie en beleid',)]\n",
      "[()]\n",
      "Alexander Rinnooy Kan en Heleen van den Berg start\n",
      "[('Landbouw | Dieren',)]\n",
      "[()]\n",
      "Dode koolmezen en rupsen met obesitas 😱De MonitorD\n",
      "[('Internationaal | Europese zaken',)]\n",
      "[('Internationaal | Europese zaken',)]\n",
      "\"Het eigen huis op orde\" noemt de regering het.Hoe\n",
      "[('Bestuur | Gemeenten',)]\n",
      "[()]\n",
      "Hoera! We hebben een nieuwe fractievoorzitter: Rob\n",
      "[('Zorg en gezondheid | Organisatie en beleid',)]\n",
      "[()]\n",
      "Het formatieproces is op gang gekomen. Benieuwd na\n",
      "[('Zorg en gezondheid | Organisatie en beleid',)]\n",
      "[()]\n",
      "Eindrapportage Informatie fase Coalitievorming Gem\n",
      "[('Openbare orde en veiligheid | Criminaliteit',)]\n",
      "[()]\n",
      "Na de verkiezingen is Hans Démoed aangesteld als i\n",
      "[('Bestuur | Gemeenten',)]\n",
      "[()]\n",
      "Inmiddels zijn de verkiezingen alweer ruim een wee\n",
      "[('Migratie en integratie | Immigratie',)]\n",
      "[()]\n",
      "Zaterdagochtend komt de informateur met zijn versl\n",
      "[('Verkeer | Luchtvaart',)]\n",
      "[()]\n",
      "De uitbreiding van Schiphol is al jaren onderwerp \n",
      "[('Natuur en milieu | Afval', 'Natuur en milieu | Energie')]\n",
      "[('Natuur en milieu | Afval',)]\n",
      "Op initiatief van de SP gaat ook de provincie Zuid\n",
      "[('Migratie en integratie | Immigratie', 'Openbare orde en veiligheid | Criminaliteit')]\n",
      "[()]\n",
      "Bewoners van wooncentrum De Brink in de wijk Heuve\n",
      "[('Bestuur | Gemeenten',)]\n",
      "[()]\n",
      "De leden van D66 Westerkwartier hebben bij de verk\n",
      "[('Bestuur | Organisatie en beleid', 'Zorg en gezondheid | Organisatie en beleid')]\n",
      "[()]\n",
      "Vanavond is Jort Raemakers unaniem gekozen tot nie\n",
      "[('Economie | Overige economische sectoren',)]\n",
      "[()]\n",
      "Word jij de nieuwe voorzitter van GroenLinks Amste\n",
      "[('Zorg en gezondheid | Organisatie en beleid',)]\n",
      "[()]\n",
      "Reserveer vrijdag 25 en zaterdag 26 mei in je agen\n",
      "[('Onderwijs en wetenschap | Voortgezet onderwijs',)]\n",
      "[('Bestuur | Gemeenten',)]\n",
      "Er wordt om uw mening gevraagd. Vul de poll in en \n",
      "[('Werk | Werkgelegenheid',)]\n",
      "[('Werk | Werkgelegenheid',)]\n",
      "Op dinsdag 17 april bezocht onze fractie een infor\n",
      "[('Economie | Overige economische sectoren',)]\n",
      "[('Economie | Overige economische sectoren',)]\n",
      "Duurzaam LaarbeekGoed nieuws!!  Vele mooie kansen.\n",
      "[('Bestuur | Gemeenten',)]\n",
      "[()]\n",
      "Beste lezer, Er is weer veel gebeurt en er staat o\n",
      "[('Internationaal | Organisatie en beleid',)]\n",
      "[('Internationaal | Organisatie en beleid',)]\n",
      "The Rights ForumStaak de samenwerking met Israëls \n",
      "[('Openbare orde en veiligheid | Organisatie en beleid',)]\n",
      "[()]\n",
      "De Tweede Kamer vulde zich met alleen maar VVD’ers\n",
      "[('Internationaal | Europese zaken',)]\n",
      "[('Internationaal | Europese zaken',)]\n",
      "Maandag debatteerden Tweede Kamerleden en Europarl\n",
      "[('Zorg en gezondheid | Organisatie en beleid',)]\n",
      "[()]\n",
      "We zijn verdrietig omdat na een kort maar zwaar zi\n",
      "[('Economie | Overige economische sectoren', 'Natuur en milieu | Lucht')]\n",
      "[('Economie | Overige economische sectoren',)]\n",
      "VIDEO / OMROP FRYSLÂN — Se neame it in trendbreuk:\n",
      "[('Ruimte en infrastructuur | Ruimtelijke ordening', 'Verkeer | Weg', 'Zorg en gezondheid | Organisatie en beleid')]\n",
      "[('Zorg en gezondheid | Organisatie en beleid',)]\n",
      "Brede looproute rond havenkom, en ruimte voor hore\n",
      "[('Bestuur | Gemeenten', 'Zorg en gezondheid | Organisatie en beleid')]\n",
      "[()]\n",
      "\"De coalitiebesprekingen in Lochem ontwikkelen zic\n",
      "[('Zorg en gezondheid | Organisatie en beleid',)]\n",
      "[()]\n",
      "De ChristenUnie wil dat het kabinet meer ruimte ma\n",
      "[('Zorg en gezondheid | Ouderen',)]\n",
      "[('Zorg en gezondheid | Ouderen',)]\n",
      "Willen we dat onze ouderen lachend tachtig worden,\n",
      "[('Huisvesting | Organisatie en beleid',)]\n",
      "[()]\n",
      "In aanloop naar de gemeenteraadsverkiezingen op 21\n",
      "[('Bestuur | Gemeenten', 'Cultuur en recreatie | Kunst')]\n",
      "[()]\n",
      "Na vragen van PvdA-raadslid Arie de Zwart heeft he\n",
      "[('Verkeer | Weg', 'Zorg en gezondheid | Organisatie en beleid')]\n",
      "[()]\n",
      "In Alkmaar en omstreken gaan medio juli mogelijk m\n",
      "[('Bestuur | Organisatie en beleid', 'Sociale zekerheid | Organisatie en beleid')]\n",
      "[()]\n",
      "Met lef doorbouwen aan een trotse stad; een social\n",
      "[('Bestuur | Gemeenten', 'Verkeer | Luchtvaart')]\n",
      "[('Bestuur | Gemeenten',)]\n",
      "ONGELOOFLIJK! Niet uitgenodigd worden voor een ron\n",
      "[('Natuur en milieu | Afval',)]\n",
      "[()]\n",
      "Vandaag de grachten schoongevist met Plastic Whale\n",
      "[('Bestuur | Koninklijk Huis', 'Migratie en integratie | Immigratie')]\n",
      "[()]\n",
      "Wat een feestelijke lintjesregen met vele mooie me\n",
      "[('Bestuur | Gemeenten', 'Bestuur | Parlement')]\n",
      "[()]\n",
      "Vanmiddag heeft de informateur, Tom van der Lee, z\n",
      "[('Recht | Staatsrecht',)]\n",
      "[()]\n",
      "GroenLinksHet referendum over de sleepwet is geëin\n"
     ]
    }
   ],
   "source": [
    "for i in range(0,len(y_pred)):\n",
    "    if y_test[i].all() == y_pred[i].all():\n",
    "\n",
    "        print(mlb.inverse_transform(y_test[[i]]))        \n",
    "        print(mlb.inverse_transform(y_pred[[i]]))\n",
    "        \n",
    "        print(target_corpus[i][0:50])\n",
    "\n",
    "\n",
    "# misclassified_objects = target_corpus[y_pred != y_test]\n",
    "\n",
    "# for obj in misclassified_objects:\n",
    "#     print(obj[0:100])"
   ]
  },
  {
   "cell_type": "markdown",
   "metadata": {},
   "source": [
    "# OLD\n",
    "# -------"
   ]
  },
  {
   "cell_type": "markdown",
   "metadata": {},
   "source": [
    "# Evaluate classifier on test data"
   ]
  },
  {
   "cell_type": "code",
   "execution_count": 53,
   "metadata": {},
   "outputs": [],
   "source": [
    "y_source = mlb.fit_transform(source_labels)\n",
    "y_target = mlb.transform(target_labels)"
   ]
  },
  {
   "cell_type": "code",
   "execution_count": 54,
   "metadata": {},
   "outputs": [
    {
     "name": "stdout",
     "output_type": "stream",
     "text": [
      "(12160, 14113)\n"
     ]
    }
   ],
   "source": [
    "\n",
    "X_source = transformer.fit_transform(source_corpus)\n",
    "X_target = transformer.transform(target_corpus)\n",
    "\n",
    "print(np.shape(X_source))"
   ]
  },
  {
   "cell_type": "code",
   "execution_count": 55,
   "metadata": {},
   "outputs": [],
   "source": [
    "clf = SGDClassifier(loss='log', penalty='l1', alpha=1e-6, random_state=42, max_iter=10)\n",
    "clf = OneVsRestClassifier(clf).fit(X_source, y_source)"
   ]
  },
  {
   "cell_type": "code",
   "execution_count": 56,
   "metadata": {},
   "outputs": [],
   "source": [
    "X_s = transformer.transform(unlabeled_corpus[0:2])\n",
    "\n",
    "res = clf.predict(X_s)\n",
    "\n",
    "for obj in res:\n",
    "    if 1 in obj:\n",
    "        print(obj)"
   ]
  },
  {
   "cell_type": "code",
   "execution_count": 57,
   "metadata": {},
   "outputs": [],
   "source": [
    "semi_corpus = source_"
   ]
  },
  {
   "cell_type": "code",
   "execution_count": 72,
   "metadata": {},
   "outputs": [],
   "source": []
  },
  {
   "cell_type": "code",
   "execution_count": 73,
   "metadata": {},
   "outputs": [
    {
     "name": "stdout",
     "output_type": "stream",
     "text": [
      "P score: 0.28\n",
      "R score: 0.20\n",
      "F1 score: 0.24\n"
     ]
    }
   ],
   "source": []
  },
  {
   "cell_type": "code",
   "execution_count": null,
   "metadata": {},
   "outputs": [],
   "source": []
  }
 ],
 "metadata": {
  "kernelspec": {
   "display_name": "Python 3",
   "language": "python",
   "name": "python3"
  },
  "language_info": {
   "codemirror_mode": {
    "name": "ipython",
    "version": 3
   },
   "file_extension": ".py",
   "mimetype": "text/x-python",
   "name": "python",
   "nbconvert_exporter": "python",
   "pygments_lexer": "ipython3",
   "version": "3.6.3"
  }
 },
 "nbformat": 4,
 "nbformat_minor": 2
}
