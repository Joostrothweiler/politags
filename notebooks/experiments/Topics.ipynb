{
 "cells": [
  {
   "cell_type": "code",
   "execution_count": 119,
   "metadata": {},
   "outputs": [],
   "source": [
    "import numpy as np\n",
    "import json\n",
    "import matplotlib.pyplot as plt\n",
    "\n",
    "from sklearn.preprocessing import MultiLabelBinarizer\n",
    "from sklearn.multiclass import OneVsRestClassifier\n",
    "\n",
    "from sklearn.feature_extraction.text import TfidfVectorizer\n",
    "from sklearn.linear_model import SGDClassifier\n",
    "\n",
    "from sklearn.model_selection import ShuffleSplit\n",
    "from sklearn.model_selection import train_test_split\n",
    "\n",
    "from sklearn.model_selection import learning_curve\n",
    "from sklearn.metrics import accuracy_score\n",
    "from sklearn import metrics"
   ]
  },
  {
   "cell_type": "code",
   "execution_count": 120,
   "metadata": {},
   "outputs": [
    {
     "name": "stdout",
     "output_type": "stream",
     "text": [
      "4877\n",
      "4877\n"
     ]
    }
   ],
   "source": [
    "corpus = []\n",
    "labels = []\n",
    "files = [\n",
    "    'kamerstukken_topics-multi_20170101_20170301.json',\n",
    "    'kamerstukken_topics-multi_20170302_20170601.json',\n",
    "    'kamerstukken_topics-multi_20170602_20180101.json'\n",
    "]\n",
    "\n",
    "for file in files:\n",
    "    data = json.load(open('../../data_resources/topics/kamerstukken/{}'.format(file)))\n",
    "    for obj in data:\n",
    "        corpus.append(obj['content'])\n",
    "        labels.append(obj['categories'])\n",
    "\n",
    "\n",
    "print(len(corpus))\n",
    "print(len(labels))"
   ]
  },
  {
   "cell_type": "code",
   "execution_count": 121,
   "metadata": {},
   "outputs": [],
   "source": [
    "mlb = MultiLabelBinarizer()\n",
    "y = mlb.fit_transform(labels)"
   ]
  },
  {
   "cell_type": "code",
   "execution_count": 122,
   "metadata": {},
   "outputs": [],
   "source": [
    "transformer = TfidfVectorizer(smooth_idf=False, min_df=0.00001, max_df=0.08, sublinear_tf=True)"
   ]
  },
  {
   "cell_type": "code",
   "execution_count": 123,
   "metadata": {},
   "outputs": [
    {
     "name": "stdout",
     "output_type": "stream",
     "text": [
      "(3901, 56118)\n",
      "(976, 110)\n"
     ]
    }
   ],
   "source": [
    "X_train_corpus, X_test_corpus, y_train, y_test = train_test_split(corpus, y, test_size=0.2, random_state=42)\n",
    "\n",
    "X_train = transformer.fit_transform(X_train_corpus)\n",
    "X_test = transformer.transform(X_test_corpus)\n",
    "\n",
    "print(np.shape(X_train))\n",
    "print(np.shape(y_test))"
   ]
  },
  {
   "cell_type": "markdown",
   "metadata": {},
   "source": [
    "SGD loss optimized to 'log'\n",
    "\n",
    "penalty optimized to 'none'\n",
    "\n",
    "alpha optimized to '1e-6'"
   ]
  },
  {
   "cell_type": "code",
   "execution_count": 124,
   "metadata": {},
   "outputs": [
    {
     "name": "stdout",
     "output_type": "stream",
     "text": [
      "0.7264344262295082\n"
     ]
    }
   ],
   "source": [
    "clf = SGDClassifier(loss='log', penalty='none', alpha=1e-6, random_state=42, max_iter=10)\n",
    "clf = OneVsRestClassifier(clf).fit(X_train, y_train)\n",
    "\n",
    "y_pred = clf.predict(X_test)\n",
    "score = accuracy_score(y_test, y_pred)\n",
    "\n",
    "print(score)"
   ]
  },
  {
   "cell_type": "code",
   "execution_count": 125,
   "metadata": {},
   "outputs": [],
   "source": [
    "def plot_learning_curve(estimator, title, X, y, ylim=None, cv=None,\n",
    "                        n_jobs=1, train_sizes=np.linspace(.1, 1.0, 10)):\n",
    "    plt.figure()\n",
    "    plt.title(title)\n",
    "    if ylim is not None:\n",
    "        plt.ylim(*ylim)\n",
    "    plt.xlabel(\"Training examples\")\n",
    "    plt.ylabel(\"Score\")\n",
    "    \n",
    "    train_sizes, train_scores, test_scores = learning_curve(\n",
    "        estimator, X, y, cv=cv, n_jobs=n_jobs, train_sizes=train_sizes)\n",
    "    train_scores_mean = np.mean(train_scores, axis=1)\n",
    "    train_scores_std = np.std(train_scores, axis=1)\n",
    "    test_scores_mean = np.mean(test_scores, axis=1)\n",
    "    test_scores_std = np.std(test_scores, axis=1)\n",
    "    plt.grid()\n",
    "\n",
    "    plt.fill_between(train_sizes, train_scores_mean - train_scores_std,\n",
    "                     train_scores_mean + train_scores_std, alpha=0.1,\n",
    "                     color=\"r\")\n",
    "    plt.fill_between(train_sizes, test_scores_mean - test_scores_std,\n",
    "                     test_scores_mean + test_scores_std, alpha=0.1, color=\"g\")\n",
    "    plt.plot(train_sizes, train_scores_mean, 'o-', color=\"r\",\n",
    "             label=\"Training score\")\n",
    "    plt.plot(train_sizes, test_scores_mean, 'o-', color=\"g\",\n",
    "             label=\"Cross-validation score\")\n",
    "\n",
    "    plt.legend(loc=\"best\")\n",
    "    return plt"
   ]
  },
  {
   "cell_type": "code",
   "execution_count": 128,
   "metadata": {},
   "outputs": [
    {
     "name": "stderr",
     "output_type": "stream",
     "text": [
      "/home/rothweiler/.local/lib/python3.6/site-packages/sklearn/multiclass.py:76: UserWarning: Label not 2 is present in all training examples.\n",
      "  str(classes[c]))\n",
      "/home/rothweiler/.local/lib/python3.6/site-packages/sklearn/multiclass.py:76: UserWarning: Label not 5 is present in all training examples.\n",
      "  str(classes[c]))\n",
      "/home/rothweiler/.local/lib/python3.6/site-packages/sklearn/multiclass.py:76: UserWarning: Label not 7 is present in all training examples.\n",
      "  str(classes[c]))\n",
      "/home/rothweiler/.local/lib/python3.6/site-packages/sklearn/multiclass.py:76: UserWarning: Label not 18 is present in all training examples.\n",
      "  str(classes[c]))\n",
      "/home/rothweiler/.local/lib/python3.6/site-packages/sklearn/multiclass.py:76: UserWarning: Label not 24 is present in all training examples.\n",
      "  str(classes[c]))\n",
      "/home/rothweiler/.local/lib/python3.6/site-packages/sklearn/multiclass.py:76: UserWarning: Label not 39 is present in all training examples.\n",
      "  str(classes[c]))\n",
      "/home/rothweiler/.local/lib/python3.6/site-packages/sklearn/multiclass.py:76: UserWarning: Label not 42 is present in all training examples.\n",
      "  str(classes[c]))\n",
      "/home/rothweiler/.local/lib/python3.6/site-packages/sklearn/multiclass.py:76: UserWarning: Label not 44 is present in all training examples.\n",
      "  str(classes[c]))\n",
      "/home/rothweiler/.local/lib/python3.6/site-packages/sklearn/multiclass.py:76: UserWarning: Label not 49 is present in all training examples.\n",
      "  str(classes[c]))\n",
      "/home/rothweiler/.local/lib/python3.6/site-packages/sklearn/multiclass.py:76: UserWarning: Label not 62 is present in all training examples.\n",
      "  str(classes[c]))\n",
      "/home/rothweiler/.local/lib/python3.6/site-packages/sklearn/multiclass.py:76: UserWarning: Label not 69 is present in all training examples.\n",
      "  str(classes[c]))\n",
      "/home/rothweiler/.local/lib/python3.6/site-packages/sklearn/multiclass.py:76: UserWarning: Label not 81 is present in all training examples.\n",
      "  str(classes[c]))\n",
      "/home/rothweiler/.local/lib/python3.6/site-packages/sklearn/multiclass.py:76: UserWarning: Label not 82 is present in all training examples.\n",
      "  str(classes[c]))\n",
      "/home/rothweiler/.local/lib/python3.6/site-packages/sklearn/multiclass.py:76: UserWarning: Label not 84 is present in all training examples.\n",
      "  str(classes[c]))\n",
      "/home/rothweiler/.local/lib/python3.6/site-packages/sklearn/multiclass.py:76: UserWarning: Label not 85 is present in all training examples.\n",
      "  str(classes[c]))\n",
      "/home/rothweiler/.local/lib/python3.6/site-packages/sklearn/multiclass.py:76: UserWarning: Label not 88 is present in all training examples.\n",
      "  str(classes[c]))\n",
      "/home/rothweiler/.local/lib/python3.6/site-packages/sklearn/multiclass.py:76: UserWarning: Label not 89 is present in all training examples.\n",
      "  str(classes[c]))\n",
      "/home/rothweiler/.local/lib/python3.6/site-packages/sklearn/multiclass.py:76: UserWarning: Label not 91 is present in all training examples.\n",
      "  str(classes[c]))\n",
      "/home/rothweiler/.local/lib/python3.6/site-packages/sklearn/multiclass.py:76: UserWarning: Label not 97 is present in all training examples.\n",
      "  str(classes[c]))\n",
      "/home/rothweiler/.local/lib/python3.6/site-packages/sklearn/multiclass.py:76: UserWarning: Label not 2 is present in all training examples.\n",
      "  str(classes[c]))\n",
      "/home/rothweiler/.local/lib/python3.6/site-packages/sklearn/multiclass.py:76: UserWarning: Label not 5 is present in all training examples.\n",
      "  str(classes[c]))\n",
      "/home/rothweiler/.local/lib/python3.6/site-packages/sklearn/multiclass.py:76: UserWarning: Label not 7 is present in all training examples.\n",
      "  str(classes[c]))\n",
      "/home/rothweiler/.local/lib/python3.6/site-packages/sklearn/multiclass.py:76: UserWarning: Label not 24 is present in all training examples.\n",
      "  str(classes[c]))\n",
      "/home/rothweiler/.local/lib/python3.6/site-packages/sklearn/multiclass.py:76: UserWarning: Label not 39 is present in all training examples.\n",
      "  str(classes[c]))\n",
      "/home/rothweiler/.local/lib/python3.6/site-packages/sklearn/multiclass.py:76: UserWarning: Label not 42 is present in all training examples.\n",
      "  str(classes[c]))\n",
      "/home/rothweiler/.local/lib/python3.6/site-packages/sklearn/multiclass.py:76: UserWarning: Label not 44 is present in all training examples.\n",
      "  str(classes[c]))\n",
      "/home/rothweiler/.local/lib/python3.6/site-packages/sklearn/multiclass.py:76: UserWarning: Label not 81 is present in all training examples.\n",
      "  str(classes[c]))\n",
      "/home/rothweiler/.local/lib/python3.6/site-packages/sklearn/multiclass.py:76: UserWarning: Label not 84 is present in all training examples.\n",
      "  str(classes[c]))\n",
      "/home/rothweiler/.local/lib/python3.6/site-packages/sklearn/multiclass.py:76: UserWarning: Label not 89 is present in all training examples.\n",
      "  str(classes[c]))\n",
      "/home/rothweiler/.local/lib/python3.6/site-packages/sklearn/multiclass.py:76: UserWarning: Label not 97 is present in all training examples.\n",
      "  str(classes[c]))\n",
      "/home/rothweiler/.local/lib/python3.6/site-packages/sklearn/multiclass.py:76: UserWarning: Label not 2 is present in all training examples.\n",
      "  str(classes[c]))\n",
      "/home/rothweiler/.local/lib/python3.6/site-packages/sklearn/multiclass.py:76: UserWarning: Label not 7 is present in all training examples.\n",
      "  str(classes[c]))\n",
      "/home/rothweiler/.local/lib/python3.6/site-packages/sklearn/multiclass.py:76: UserWarning: Label not 42 is present in all training examples.\n",
      "  str(classes[c]))\n",
      "/home/rothweiler/.local/lib/python3.6/site-packages/sklearn/multiclass.py:76: UserWarning: Label not 44 is present in all training examples.\n",
      "  str(classes[c]))\n",
      "/home/rothweiler/.local/lib/python3.6/site-packages/sklearn/multiclass.py:76: UserWarning: Label not 2 is present in all training examples.\n",
      "  str(classes[c]))\n",
      "/home/rothweiler/.local/lib/python3.6/site-packages/sklearn/multiclass.py:76: UserWarning: Label not 7 is present in all training examples.\n",
      "  str(classes[c]))\n",
      "/home/rothweiler/.local/lib/python3.6/site-packages/sklearn/multiclass.py:76: UserWarning: Label not 42 is present in all training examples.\n",
      "  str(classes[c]))\n",
      "/home/rothweiler/.local/lib/python3.6/site-packages/sklearn/multiclass.py:76: UserWarning: Label not 44 is present in all training examples.\n",
      "  str(classes[c]))\n",
      "/home/rothweiler/.local/lib/python3.6/site-packages/sklearn/multiclass.py:76: UserWarning: Label not 2 is present in all training examples.\n",
      "  str(classes[c]))\n",
      "/home/rothweiler/.local/lib/python3.6/site-packages/sklearn/multiclass.py:76: UserWarning: Label not 7 is present in all training examples.\n",
      "  str(classes[c]))\n",
      "/home/rothweiler/.local/lib/python3.6/site-packages/sklearn/multiclass.py:76: UserWarning: Label not 42 is present in all training examples.\n",
      "  str(classes[c]))\n",
      "/home/rothweiler/.local/lib/python3.6/site-packages/sklearn/multiclass.py:76: UserWarning: Label not 44 is present in all training examples.\n",
      "  str(classes[c]))\n",
      "/home/rothweiler/.local/lib/python3.6/site-packages/sklearn/multiclass.py:76: UserWarning: Label not 2 is present in all training examples.\n",
      "  str(classes[c]))\n",
      "/home/rothweiler/.local/lib/python3.6/site-packages/sklearn/multiclass.py:76: UserWarning: Label not 42 is present in all training examples.\n",
      "  str(classes[c]))\n",
      "/home/rothweiler/.local/lib/python3.6/site-packages/sklearn/multiclass.py:76: UserWarning: Label not 44 is present in all training examples.\n",
      "  str(classes[c]))\n",
      "/home/rothweiler/.local/lib/python3.6/site-packages/sklearn/multiclass.py:76: UserWarning: Label not 2 is present in all training examples.\n",
      "  str(classes[c]))\n",
      "/home/rothweiler/.local/lib/python3.6/site-packages/sklearn/multiclass.py:76: UserWarning: Label not 44 is present in all training examples.\n",
      "  str(classes[c]))\n",
      "/home/rothweiler/.local/lib/python3.6/site-packages/sklearn/multiclass.py:76: UserWarning: Label not 2 is present in all training examples.\n",
      "  str(classes[c]))\n",
      "/home/rothweiler/.local/lib/python3.6/site-packages/sklearn/multiclass.py:76: UserWarning: Label not 44 is present in all training examples.\n",
      "  str(classes[c]))\n",
      "/home/rothweiler/.local/lib/python3.6/site-packages/sklearn/multiclass.py:76: UserWarning: Label not 2 is present in all training examples.\n",
      "  str(classes[c]))\n"
     ]
    },
    {
     "data": {
      "text/plain": [
       "<module 'matplotlib.pyplot' from '/home/rothweiler/.local/lib/python3.6/site-packages/matplotlib/pyplot.py'>"
      ]
     },
     "execution_count": 128,
     "metadata": {},
     "output_type": "execute_result"
    },
    {
     "data": {
      "image/png": "[encoded data removed]",
      "text/plain": [
       "<matplotlib.figure.Figure at 0x7f57847f67b8>"
      ]
     },
     "metadata": {},
     "output_type": "display_data"
    }
   ],
   "source": [
    "title = \"Learning Curves\"\n",
    "# Cross validation with 100 iterations to get smoother mean test and train\n",
    "# score curves, each time with 20% data randomly selected as a validation set.\n",
    "cv = ShuffleSplit(n_splits=1, test_size=0.2, random_state=0)\n",
    "\n",
    "X = transformer.fit_transform(corpus)\n",
    "plot_learning_curve(clf, title, X, y, ylim=(0.0, 1.01), cv=cv, n_jobs=1)"
   ]
  },
  {
   "cell_type": "code",
   "execution_count": null,
   "metadata": {},
   "outputs": [],
   "source": []
  }
 ],
 "metadata": {
  "kernelspec": {
   "display_name": "Python 3",
   "language": "python",
   "name": "python3"
  },
  "language_info": {
   "codemirror_mode": {
    "name": "ipython",
    "version": 3
   },
   "file_extension": ".py",
   "mimetype": "text/x-python",
   "name": "python",
   "nbconvert_exporter": "python",
   "pygments_lexer": "ipython3",
   "version": "3.6.3"
  }
 },
 "nbformat": 4,
 "nbformat_minor": 2
}
